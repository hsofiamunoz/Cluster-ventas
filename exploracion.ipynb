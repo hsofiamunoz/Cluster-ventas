{
 "cells": [
  {
   "cell_type": "code",
   "execution_count": 1,
   "metadata": {},
   "outputs": [],
   "source": [
    "import pandas as pd\n",
    "import numpy as np\n",
    "import matplotlib.pyplot as plt\n",
    "import seaborn as sns\n",
    "from sklearn.cluster import KMeans\n",
    "from sklearn.preprocessing import MinMaxScaler\n",
    "from sklearn.metrics import silhouette_score\n",
    "from scipy.spatial.distance import cdist\n",
    "from sklearn.cluster import AgglomerativeClustering\n",
    "\n",
    "\n",
    "import pandas as pd\n",
    "import numpy as np\n",
    "from sklearn.cluster import KMeans\n",
    "from sklearn.preprocessing import StandardScaler\n",
    "import matplotlib.pyplot as plt\n",
    "import seaborn as sns\n",
    "\n",
    "pd.set_option('display.max_columns', None)"
   ]
  },
  {
   "cell_type": "code",
   "execution_count": 2,
   "metadata": {},
   "outputs": [],
   "source": [
    "df = pd.read_excel('info.xlsx',sheet_name=1)\n",
    "\n",
    "df_original = df.copy()"
   ]
  },
  {
   "cell_type": "code",
   "execution_count": 3,
   "metadata": {},
   "outputs": [
    {
     "ename": "NameError",
     "evalue": "name 'ffff' is not defined",
     "output_type": "error",
     "traceback": [
      "\u001b[1;31m---------------------------------------------------------------------------\u001b[0m",
      "\u001b[1;31mNameError\u001b[0m                                 Traceback (most recent call last)",
      "Cell \u001b[1;32mIn[3], line 1\u001b[0m\n\u001b[1;32m----> 1\u001b[0m \u001b[43mffff\u001b[49m\n",
      "\u001b[1;31mNameError\u001b[0m: name 'ffff' is not defined"
     ]
    }
   ],
   "source": [
    "ffff"
   ]
  },
  {
   "cell_type": "code",
   "execution_count": 4,
   "metadata": {},
   "outputs": [
    {
     "data": {
      "text/plain": [
       "Index(['PUNTO_VENTA', 'COD_PUNTO_VENTA', 'CONTRIBUCION', 'ROTACION',\n",
       "       'VENTA_POR_MES', 'MARGEN', 'VENTA_PESOS', 'VENTA_UNDS', 'INDICE',\n",
       "       'CLUSTER', 'RANKING', 'CONCEPTO', 'DESPACHO', 'COSTO',\n",
       "       'PARTICIPACIÓN %', 'MES_VENTA'],\n",
       "      dtype='object')"
      ]
     },
     "execution_count": 4,
     "metadata": {},
     "output_type": "execute_result"
    }
   ],
   "source": [
    "df.columns"
   ]
  },
  {
   "cell_type": "code",
   "execution_count": 5,
   "metadata": {},
   "outputs": [
    {
     "data": {
      "text/html": [
       "<div>\n",
       "<style scoped>\n",
       "    .dataframe tbody tr th:only-of-type {\n",
       "        vertical-align: middle;\n",
       "    }\n",
       "\n",
       "    .dataframe tbody tr th {\n",
       "        vertical-align: top;\n",
       "    }\n",
       "\n",
       "    .dataframe thead th {\n",
       "        text-align: right;\n",
       "    }\n",
       "</style>\n",
       "<table border=\"1\" class=\"dataframe\">\n",
       "  <thead>\n",
       "    <tr style=\"text-align: right;\">\n",
       "      <th></th>\n",
       "      <th>PUNTO_VENTA</th>\n",
       "      <th>COD_PUNTO_VENTA</th>\n",
       "      <th>CONTRIBUCION</th>\n",
       "      <th>ROTACION</th>\n",
       "      <th>VENTA_POR_MES</th>\n",
       "      <th>MARGEN</th>\n",
       "      <th>VENTA_PESOS</th>\n",
       "      <th>VENTA_UNDS</th>\n",
       "      <th>INDICE</th>\n",
       "      <th>CLUSTER</th>\n",
       "      <th>RANKING</th>\n",
       "      <th>CONCEPTO</th>\n",
       "      <th>DESPACHO</th>\n",
       "      <th>COSTO</th>\n",
       "      <th>PARTICIPACIÓN %</th>\n",
       "      <th>MES_VENTA</th>\n",
       "    </tr>\n",
       "  </thead>\n",
       "  <tbody>\n",
       "    <tr>\n",
       "      <th>0</th>\n",
       "      <td>TIENDA ARKADIA</td>\n",
       "      <td>T093</td>\n",
       "      <td>1828644.00</td>\n",
       "      <td>0.854435</td>\n",
       "      <td>112.7</td>\n",
       "      <td>0.858769</td>\n",
       "      <td>2129378.00</td>\n",
       "      <td>1127</td>\n",
       "      <td>2.966199</td>\n",
       "      <td>grupo1</td>\n",
       "      <td>1</td>\n",
       "      <td>CUIDADO PERSONAL</td>\n",
       "      <td>1319</td>\n",
       "      <td>300733.926</td>\n",
       "      <td>0.053814</td>\n",
       "      <td>10</td>\n",
       "    </tr>\n",
       "    <tr>\n",
       "      <th>1</th>\n",
       "      <td>TIENDA  VIVA ENVIGADO</td>\n",
       "      <td>T084</td>\n",
       "      <td>1820093.00</td>\n",
       "      <td>0.866409</td>\n",
       "      <td>89.5</td>\n",
       "      <td>0.846072</td>\n",
       "      <td>2151227.00</td>\n",
       "      <td>895</td>\n",
       "      <td>2.536614</td>\n",
       "      <td>grupo1</td>\n",
       "      <td>2</td>\n",
       "      <td>CUIDADO PERSONAL</td>\n",
       "      <td>1033</td>\n",
       "      <td>331133.668</td>\n",
       "      <td>0.030011</td>\n",
       "      <td>10</td>\n",
       "    </tr>\n",
       "    <tr>\n",
       "      <th>2</th>\n",
       "      <td>VENTURA PLAZA CUCUTA</td>\n",
       "      <td>FN66</td>\n",
       "      <td>1842979.00</td>\n",
       "      <td>0.855305</td>\n",
       "      <td>79.8</td>\n",
       "      <td>0.866880</td>\n",
       "      <td>2125992.00</td>\n",
       "      <td>798</td>\n",
       "      <td>2.250529</td>\n",
       "      <td>grupo1</td>\n",
       "      <td>3</td>\n",
       "      <td>CUIDADO PERSONAL</td>\n",
       "      <td>933</td>\n",
       "      <td>283012.121</td>\n",
       "      <td>0.023386</td>\n",
       "      <td>10</td>\n",
       "    </tr>\n",
       "    <tr>\n",
       "      <th>3</th>\n",
       "      <td>TIENDA SAN DIEGO</td>\n",
       "      <td>T024</td>\n",
       "      <td>1721450.00</td>\n",
       "      <td>0.840758</td>\n",
       "      <td>88.7</td>\n",
       "      <td>0.852838</td>\n",
       "      <td>2018496.00</td>\n",
       "      <td>887</td>\n",
       "      <td>2.208455</td>\n",
       "      <td>grupo1</td>\n",
       "      <td>4</td>\n",
       "      <td>CUIDADO PERSONAL</td>\n",
       "      <td>1055</td>\n",
       "      <td>297045.618</td>\n",
       "      <td>0.037486</td>\n",
       "      <td>10</td>\n",
       "    </tr>\n",
       "    <tr>\n",
       "      <th>4</th>\n",
       "      <td>TIENDA MAYORCA</td>\n",
       "      <td>T067</td>\n",
       "      <td>1778113.00</td>\n",
       "      <td>0.857143</td>\n",
       "      <td>82.2</td>\n",
       "      <td>0.861559</td>\n",
       "      <td>2063832.00</td>\n",
       "      <td>822</td>\n",
       "      <td>2.191551</td>\n",
       "      <td>grupo1</td>\n",
       "      <td>5</td>\n",
       "      <td>CUIDADO PERSONAL</td>\n",
       "      <td>959</td>\n",
       "      <td>285718.741</td>\n",
       "      <td>0.034712</td>\n",
       "      <td>10</td>\n",
       "    </tr>\n",
       "    <tr>\n",
       "      <th>...</th>\n",
       "      <td>...</td>\n",
       "      <td>...</td>\n",
       "      <td>...</td>\n",
       "      <td>...</td>\n",
       "      <td>...</td>\n",
       "      <td>...</td>\n",
       "      <td>...</td>\n",
       "      <td>...</td>\n",
       "      <td>...</td>\n",
       "      <td>...</td>\n",
       "      <td>...</td>\n",
       "      <td>...</td>\n",
       "      <td>...</td>\n",
       "      <td>...</td>\n",
       "      <td>...</td>\n",
       "      <td>...</td>\n",
       "    </tr>\n",
       "    <tr>\n",
       "      <th>80</th>\n",
       "      <td>OFFCORSS AGUACHICA</td>\n",
       "      <td>FN92</td>\n",
       "      <td>1100750.00</td>\n",
       "      <td>0.468000</td>\n",
       "      <td>11.7</td>\n",
       "      <td>0.854252</td>\n",
       "      <td>1288555.00</td>\n",
       "      <td>117</td>\n",
       "      <td>-2.601978</td>\n",
       "      <td>grupo4</td>\n",
       "      <td>81</td>\n",
       "      <td>CUIDADO PERSONAL</td>\n",
       "      <td>250</td>\n",
       "      <td>187804.845</td>\n",
       "      <td>0.025871</td>\n",
       "      <td>10</td>\n",
       "    </tr>\n",
       "    <tr>\n",
       "      <th>81</th>\n",
       "      <td>TIENDA OFFCORSS TULUA</td>\n",
       "      <td>FN41</td>\n",
       "      <td>516692.10</td>\n",
       "      <td>0.561947</td>\n",
       "      <td>25.4</td>\n",
       "      <td>0.865128</td>\n",
       "      <td>597243.70</td>\n",
       "      <td>127</td>\n",
       "      <td>-3.345622</td>\n",
       "      <td>grupo4</td>\n",
       "      <td>82</td>\n",
       "      <td>CUIDADO PERSONAL</td>\n",
       "      <td>226</td>\n",
       "      <td>80551.622</td>\n",
       "      <td>0.038723</td>\n",
       "      <td>5</td>\n",
       "    </tr>\n",
       "    <tr>\n",
       "      <th>82</th>\n",
       "      <td>OFFCORSS GRANADA</td>\n",
       "      <td>FN42</td>\n",
       "      <td>775278.60</td>\n",
       "      <td>0.403226</td>\n",
       "      <td>12.5</td>\n",
       "      <td>0.856972</td>\n",
       "      <td>904672.30</td>\n",
       "      <td>75</td>\n",
       "      <td>-3.523319</td>\n",
       "      <td>grupo4</td>\n",
       "      <td>83</td>\n",
       "      <td>CUIDADO PERSONAL</td>\n",
       "      <td>186</td>\n",
       "      <td>129393.712</td>\n",
       "      <td>0.011671</td>\n",
       "      <td>6</td>\n",
       "    </tr>\n",
       "    <tr>\n",
       "      <th>83</th>\n",
       "      <td>OFFCORSS VILLANUEVA</td>\n",
       "      <td>FN39</td>\n",
       "      <td>213384.20</td>\n",
       "      <td>0.272727</td>\n",
       "      <td>30.0</td>\n",
       "      <td>0.819437</td>\n",
       "      <td>260403.40</td>\n",
       "      <td>30</td>\n",
       "      <td>-4.742404</td>\n",
       "      <td>grupo4</td>\n",
       "      <td>84</td>\n",
       "      <td>CUIDADO PERSONAL</td>\n",
       "      <td>110</td>\n",
       "      <td>47019.164</td>\n",
       "      <td>0.031024</td>\n",
       "      <td>1</td>\n",
       "    </tr>\n",
       "    <tr>\n",
       "      <th>84</th>\n",
       "      <td>TIENDA  ARRAYANES</td>\n",
       "      <td>T104</td>\n",
       "      <td>19304.99</td>\n",
       "      <td>0.000000</td>\n",
       "      <td>2.0</td>\n",
       "      <td>0.999693</td>\n",
       "      <td>19310.92</td>\n",
       "      <td>2</td>\n",
       "      <td>-6.276646</td>\n",
       "      <td>grupo4</td>\n",
       "      <td>85</td>\n",
       "      <td>CUIDADO PERSONAL</td>\n",
       "      <td>0</td>\n",
       "      <td>5.931</td>\n",
       "      <td>0.004211</td>\n",
       "      <td>1</td>\n",
       "    </tr>\n",
       "  </tbody>\n",
       "</table>\n",
       "<p>85 rows × 16 columns</p>\n",
       "</div>"
      ],
      "text/plain": [
       "              PUNTO_VENTA COD_PUNTO_VENTA  CONTRIBUCION  ROTACION  \\\n",
       "0          TIENDA ARKADIA            T093    1828644.00  0.854435   \n",
       "1   TIENDA  VIVA ENVIGADO            T084    1820093.00  0.866409   \n",
       "2    VENTURA PLAZA CUCUTA            FN66    1842979.00  0.855305   \n",
       "3        TIENDA SAN DIEGO            T024    1721450.00  0.840758   \n",
       "4          TIENDA MAYORCA            T067    1778113.00  0.857143   \n",
       "..                    ...             ...           ...       ...   \n",
       "80     OFFCORSS AGUACHICA            FN92    1100750.00  0.468000   \n",
       "81  TIENDA OFFCORSS TULUA            FN41     516692.10  0.561947   \n",
       "82       OFFCORSS GRANADA            FN42     775278.60  0.403226   \n",
       "83    OFFCORSS VILLANUEVA            FN39     213384.20  0.272727   \n",
       "84      TIENDA  ARRAYANES            T104      19304.99  0.000000   \n",
       "\n",
       "    VENTA_POR_MES    MARGEN  VENTA_PESOS  VENTA_UNDS    INDICE CLUSTER  \\\n",
       "0           112.7  0.858769   2129378.00        1127  2.966199  grupo1   \n",
       "1            89.5  0.846072   2151227.00         895  2.536614  grupo1   \n",
       "2            79.8  0.866880   2125992.00         798  2.250529  grupo1   \n",
       "3            88.7  0.852838   2018496.00         887  2.208455  grupo1   \n",
       "4            82.2  0.861559   2063832.00         822  2.191551  grupo1   \n",
       "..            ...       ...          ...         ...       ...     ...   \n",
       "80           11.7  0.854252   1288555.00         117 -2.601978  grupo4   \n",
       "81           25.4  0.865128    597243.70         127 -3.345622  grupo4   \n",
       "82           12.5  0.856972    904672.30          75 -3.523319  grupo4   \n",
       "83           30.0  0.819437    260403.40          30 -4.742404  grupo4   \n",
       "84            2.0  0.999693     19310.92           2 -6.276646  grupo4   \n",
       "\n",
       "    RANKING          CONCEPTO  DESPACHO       COSTO  PARTICIPACIÓN %  \\\n",
       "0         1  CUIDADO PERSONAL      1319  300733.926         0.053814   \n",
       "1         2  CUIDADO PERSONAL      1033  331133.668         0.030011   \n",
       "2         3  CUIDADO PERSONAL       933  283012.121         0.023386   \n",
       "3         4  CUIDADO PERSONAL      1055  297045.618         0.037486   \n",
       "4         5  CUIDADO PERSONAL       959  285718.741         0.034712   \n",
       "..      ...               ...       ...         ...              ...   \n",
       "80       81  CUIDADO PERSONAL       250  187804.845         0.025871   \n",
       "81       82  CUIDADO PERSONAL       226   80551.622         0.038723   \n",
       "82       83  CUIDADO PERSONAL       186  129393.712         0.011671   \n",
       "83       84  CUIDADO PERSONAL       110   47019.164         0.031024   \n",
       "84       85  CUIDADO PERSONAL         0       5.931         0.004211   \n",
       "\n",
       "    MES_VENTA  \n",
       "0          10  \n",
       "1          10  \n",
       "2          10  \n",
       "3          10  \n",
       "4          10  \n",
       "..        ...  \n",
       "80         10  \n",
       "81          5  \n",
       "82          6  \n",
       "83          1  \n",
       "84          1  \n",
       "\n",
       "[85 rows x 16 columns]"
      ]
     },
     "execution_count": 5,
     "metadata": {},
     "output_type": "execute_result"
    }
   ],
   "source": [
    "df"
   ]
  },
  {
   "cell_type": "code",
   "execution_count": 6,
   "metadata": {},
   "outputs": [],
   "source": [
    "df =  df[['PUNTO_VENTA',  'CONTRIBUCION', 'ROTACION',\n",
    "       'VENTA_POR_MES', 'MARGEN', 'VENTA_PESOS', 'VENTA_UNDS', 'COSTO']].set_index('PUNTO_VENTA')"
   ]
  },
  {
   "cell_type": "code",
   "execution_count": 7,
   "metadata": {},
   "outputs": [
    {
     "ename": "NameError",
     "evalue": "name 'df_result2' is not defined",
     "output_type": "error",
     "traceback": [
      "\u001b[1;31m---------------------------------------------------------------------------\u001b[0m",
      "\u001b[1;31mNameError\u001b[0m                                 Traceback (most recent call last)",
      "Cell \u001b[1;32mIn[7], line 1\u001b[0m\n\u001b[1;32m----> 1\u001b[0m \u001b[43mdf_result2\u001b[49m\u001b[38;5;241m.\u001b[39mgroupby(\u001b[38;5;124m'\u001b[39m\u001b[38;5;124mCLUSTER\u001b[39m\u001b[38;5;124m'\u001b[39m)\u001b[38;5;241m.\u001b[39magg(\n\u001b[0;32m      2\u001b[0m     indice_min \u001b[38;5;241m=\u001b[39m (\u001b[38;5;124m'\u001b[39m\u001b[38;5;124mRANKING\u001b[39m\u001b[38;5;124m'\u001b[39m, \u001b[38;5;124m'\u001b[39m\u001b[38;5;124mmin\u001b[39m\u001b[38;5;124m'\u001b[39m),\n\u001b[0;32m      3\u001b[0m     indice_max \u001b[38;5;241m=\u001b[39m (\u001b[38;5;124m'\u001b[39m\u001b[38;5;124mRANKING\u001b[39m\u001b[38;5;124m'\u001b[39m, \u001b[38;5;124m'\u001b[39m\u001b[38;5;124mmax\u001b[39m\u001b[38;5;124m'\u001b[39m),\n\u001b[0;32m      4\u001b[0m )\n",
      "\u001b[1;31mNameError\u001b[0m: name 'df_result2' is not defined"
     ]
    }
   ],
   "source": [
    "df_result2.groupby('CLUSTER').agg(\n",
    "    indice_min = ('RANKING', 'min'),\n",
    "    indice_max = ('RANKING', 'max'),\n",
    ")"
   ]
  },
  {
   "cell_type": "markdown",
   "metadata": {},
   "source": [
    "### PCA"
   ]
  },
  {
   "cell_type": "code",
   "execution_count": 8,
   "metadata": {},
   "outputs": [],
   "source": [
    "from sklearn.decomposition import PCA\n",
    "from sklearn import preprocessing"
   ]
  },
  {
   "cell_type": "code",
   "execution_count": 9,
   "metadata": {},
   "outputs": [
    {
     "data": {
      "text/plain": [
       "Index(['CONTRIBUCION', 'ROTACION', 'VENTA_POR_MES', 'MARGEN', 'VENTA_PESOS',\n",
       "       'VENTA_UNDS', 'COSTO'],\n",
       "      dtype='object')"
      ]
     },
     "execution_count": 9,
     "metadata": {},
     "output_type": "execute_result"
    }
   ],
   "source": [
    "df.columns"
   ]
  },
  {
   "cell_type": "code",
   "execution_count": 49,
   "metadata": {},
   "outputs": [],
   "source": [
    "variables_explicativas = ['CONTRIBUCION', 'ROTACION', 'VENTA_POR_MES', 'MARGEN', 'VENTA_PESOS', 'VENTA_UNDS']\n",
    "# variables_explicativas = ['VENTA_PESOS', 'VENTA_UNDS', 'VENTA_POR_MES', 'COSTO', 'MARGEN', 'CONTRIBUCION']\n",
    "X = df[variables_explicativas].dropna()\n",
    "\n",
    "# Estandarización de los datos\n",
    "scaler = StandardScaler()\n",
    "X_scaled = scaler.fit_transform(X)\n",
    "\n",
    "# Aplicación de PCA\n",
    "pca = PCA()\n",
    "pca_result = pca.fit_transform(X_scaled)\n",
    "\n",
    "# DataFrame con resultados de PCA\n",
    "pca_df = pd.DataFrame(pca_result, columns=[f'z{i+1}' for i in range(pca_result.shape[1])])"
   ]
  },
  {
   "cell_type": "code",
   "execution_count": 50,
   "metadata": {},
   "outputs": [
    {
     "data": {
      "text/html": [
       "<div>\n",
       "<style scoped>\n",
       "    .dataframe tbody tr th:only-of-type {\n",
       "        vertical-align: middle;\n",
       "    }\n",
       "\n",
       "    .dataframe tbody tr th {\n",
       "        vertical-align: top;\n",
       "    }\n",
       "\n",
       "    .dataframe thead th {\n",
       "        text-align: right;\n",
       "    }\n",
       "</style>\n",
       "<table border=\"1\" class=\"dataframe\">\n",
       "  <thead>\n",
       "    <tr style=\"text-align: right;\">\n",
       "      <th></th>\n",
       "      <th>z1</th>\n",
       "      <th>z2</th>\n",
       "      <th>z3</th>\n",
       "      <th>z4</th>\n",
       "      <th>z5</th>\n",
       "      <th>z6</th>\n",
       "    </tr>\n",
       "  </thead>\n",
       "  <tbody>\n",
       "    <tr>\n",
       "      <th>0</th>\n",
       "      <td>-4.256885</td>\n",
       "      <td>2.167685</td>\n",
       "      <td>1.958596</td>\n",
       "      <td>-0.634667</td>\n",
       "      <td>-0.054238</td>\n",
       "      <td>-0.052228</td>\n",
       "    </tr>\n",
       "    <tr>\n",
       "      <th>1</th>\n",
       "      <td>-3.486483</td>\n",
       "      <td>0.826511</td>\n",
       "      <td>1.276921</td>\n",
       "      <td>-0.261422</td>\n",
       "      <td>-0.052662</td>\n",
       "      <td>0.009365</td>\n",
       "    </tr>\n",
       "    <tr>\n",
       "      <th>2</th>\n",
       "      <td>-2.814853</td>\n",
       "      <td>1.296928</td>\n",
       "      <td>0.427982</td>\n",
       "      <td>-0.125788</td>\n",
       "      <td>0.034295</td>\n",
       "      <td>-0.021800</td>\n",
       "    </tr>\n",
       "    <tr>\n",
       "      <th>3</th>\n",
       "      <td>-3.005221</td>\n",
       "      <td>1.139776</td>\n",
       "      <td>1.411622</td>\n",
       "      <td>-0.214266</td>\n",
       "      <td>-0.066722</td>\n",
       "      <td>-0.019432</td>\n",
       "    </tr>\n",
       "    <tr>\n",
       "      <th>4</th>\n",
       "      <td>-2.821156</td>\n",
       "      <td>1.214280</td>\n",
       "      <td>0.806263</td>\n",
       "      <td>-0.063254</td>\n",
       "      <td>-0.008979</td>\n",
       "      <td>-0.018506</td>\n",
       "    </tr>\n",
       "    <tr>\n",
       "      <th>...</th>\n",
       "      <td>...</td>\n",
       "      <td>...</td>\n",
       "      <td>...</td>\n",
       "      <td>...</td>\n",
       "      <td>...</td>\n",
       "      <td>...</td>\n",
       "    </tr>\n",
       "    <tr>\n",
       "      <th>80</th>\n",
       "      <td>3.150641</td>\n",
       "      <td>-1.113171</td>\n",
       "      <td>0.329016</td>\n",
       "      <td>-0.482761</td>\n",
       "      <td>-0.151348</td>\n",
       "      <td>-0.056337</td>\n",
       "    </tr>\n",
       "    <tr>\n",
       "      <th>81</th>\n",
       "      <td>4.234338</td>\n",
       "      <td>-0.025163</td>\n",
       "      <td>1.989367</td>\n",
       "      <td>1.101615</td>\n",
       "      <td>0.081837</td>\n",
       "      <td>0.024125</td>\n",
       "    </tr>\n",
       "    <tr>\n",
       "      <th>82</th>\n",
       "      <td>4.351412</td>\n",
       "      <td>-0.835323</td>\n",
       "      <td>1.189195</td>\n",
       "      <td>-0.311337</td>\n",
       "      <td>-0.090559</td>\n",
       "      <td>-0.053767</td>\n",
       "    </tr>\n",
       "    <tr>\n",
       "      <th>83</th>\n",
       "      <td>5.601706</td>\n",
       "      <td>-1.676459</td>\n",
       "      <td>4.047825</td>\n",
       "      <td>-0.424180</td>\n",
       "      <td>0.349041</td>\n",
       "      <td>-0.019440</td>\n",
       "    </tr>\n",
       "    <tr>\n",
       "      <th>84</th>\n",
       "      <td>9.712374</td>\n",
       "      <td>5.010413</td>\n",
       "      <td>0.121468</td>\n",
       "      <td>-1.116151</td>\n",
       "      <td>-0.149918</td>\n",
       "      <td>0.115321</td>\n",
       "    </tr>\n",
       "  </tbody>\n",
       "</table>\n",
       "<p>85 rows × 6 columns</p>\n",
       "</div>"
      ],
      "text/plain": [
       "          z1        z2        z3        z4        z5        z6\n",
       "0  -4.256885  2.167685  1.958596 -0.634667 -0.054238 -0.052228\n",
       "1  -3.486483  0.826511  1.276921 -0.261422 -0.052662  0.009365\n",
       "2  -2.814853  1.296928  0.427982 -0.125788  0.034295 -0.021800\n",
       "3  -3.005221  1.139776  1.411622 -0.214266 -0.066722 -0.019432\n",
       "4  -2.821156  1.214280  0.806263 -0.063254 -0.008979 -0.018506\n",
       "..       ...       ...       ...       ...       ...       ...\n",
       "80  3.150641 -1.113171  0.329016 -0.482761 -0.151348 -0.056337\n",
       "81  4.234338 -0.025163  1.989367  1.101615  0.081837  0.024125\n",
       "82  4.351412 -0.835323  1.189195 -0.311337 -0.090559 -0.053767\n",
       "83  5.601706 -1.676459  4.047825 -0.424180  0.349041 -0.019440\n",
       "84  9.712374  5.010413  0.121468 -1.116151 -0.149918  0.115321\n",
       "\n",
       "[85 rows x 6 columns]"
      ]
     },
     "execution_count": 50,
     "metadata": {},
     "output_type": "execute_result"
    }
   ],
   "source": [
    "pca_df"
   ]
  },
  {
   "cell_type": "code",
   "execution_count": 52,
   "metadata": {},
   "outputs": [
    {
     "data": {
      "image/png": "[encoded data removed]",
      "text/plain": [
       "<Figure size 1000x700 with 1 Axes>"
      ]
     },
     "metadata": {},
     "output_type": "display_data"
    }
   ],
   "source": [
    "# Gráfico de biplot de PCA\n",
    "plt.figure(figsize=(10, 7))\n",
    "sns.scatterplot(x=pca_df['z1'], y=pca_df['z2'])\n",
    "plt.title('Análisis de Componentes Principales')\n",
    "plt.xlabel('PC1')\n",
    "plt.ylabel('PC2')\n",
    "plt.grid()\n",
    "plt.show()"
   ]
  },
  {
   "cell_type": "code",
   "execution_count": 53,
   "metadata": {},
   "outputs": [],
   "source": [
    "# pca_df['PUNTO_VENTA'] = df.index"
   ]
  },
  {
   "cell_type": "code",
   "execution_count": 54,
   "metadata": {},
   "outputs": [],
   "source": [
    "df_result = df.reset_index().merge(pca_df, right_index=True,left_index=True, how='left').rename(\n",
    "    columns={'PC1': 'z1', 'PC2': 'z2', 'PC3': 'z3'}\n",
    ")"
   ]
  },
  {
   "cell_type": "code",
   "execution_count": 55,
   "metadata": {},
   "outputs": [
    {
     "data": {
      "text/html": [
       "<div>\n",
       "<style scoped>\n",
       "    .dataframe tbody tr th:only-of-type {\n",
       "        vertical-align: middle;\n",
       "    }\n",
       "\n",
       "    .dataframe tbody tr th {\n",
       "        vertical-align: top;\n",
       "    }\n",
       "\n",
       "    .dataframe thead th {\n",
       "        text-align: right;\n",
       "    }\n",
       "</style>\n",
       "<table border=\"1\" class=\"dataframe\">\n",
       "  <thead>\n",
       "    <tr style=\"text-align: right;\">\n",
       "      <th></th>\n",
       "      <th>PUNTO_VENTA</th>\n",
       "      <th>CONTRIBUCION</th>\n",
       "      <th>ROTACION</th>\n",
       "      <th>VENTA_POR_MES</th>\n",
       "      <th>MARGEN</th>\n",
       "      <th>VENTA_PESOS</th>\n",
       "      <th>VENTA_UNDS</th>\n",
       "      <th>COSTO</th>\n",
       "      <th>z1</th>\n",
       "      <th>z2</th>\n",
       "      <th>z3</th>\n",
       "      <th>z4</th>\n",
       "      <th>z5</th>\n",
       "      <th>z6</th>\n",
       "    </tr>\n",
       "  </thead>\n",
       "  <tbody>\n",
       "    <tr>\n",
       "      <th>0</th>\n",
       "      <td>TIENDA ARKADIA</td>\n",
       "      <td>1828644.00</td>\n",
       "      <td>0.854435</td>\n",
       "      <td>112.7</td>\n",
       "      <td>0.858769</td>\n",
       "      <td>2129378.00</td>\n",
       "      <td>1127</td>\n",
       "      <td>300733.926</td>\n",
       "      <td>-4.256885</td>\n",
       "      <td>2.167685</td>\n",
       "      <td>1.958596</td>\n",
       "      <td>-0.634667</td>\n",
       "      <td>-0.054238</td>\n",
       "      <td>-0.052228</td>\n",
       "    </tr>\n",
       "    <tr>\n",
       "      <th>1</th>\n",
       "      <td>TIENDA  VIVA ENVIGADO</td>\n",
       "      <td>1820093.00</td>\n",
       "      <td>0.866409</td>\n",
       "      <td>89.5</td>\n",
       "      <td>0.846072</td>\n",
       "      <td>2151227.00</td>\n",
       "      <td>895</td>\n",
       "      <td>331133.668</td>\n",
       "      <td>-3.486483</td>\n",
       "      <td>0.826511</td>\n",
       "      <td>1.276921</td>\n",
       "      <td>-0.261422</td>\n",
       "      <td>-0.052662</td>\n",
       "      <td>0.009365</td>\n",
       "    </tr>\n",
       "    <tr>\n",
       "      <th>2</th>\n",
       "      <td>VENTURA PLAZA CUCUTA</td>\n",
       "      <td>1842979.00</td>\n",
       "      <td>0.855305</td>\n",
       "      <td>79.8</td>\n",
       "      <td>0.866880</td>\n",
       "      <td>2125992.00</td>\n",
       "      <td>798</td>\n",
       "      <td>283012.121</td>\n",
       "      <td>-2.814853</td>\n",
       "      <td>1.296928</td>\n",
       "      <td>0.427982</td>\n",
       "      <td>-0.125788</td>\n",
       "      <td>0.034295</td>\n",
       "      <td>-0.021800</td>\n",
       "    </tr>\n",
       "    <tr>\n",
       "      <th>3</th>\n",
       "      <td>TIENDA SAN DIEGO</td>\n",
       "      <td>1721450.00</td>\n",
       "      <td>0.840758</td>\n",
       "      <td>88.7</td>\n",
       "      <td>0.852838</td>\n",
       "      <td>2018496.00</td>\n",
       "      <td>887</td>\n",
       "      <td>297045.618</td>\n",
       "      <td>-3.005221</td>\n",
       "      <td>1.139776</td>\n",
       "      <td>1.411622</td>\n",
       "      <td>-0.214266</td>\n",
       "      <td>-0.066722</td>\n",
       "      <td>-0.019432</td>\n",
       "    </tr>\n",
       "    <tr>\n",
       "      <th>4</th>\n",
       "      <td>TIENDA MAYORCA</td>\n",
       "      <td>1778113.00</td>\n",
       "      <td>0.857143</td>\n",
       "      <td>82.2</td>\n",
       "      <td>0.861559</td>\n",
       "      <td>2063832.00</td>\n",
       "      <td>822</td>\n",
       "      <td>285718.741</td>\n",
       "      <td>-2.821156</td>\n",
       "      <td>1.214280</td>\n",
       "      <td>0.806263</td>\n",
       "      <td>-0.063254</td>\n",
       "      <td>-0.008979</td>\n",
       "      <td>-0.018506</td>\n",
       "    </tr>\n",
       "    <tr>\n",
       "      <th>...</th>\n",
       "      <td>...</td>\n",
       "      <td>...</td>\n",
       "      <td>...</td>\n",
       "      <td>...</td>\n",
       "      <td>...</td>\n",
       "      <td>...</td>\n",
       "      <td>...</td>\n",
       "      <td>...</td>\n",
       "      <td>...</td>\n",
       "      <td>...</td>\n",
       "      <td>...</td>\n",
       "      <td>...</td>\n",
       "      <td>...</td>\n",
       "      <td>...</td>\n",
       "    </tr>\n",
       "    <tr>\n",
       "      <th>80</th>\n",
       "      <td>OFFCORSS AGUACHICA</td>\n",
       "      <td>1100750.00</td>\n",
       "      <td>0.468000</td>\n",
       "      <td>11.7</td>\n",
       "      <td>0.854252</td>\n",
       "      <td>1288555.00</td>\n",
       "      <td>117</td>\n",
       "      <td>187804.845</td>\n",
       "      <td>3.150641</td>\n",
       "      <td>-1.113171</td>\n",
       "      <td>0.329016</td>\n",
       "      <td>-0.482761</td>\n",
       "      <td>-0.151348</td>\n",
       "      <td>-0.056337</td>\n",
       "    </tr>\n",
       "    <tr>\n",
       "      <th>81</th>\n",
       "      <td>TIENDA OFFCORSS TULUA</td>\n",
       "      <td>516692.10</td>\n",
       "      <td>0.561947</td>\n",
       "      <td>25.4</td>\n",
       "      <td>0.865128</td>\n",
       "      <td>597243.70</td>\n",
       "      <td>127</td>\n",
       "      <td>80551.622</td>\n",
       "      <td>4.234338</td>\n",
       "      <td>-0.025163</td>\n",
       "      <td>1.989367</td>\n",
       "      <td>1.101615</td>\n",
       "      <td>0.081837</td>\n",
       "      <td>0.024125</td>\n",
       "    </tr>\n",
       "    <tr>\n",
       "      <th>82</th>\n",
       "      <td>OFFCORSS GRANADA</td>\n",
       "      <td>775278.60</td>\n",
       "      <td>0.403226</td>\n",
       "      <td>12.5</td>\n",
       "      <td>0.856972</td>\n",
       "      <td>904672.30</td>\n",
       "      <td>75</td>\n",
       "      <td>129393.712</td>\n",
       "      <td>4.351412</td>\n",
       "      <td>-0.835323</td>\n",
       "      <td>1.189195</td>\n",
       "      <td>-0.311337</td>\n",
       "      <td>-0.090559</td>\n",
       "      <td>-0.053767</td>\n",
       "    </tr>\n",
       "    <tr>\n",
       "      <th>83</th>\n",
       "      <td>OFFCORSS VILLANUEVA</td>\n",
       "      <td>213384.20</td>\n",
       "      <td>0.272727</td>\n",
       "      <td>30.0</td>\n",
       "      <td>0.819437</td>\n",
       "      <td>260403.40</td>\n",
       "      <td>30</td>\n",
       "      <td>47019.164</td>\n",
       "      <td>5.601706</td>\n",
       "      <td>-1.676459</td>\n",
       "      <td>4.047825</td>\n",
       "      <td>-0.424180</td>\n",
       "      <td>0.349041</td>\n",
       "      <td>-0.019440</td>\n",
       "    </tr>\n",
       "    <tr>\n",
       "      <th>84</th>\n",
       "      <td>TIENDA  ARRAYANES</td>\n",
       "      <td>19304.99</td>\n",
       "      <td>0.000000</td>\n",
       "      <td>2.0</td>\n",
       "      <td>0.999693</td>\n",
       "      <td>19310.92</td>\n",
       "      <td>2</td>\n",
       "      <td>5.931</td>\n",
       "      <td>9.712374</td>\n",
       "      <td>5.010413</td>\n",
       "      <td>0.121468</td>\n",
       "      <td>-1.116151</td>\n",
       "      <td>-0.149918</td>\n",
       "      <td>0.115321</td>\n",
       "    </tr>\n",
       "  </tbody>\n",
       "</table>\n",
       "<p>85 rows × 14 columns</p>\n",
       "</div>"
      ],
      "text/plain": [
       "              PUNTO_VENTA  CONTRIBUCION  ROTACION  VENTA_POR_MES    MARGEN  \\\n",
       "0          TIENDA ARKADIA    1828644.00  0.854435          112.7  0.858769   \n",
       "1   TIENDA  VIVA ENVIGADO    1820093.00  0.866409           89.5  0.846072   \n",
       "2    VENTURA PLAZA CUCUTA    1842979.00  0.855305           79.8  0.866880   \n",
       "3        TIENDA SAN DIEGO    1721450.00  0.840758           88.7  0.852838   \n",
       "4          TIENDA MAYORCA    1778113.00  0.857143           82.2  0.861559   \n",
       "..                    ...           ...       ...            ...       ...   \n",
       "80     OFFCORSS AGUACHICA    1100750.00  0.468000           11.7  0.854252   \n",
       "81  TIENDA OFFCORSS TULUA     516692.10  0.561947           25.4  0.865128   \n",
       "82       OFFCORSS GRANADA     775278.60  0.403226           12.5  0.856972   \n",
       "83    OFFCORSS VILLANUEVA     213384.20  0.272727           30.0  0.819437   \n",
       "84      TIENDA  ARRAYANES      19304.99  0.000000            2.0  0.999693   \n",
       "\n",
       "    VENTA_PESOS  VENTA_UNDS       COSTO        z1        z2        z3  \\\n",
       "0    2129378.00        1127  300733.926 -4.256885  2.167685  1.958596   \n",
       "1    2151227.00         895  331133.668 -3.486483  0.826511  1.276921   \n",
       "2    2125992.00         798  283012.121 -2.814853  1.296928  0.427982   \n",
       "3    2018496.00         887  297045.618 -3.005221  1.139776  1.411622   \n",
       "4    2063832.00         822  285718.741 -2.821156  1.214280  0.806263   \n",
       "..          ...         ...         ...       ...       ...       ...   \n",
       "80   1288555.00         117  187804.845  3.150641 -1.113171  0.329016   \n",
       "81    597243.70         127   80551.622  4.234338 -0.025163  1.989367   \n",
       "82    904672.30          75  129393.712  4.351412 -0.835323  1.189195   \n",
       "83    260403.40          30   47019.164  5.601706 -1.676459  4.047825   \n",
       "84     19310.92           2       5.931  9.712374  5.010413  0.121468   \n",
       "\n",
       "          z4        z5        z6  \n",
       "0  -0.634667 -0.054238 -0.052228  \n",
       "1  -0.261422 -0.052662  0.009365  \n",
       "2  -0.125788  0.034295 -0.021800  \n",
       "3  -0.214266 -0.066722 -0.019432  \n",
       "4  -0.063254 -0.008979 -0.018506  \n",
       "..       ...       ...       ...  \n",
       "80 -0.482761 -0.151348 -0.056337  \n",
       "81  1.101615  0.081837  0.024125  \n",
       "82 -0.311337 -0.090559 -0.053767  \n",
       "83 -0.424180  0.349041 -0.019440  \n",
       "84 -1.116151 -0.149918  0.115321  \n",
       "\n",
       "[85 rows x 14 columns]"
      ]
     },
     "execution_count": 55,
     "metadata": {},
     "output_type": "execute_result"
    }
   ],
   "source": [
    "df.reset_index().merge(pca_df, right_index=True,left_index=True, how='left')"
   ]
  },
  {
   "cell_type": "code",
   "execution_count": 60,
   "metadata": {},
   "outputs": [],
   "source": [
    "len_pca_indices = len(pca.explained_variance_ratio_)\n",
    "# len_pca_indices = 1\n",
    "if(len_pca_indices >=3):\n",
    "    df_result['Indice'] = df_result['z1'] * pca.explained_variance_ratio_[0] + \\\n",
    "                        df_result['z2'] * pca.explained_variance_ratio_[1] + \\\n",
    "                        df_result['z3'] * pca.explained_variance_ratio_[2]\n",
    "elif(len_pca_indices == 2):\n",
    "    df_result['Indice'] = df_result['z1'] * pca.explained_variance_ratio_[0] + \\\n",
    "                        df_result['z2'] * pca.explained_variance_ratio_[1]\n",
    "else:\n",
    "    df_result['Indice'] = df_result['z1'] * pca.explained_variance_ratio_[0]\n"
   ]
  },
  {
   "cell_type": "code",
   "execution_count": 57,
   "metadata": {},
   "outputs": [],
   "source": [
    "len_pca_indices = len(pca.explained_variance_ratio_)\n",
    "\n",
    "# Calcula el índice basado en la longitud de pca.explained_variance_ratio_\n",
    "df_result['Indice'] = 0  # Inicializa la columna Indice\n",
    "\n",
    "for i in range(len_pca_indices):\n",
    "    df_result['Indice'] += df_result[f'z{i+1}'] * pca.explained_variance_ratio_[i]"
   ]
  },
  {
   "cell_type": "code",
   "execution_count": 61,
   "metadata": {},
   "outputs": [
    {
     "data": {
      "text/html": [
       "<div>\n",
       "<style scoped>\n",
       "    .dataframe tbody tr th:only-of-type {\n",
       "        vertical-align: middle;\n",
       "    }\n",
       "\n",
       "    .dataframe tbody tr th {\n",
       "        vertical-align: top;\n",
       "    }\n",
       "\n",
       "    .dataframe thead th {\n",
       "        text-align: right;\n",
       "    }\n",
       "</style>\n",
       "<table border=\"1\" class=\"dataframe\">\n",
       "  <thead>\n",
       "    <tr style=\"text-align: right;\">\n",
       "      <th></th>\n",
       "      <th>Indice</th>\n",
       "    </tr>\n",
       "  </thead>\n",
       "  <tbody>\n",
       "    <tr>\n",
       "      <th>0</th>\n",
       "      <td>-2.619540</td>\n",
       "    </tr>\n",
       "    <tr>\n",
       "      <th>1</th>\n",
       "      <td>-2.314871</td>\n",
       "    </tr>\n",
       "  </tbody>\n",
       "</table>\n",
       "</div>"
      ],
      "text/plain": [
       "     Indice\n",
       "0 -2.619540\n",
       "1 -2.314871"
      ]
     },
     "execution_count": 61,
     "metadata": {},
     "output_type": "execute_result"
    }
   ],
   "source": [
    "df_result.head(2)[['Indice']]"
   ]
  },
  {
   "cell_type": "code",
   "execution_count": 59,
   "metadata": {},
   "outputs": [
    {
     "ename": "NameError",
     "evalue": "name 'fff' is not defined",
     "output_type": "error",
     "traceback": [
      "\u001b[1;31m---------------------------------------------------------------------------\u001b[0m",
      "\u001b[1;31mNameError\u001b[0m                                 Traceback (most recent call last)",
      "Cell \u001b[1;32mIn[59], line 1\u001b[0m\n\u001b[1;32m----> 1\u001b[0m \u001b[43mfff\u001b[49m\n",
      "\u001b[1;31mNameError\u001b[0m: name 'fff' is not defined"
     ]
    }
   ],
   "source": [
    "fff"
   ]
  },
  {
   "cell_type": "code",
   "execution_count": null,
   "metadata": {},
   "outputs": [],
   "source": [
    "df_result['Indice'] = df_result['z1'] * pca.explained_variance_ratio_[0] + \\\n",
    "                        df_result['z2'] * pca.explained_variance_ratio_[1] + \\\n",
    "                        df_result['z3'] * pca.explained_variance_ratio_[2]"
   ]
  },
  {
   "cell_type": "code",
   "execution_count": null,
   "metadata": {},
   "outputs": [],
   "source": [
    "df_result['Indice2'] = df_result['z1'] * pca.explained_variance_ratio_[0] + \\\n",
    "                        df_result['z2'] * pca.explained_variance_ratio_[1] + \\\n",
    "                        df_result['z3'] * pca.explained_variance_ratio_[2] + \\\n",
    "                        df_result['PC4'] * pca.explained_variance_ratio_[3] + \\\n",
    "                        df_result['PC5'] * pca.explained_variance_ratio_[4] + \\\n",
    "                        df_result['PC6'] * pca.explained_variance_ratio_[5]"
   ]
  },
  {
   "cell_type": "code",
   "execution_count": null,
   "metadata": {},
   "outputs": [],
   "source": [
    "df_result['Indice3'] = df_result['Indice']*(-1)"
   ]
  },
  {
   "cell_type": "code",
   "execution_count": null,
   "metadata": {},
   "outputs": [
    {
     "data": {
      "image/png": "[encoded data removed]",
      "text/plain": [
       "<Figure size 1200x600 with 1 Axes>"
      ]
     },
     "metadata": {},
     "output_type": "display_data"
    }
   ],
   "source": [
    "top_n = 10\n",
    "best_sellers = df_result.sort_values(by='Indice', ascending=False).head(top_n)\n",
    "\n",
    "plt.figure(figsize=(12, 6))\n",
    "sns.barplot(y='PUNTO_VENTA', x='Indice', data=best_sellers,\n",
    "            )\n",
    "plt.title(f'Top {top_n} Best Sellers PCA')\n",
    "plt.show()"
   ]
  },
  {
   "cell_type": "code",
   "execution_count": null,
   "metadata": {},
   "outputs": [
    {
     "data": {
      "image/png": "[encoded data removed]",
      "text/plain": [
       "<Figure size 1200x600 with 1 Axes>"
      ]
     },
     "metadata": {},
     "output_type": "display_data"
    }
   ],
   "source": [
    "top_n = 10\n",
    "best_sellers = df_result.sort_values(by='Indice', ascending=False).tail(top_n)\n",
    "\n",
    "plt.figure(figsize=(12, 6))\n",
    "sns.barplot(y='PUNTO_VENTA', x='Indice', data=best_sellers,\n",
    "            )\n",
    "plt.title(f'Top {top_n} Best Sellers PCA')\n",
    "plt.show()"
   ]
  },
  {
   "cell_type": "code",
   "execution_count": null,
   "metadata": {},
   "outputs": [
    {
     "data": {
      "image/png": "[encoded data removed]",
      "text/plain": [
       "<Figure size 1200x600 with 1 Axes>"
      ]
     },
     "metadata": {},
     "output_type": "display_data"
    }
   ],
   "source": [
    "top_n = 10\n",
    "best_sellers = df_original.sort_values(by='INDICE', ascending=False).head(top_n)\n",
    "\n",
    "plt.figure(figsize=(12, 6))\n",
    "sns.barplot(y='PUNTO_VENTA', x='INDICE', data=best_sellers,\n",
    "            )\n",
    "plt.title(f'Top {top_n} Best Sellers original')\n",
    "plt.show()"
   ]
  },
  {
   "cell_type": "code",
   "execution_count": null,
   "metadata": {},
   "outputs": [
    {
     "data": {
      "text/html": [
       "<div>\n",
       "<style scoped>\n",
       "    .dataframe tbody tr th:only-of-type {\n",
       "        vertical-align: middle;\n",
       "    }\n",
       "\n",
       "    .dataframe tbody tr th {\n",
       "        vertical-align: top;\n",
       "    }\n",
       "\n",
       "    .dataframe thead th {\n",
       "        text-align: right;\n",
       "    }\n",
       "</style>\n",
       "<table border=\"1\" class=\"dataframe\">\n",
       "  <thead>\n",
       "    <tr style=\"text-align: right;\">\n",
       "      <th></th>\n",
       "      <th>PUNTO_VENTA</th>\n",
       "      <th>CONTRIBUCION</th>\n",
       "      <th>ROTACION</th>\n",
       "      <th>VENTA_POR_MES</th>\n",
       "      <th>MARGEN</th>\n",
       "      <th>VENTA_PESOS</th>\n",
       "      <th>VENTA_UNDS</th>\n",
       "      <th>COSTO</th>\n",
       "      <th>z1</th>\n",
       "      <th>z2</th>\n",
       "      <th>z3</th>\n",
       "      <th>PC4</th>\n",
       "      <th>PC5</th>\n",
       "      <th>PC6</th>\n",
       "      <th>Indice</th>\n",
       "      <th>Indice2</th>\n",
       "      <th>Indice3</th>\n",
       "    </tr>\n",
       "  </thead>\n",
       "  <tbody>\n",
       "    <tr>\n",
       "      <th>9</th>\n",
       "      <td>TIENDA EL TESORO</td>\n",
       "      <td>1871310.0</td>\n",
       "      <td>0.805556</td>\n",
       "      <td>66.7</td>\n",
       "      <td>0.858492</td>\n",
       "      <td>2179765.0</td>\n",
       "      <td>667</td>\n",
       "      <td>308454.86</td>\n",
       "      <td>-2.295697</td>\n",
       "      <td>0.474052</td>\n",
       "      <td>0.026329</td>\n",
       "      <td>-0.357738</td>\n",
       "      <td>0.042479</td>\n",
       "      <td>0.004964</td>\n",
       "      <td>-1.6115</td>\n",
       "      <td>-1.620528</td>\n",
       "      <td>1.6115</td>\n",
       "    </tr>\n",
       "  </tbody>\n",
       "</table>\n",
       "</div>"
      ],
      "text/plain": [
       "        PUNTO_VENTA  CONTRIBUCION  ROTACION  VENTA_POR_MES    MARGEN  \\\n",
       "9  TIENDA EL TESORO     1871310.0  0.805556           66.7  0.858492   \n",
       "\n",
       "   VENTA_PESOS  VENTA_UNDS      COSTO        z1        z2        z3       PC4  \\\n",
       "9    2179765.0         667  308454.86 -2.295697  0.474052  0.026329 -0.357738   \n",
       "\n",
       "        PC5       PC6  Indice   Indice2  Indice3  \n",
       "9  0.042479  0.004964 -1.6115 -1.620528   1.6115  "
      ]
     },
     "execution_count": 23,
     "metadata": {},
     "output_type": "execute_result"
    }
   ],
   "source": [
    "df_result[df_result['PUNTO_VENTA'] == 'TIENDA EL TESORO']"
   ]
  },
  {
   "cell_type": "code",
   "execution_count": null,
   "metadata": {},
   "outputs": [
    {
     "data": {
      "text/html": [
       "<div>\n",
       "<style scoped>\n",
       "    .dataframe tbody tr th:only-of-type {\n",
       "        vertical-align: middle;\n",
       "    }\n",
       "\n",
       "    .dataframe tbody tr th {\n",
       "        vertical-align: top;\n",
       "    }\n",
       "\n",
       "    .dataframe thead th {\n",
       "        text-align: right;\n",
       "    }\n",
       "</style>\n",
       "<table border=\"1\" class=\"dataframe\">\n",
       "  <thead>\n",
       "    <tr style=\"text-align: right;\">\n",
       "      <th></th>\n",
       "      <th>PUNTO_VENTA</th>\n",
       "      <th>COD_PUNTO_VENTA</th>\n",
       "      <th>CONTRIBUCION</th>\n",
       "      <th>ROTACION</th>\n",
       "      <th>VENTA_POR_MES</th>\n",
       "      <th>MARGEN</th>\n",
       "      <th>VENTA_PESOS</th>\n",
       "      <th>VENTA_UNDS</th>\n",
       "      <th>INDICE</th>\n",
       "      <th>CLUSTER</th>\n",
       "      <th>RANKING</th>\n",
       "      <th>CONCEPTO</th>\n",
       "      <th>DESPACHO</th>\n",
       "      <th>COSTO</th>\n",
       "      <th>PARTICIPACIÓN %</th>\n",
       "      <th>MES_VENTA</th>\n",
       "    </tr>\n",
       "  </thead>\n",
       "  <tbody>\n",
       "    <tr>\n",
       "      <th>9</th>\n",
       "      <td>TIENDA EL TESORO</td>\n",
       "      <td>T014</td>\n",
       "      <td>1871310.0</td>\n",
       "      <td>0.805556</td>\n",
       "      <td>66.7</td>\n",
       "      <td>0.858492</td>\n",
       "      <td>2179765.0</td>\n",
       "      <td>667</td>\n",
       "      <td>1.815351</td>\n",
       "      <td>grupo1</td>\n",
       "      <td>10</td>\n",
       "      <td>CUIDADO PERSONAL</td>\n",
       "      <td>828</td>\n",
       "      <td>308454.86</td>\n",
       "      <td>0.025012</td>\n",
       "      <td>10</td>\n",
       "    </tr>\n",
       "  </tbody>\n",
       "</table>\n",
       "</div>"
      ],
      "text/plain": [
       "        PUNTO_VENTA COD_PUNTO_VENTA  CONTRIBUCION  ROTACION  VENTA_POR_MES  \\\n",
       "9  TIENDA EL TESORO            T014     1871310.0  0.805556           66.7   \n",
       "\n",
       "     MARGEN  VENTA_PESOS  VENTA_UNDS    INDICE CLUSTER  RANKING  \\\n",
       "9  0.858492    2179765.0         667  1.815351  grupo1       10   \n",
       "\n",
       "           CONCEPTO  DESPACHO      COSTO  PARTICIPACIÓN %  MES_VENTA  \n",
       "9  CUIDADO PERSONAL       828  308454.86         0.025012         10  "
      ]
     },
     "execution_count": 24,
     "metadata": {},
     "output_type": "execute_result"
    }
   ],
   "source": [
    "df_original[df_original['PUNTO_VENTA'] == 'TIENDA EL TESORO']"
   ]
  },
  {
   "cell_type": "code",
   "execution_count": null,
   "metadata": {},
   "outputs": [
    {
     "data": {
      "text/html": [
       "<div>\n",
       "<style scoped>\n",
       "    .dataframe tbody tr th:only-of-type {\n",
       "        vertical-align: middle;\n",
       "    }\n",
       "\n",
       "    .dataframe tbody tr th {\n",
       "        vertical-align: top;\n",
       "    }\n",
       "\n",
       "    .dataframe thead th {\n",
       "        text-align: right;\n",
       "    }\n",
       "</style>\n",
       "<table border=\"1\" class=\"dataframe\">\n",
       "  <thead>\n",
       "    <tr style=\"text-align: right;\">\n",
       "      <th></th>\n",
       "      <th>count</th>\n",
       "      <th>mean</th>\n",
       "      <th>std</th>\n",
       "      <th>min</th>\n",
       "      <th>25%</th>\n",
       "      <th>50%</th>\n",
       "      <th>75%</th>\n",
       "      <th>max</th>\n",
       "    </tr>\n",
       "  </thead>\n",
       "  <tbody>\n",
       "    <tr>\n",
       "      <th>CONTRIBUCION</th>\n",
       "      <td>85.0</td>\n",
       "      <td>1.527416e+06</td>\n",
       "      <td>328140.567513</td>\n",
       "      <td>19304.990000</td>\n",
       "      <td>1.480304e+06</td>\n",
       "      <td>1.598259e+06</td>\n",
       "      <td>1.704029e+06</td>\n",
       "      <td>1.951233e+06</td>\n",
       "    </tr>\n",
       "    <tr>\n",
       "      <th>ROTACION</th>\n",
       "      <td>85.0</td>\n",
       "      <td>7.135856e-01</td>\n",
       "      <td>0.133038</td>\n",
       "      <td>0.000000</td>\n",
       "      <td>6.812650e-01</td>\n",
       "      <td>7.466220e-01</td>\n",
       "      <td>7.922080e-01</td>\n",
       "      <td>8.664090e-01</td>\n",
       "    </tr>\n",
       "    <tr>\n",
       "      <th>VENTA_POR_MES</th>\n",
       "      <td>85.0</td>\n",
       "      <td>4.282609e+01</td>\n",
       "      <td>19.883720</td>\n",
       "      <td>2.000000</td>\n",
       "      <td>3.000000e+01</td>\n",
       "      <td>4.110000e+01</td>\n",
       "      <td>5.380000e+01</td>\n",
       "      <td>1.127000e+02</td>\n",
       "    </tr>\n",
       "    <tr>\n",
       "      <th>MARGEN</th>\n",
       "      <td>85.0</td>\n",
       "      <td>8.624386e-01</td>\n",
       "      <td>0.021558</td>\n",
       "      <td>0.819437</td>\n",
       "      <td>8.528380e-01</td>\n",
       "      <td>8.584920e-01</td>\n",
       "      <td>8.671090e-01</td>\n",
       "      <td>9.996930e-01</td>\n",
       "    </tr>\n",
       "    <tr>\n",
       "      <th>VENTA_PESOS</th>\n",
       "      <td>85.0</td>\n",
       "      <td>1.775328e+06</td>\n",
       "      <td>386617.800585</td>\n",
       "      <td>19310.920000</td>\n",
       "      <td>1.716101e+06</td>\n",
       "      <td>1.869782e+06</td>\n",
       "      <td>1.984050e+06</td>\n",
       "      <td>2.274714e+06</td>\n",
       "    </tr>\n",
       "    <tr>\n",
       "      <th>VENTA_UNDS</th>\n",
       "      <td>85.0</td>\n",
       "      <td>4.197412e+02</td>\n",
       "      <td>207.964807</td>\n",
       "      <td>2.000000</td>\n",
       "      <td>2.800000e+02</td>\n",
       "      <td>4.110000e+02</td>\n",
       "      <td>5.180000e+02</td>\n",
       "      <td>1.127000e+03</td>\n",
       "    </tr>\n",
       "    <tr>\n",
       "      <th>COSTO</th>\n",
       "      <td>85.0</td>\n",
       "      <td>2.479125e+05</td>\n",
       "      <td>63343.891216</td>\n",
       "      <td>5.931000</td>\n",
       "      <td>2.260049e+05</td>\n",
       "      <td>2.628090e+05</td>\n",
       "      <td>2.856853e+05</td>\n",
       "      <td>3.311337e+05</td>\n",
       "    </tr>\n",
       "  </tbody>\n",
       "</table>\n",
       "</div>"
      ],
      "text/plain": [
       "               count          mean            std           min           25%  \\\n",
       "CONTRIBUCION    85.0  1.527416e+06  328140.567513  19304.990000  1.480304e+06   \n",
       "ROTACION        85.0  7.135856e-01       0.133038      0.000000  6.812650e-01   \n",
       "VENTA_POR_MES   85.0  4.282609e+01      19.883720      2.000000  3.000000e+01   \n",
       "MARGEN          85.0  8.624386e-01       0.021558      0.819437  8.528380e-01   \n",
       "VENTA_PESOS     85.0  1.775328e+06  386617.800585  19310.920000  1.716101e+06   \n",
       "VENTA_UNDS      85.0  4.197412e+02     207.964807      2.000000  2.800000e+02   \n",
       "COSTO           85.0  2.479125e+05   63343.891216      5.931000  2.260049e+05   \n",
       "\n",
       "                        50%           75%           max  \n",
       "CONTRIBUCION   1.598259e+06  1.704029e+06  1.951233e+06  \n",
       "ROTACION       7.466220e-01  7.922080e-01  8.664090e-01  \n",
       "VENTA_POR_MES  4.110000e+01  5.380000e+01  1.127000e+02  \n",
       "MARGEN         8.584920e-01  8.671090e-01  9.996930e-01  \n",
       "VENTA_PESOS    1.869782e+06  1.984050e+06  2.274714e+06  \n",
       "VENTA_UNDS     4.110000e+02  5.180000e+02  1.127000e+03  \n",
       "COSTO          2.628090e+05  2.856853e+05  3.311337e+05  "
      ]
     },
     "execution_count": 25,
     "metadata": {},
     "output_type": "execute_result"
    }
   ],
   "source": [
    "df.describe().T"
   ]
  },
  {
   "cell_type": "code",
   "execution_count": null,
   "metadata": {},
   "outputs": [],
   "source": [
    "df_result2 = df_result.merge(df_original[['PUNTO_VENTA','COD_PUNTO_VENTA', 'INDICE', 'CLUSTER', 'RANKING']], on='PUNTO_VENTA', how='left')"
   ]
  },
  {
   "cell_type": "code",
   "execution_count": null,
   "metadata": {},
   "outputs": [],
   "source": [
    "df_result2 = df_result2.sort_values(by = 'Indice3', ascending=False)\n",
    "df_result2['ranking_pca'] = range(1, len(df_result2) + 1)"
   ]
  },
  {
   "cell_type": "code",
   "execution_count": null,
   "metadata": {},
   "outputs": [
    {
     "data": {
      "text/html": [
       "<div>\n",
       "<style scoped>\n",
       "    .dataframe tbody tr th:only-of-type {\n",
       "        vertical-align: middle;\n",
       "    }\n",
       "\n",
       "    .dataframe tbody tr th {\n",
       "        vertical-align: top;\n",
       "    }\n",
       "\n",
       "    .dataframe thead th {\n",
       "        text-align: right;\n",
       "    }\n",
       "</style>\n",
       "<table border=\"1\" class=\"dataframe\">\n",
       "  <thead>\n",
       "    <tr style=\"text-align: right;\">\n",
       "      <th></th>\n",
       "      <th>PUNTO_VENTA</th>\n",
       "      <th>Indice3</th>\n",
       "    </tr>\n",
       "  </thead>\n",
       "  <tbody>\n",
       "    <tr>\n",
       "      <th>1</th>\n",
       "      <td>TIENDA  VIVA ENVIGADO</td>\n",
       "      <td>2.314871</td>\n",
       "    </tr>\n",
       "    <tr>\n",
       "      <th>6</th>\n",
       "      <td>TIENDA JARDIN PLAZA</td>\n",
       "      <td>1.806148</td>\n",
       "    </tr>\n",
       "    <tr>\n",
       "      <th>9</th>\n",
       "      <td>TIENDA EL TESORO</td>\n",
       "      <td>1.611500</td>\n",
       "    </tr>\n",
       "    <tr>\n",
       "      <th>14</th>\n",
       "      <td>TIENDA SANTAFÉ MEDELLIN</td>\n",
       "      <td>1.120088</td>\n",
       "    </tr>\n",
       "    <tr>\n",
       "      <th>21</th>\n",
       "      <td>TIENDA CENTRO ANDINO</td>\n",
       "      <td>0.673162</td>\n",
       "    </tr>\n",
       "  </tbody>\n",
       "</table>\n",
       "</div>"
      ],
      "text/plain": [
       "                PUNTO_VENTA   Indice3\n",
       "1     TIENDA  VIVA ENVIGADO  2.314871\n",
       "6       TIENDA JARDIN PLAZA  1.806148\n",
       "9          TIENDA EL TESORO  1.611500\n",
       "14  TIENDA SANTAFÉ MEDELLIN  1.120088\n",
       "21     TIENDA CENTRO ANDINO  0.673162"
      ]
     },
     "execution_count": 28,
     "metadata": {},
     "output_type": "execute_result"
    }
   ],
   "source": [
    "df_result2[df_result2['PUNTO_VENTA'].isin(['TIENDA EL TESORO', 'TIENDA JARDIN PLAZA', 'TIENDA SANTAFÉ MEDELLIN',\n",
    "                                           'TIENDA CENTRO ANDINO', 'TIENDA  VIVA ENVIGADO'])][[\n",
    "                                               'PUNTO_VENTA', 'Indice3',\n",
    "                                           ]]"
   ]
  },
  {
   "cell_type": "code",
   "execution_count": null,
   "metadata": {},
   "outputs": [
    {
     "name": "stderr",
     "output_type": "stream",
     "text": [
      "c:\\Users\\HELENAMM\\AppData\\Local\\Programs\\Python\\Python312\\Lib\\site-packages\\plotly\\graph_objs\\_deprecations.py:378: DeprecationWarning:\n",
      "\n",
      "plotly.graph_objs.Line is deprecated.\n",
      "Please replace it with one of the following more specific types\n",
      "  - plotly.graph_objs.scatter.Line\n",
      "  - plotly.graph_objs.layout.shape.Line\n",
      "  - etc.\n",
      "\n",
      "\n"
     ]
    },
    {
     "data": {
      "application/vnd.plotly.v1+json": {
       "config": {
        "plotlyServerURL": "https://plot.ly"
       },
       "data": [
        {
         "line": {
          "color": "red"
         },
         "name": "Línea -1",
         "type": "scatter",
         "x": [
          "FN39",
          "FN41",
          "FN42",
          "FN43",
          "FN44",
          "FN45",
          "FN47",
          "FN50",
          "FN52",
          "FN54",
          "FN56",
          "FN59",
          "FN60",
          "FN61",
          "FN64",
          "FN65",
          "FN66",
          "FN67",
          "FN70",
          "FN71",
          "FN73",
          "FN74",
          "FN75",
          "FN76",
          "FN77",
          "FN78",
          "FN81",
          "FN82",
          "FN84",
          "FN86",
          "FN87",
          "FN88",
          "FN89",
          "FN90",
          "FN91",
          "FN92",
          "FN93",
          "FN96",
          "T010",
          "T012",
          "T013",
          "T014",
          "T015",
          "T016",
          "T017",
          "T018",
          "T019",
          "T020",
          "T022",
          "T024",
          "T025",
          "T026",
          "T027",
          "T028",
          "T029",
          "T035",
          "T043",
          "T044",
          "T045",
          "T047",
          "T048",
          "T049",
          "T055",
          "T056",
          "T057",
          "T064",
          "T066",
          "T067",
          "T070",
          "T071",
          "T073",
          "T075",
          "T076",
          "T080",
          "T083",
          "T084",
          "T089",
          "T090",
          "T091",
          "T092",
          "T093",
          "T095",
          "T096",
          "T097",
          "T104"
         ],
         "y": [
          -1,
          -1,
          -1,
          -1,
          -1,
          -1,
          -1,
          -1,
          -1,
          -1,
          -1,
          -1,
          -1,
          -1,
          -1,
          -1,
          -1,
          -1,
          -1,
          -1,
          -1,
          -1,
          -1,
          -1,
          -1,
          -1,
          -1,
          -1,
          -1,
          -1,
          -1,
          -1,
          -1,
          -1,
          -1,
          -1,
          -1,
          -1,
          -1,
          -1,
          -1,
          -1,
          -1,
          -1,
          -1,
          -1,
          -1,
          -1,
          -1,
          -1,
          -1,
          -1,
          -1,
          -1,
          -1,
          -1,
          -1,
          -1,
          -1,
          -1,
          -1,
          -1,
          -1,
          -1,
          -1,
          -1,
          -1,
          -1,
          -1,
          -1,
          -1,
          -1,
          -1,
          -1,
          -1,
          -1,
          -1,
          -1,
          -1,
          -1,
          -1,
          -1,
          -1,
          -1,
          -1
         ]
        },
        {
         "line": {
          "color": "green"
         },
         "name": "Línea 1",
         "type": "scatter",
         "x": [
          "FN39",
          "FN41",
          "FN42",
          "FN43",
          "FN44",
          "FN45",
          "FN47",
          "FN50",
          "FN52",
          "FN54",
          "FN56",
          "FN59",
          "FN60",
          "FN61",
          "FN64",
          "FN65",
          "FN66",
          "FN67",
          "FN70",
          "FN71",
          "FN73",
          "FN74",
          "FN75",
          "FN76",
          "FN77",
          "FN78",
          "FN81",
          "FN82",
          "FN84",
          "FN86",
          "FN87",
          "FN88",
          "FN89",
          "FN90",
          "FN91",
          "FN92",
          "FN93",
          "FN96",
          "T010",
          "T012",
          "T013",
          "T014",
          "T015",
          "T016",
          "T017",
          "T018",
          "T019",
          "T020",
          "T022",
          "T024",
          "T025",
          "T026",
          "T027",
          "T028",
          "T029",
          "T035",
          "T043",
          "T044",
          "T045",
          "T047",
          "T048",
          "T049",
          "T055",
          "T056",
          "T057",
          "T064",
          "T066",
          "T067",
          "T070",
          "T071",
          "T073",
          "T075",
          "T076",
          "T080",
          "T083",
          "T084",
          "T089",
          "T090",
          "T091",
          "T092",
          "T093",
          "T095",
          "T096",
          "T097",
          "T104"
         ],
         "y": [
          1,
          1,
          1,
          1,
          1,
          1,
          1,
          1,
          1,
          1,
          1,
          1,
          1,
          1,
          1,
          1,
          1,
          1,
          1,
          1,
          1,
          1,
          1,
          1,
          1,
          1,
          1,
          1,
          1,
          1,
          1,
          1,
          1,
          1,
          1,
          1,
          1,
          1,
          1,
          1,
          1,
          1,
          1,
          1,
          1,
          1,
          1,
          1,
          1,
          1,
          1,
          1,
          1,
          1,
          1,
          1,
          1,
          1,
          1,
          1,
          1,
          1,
          1,
          1,
          1,
          1,
          1,
          1,
          1,
          1,
          1,
          1,
          1,
          1,
          1,
          1,
          1,
          1,
          1,
          1,
          1,
          1,
          1,
          1,
          1
         ]
        },
        {
         "line": {
          "color": "gray"
         },
         "name": "Línea 0",
         "type": "scatter",
         "x": [
          "FN39",
          "FN41",
          "FN42",
          "FN43",
          "FN44",
          "FN45",
          "FN47",
          "FN50",
          "FN52",
          "FN54",
          "FN56",
          "FN59",
          "FN60",
          "FN61",
          "FN64",
          "FN65",
          "FN66",
          "FN67",
          "FN70",
          "FN71",
          "FN73",
          "FN74",
          "FN75",
          "FN76",
          "FN77",
          "FN78",
          "FN81",
          "FN82",
          "FN84",
          "FN86",
          "FN87",
          "FN88",
          "FN89",
          "FN90",
          "FN91",
          "FN92",
          "FN93",
          "FN96",
          "T010",
          "T012",
          "T013",
          "T014",
          "T015",
          "T016",
          "T017",
          "T018",
          "T019",
          "T020",
          "T022",
          "T024",
          "T025",
          "T026",
          "T027",
          "T028",
          "T029",
          "T035",
          "T043",
          "T044",
          "T045",
          "T047",
          "T048",
          "T049",
          "T055",
          "T056",
          "T057",
          "T064",
          "T066",
          "T067",
          "T070",
          "T071",
          "T073",
          "T075",
          "T076",
          "T080",
          "T083",
          "T084",
          "T089",
          "T090",
          "T091",
          "T092",
          "T093",
          "T095",
          "T096",
          "T097",
          "T104"
         ],
         "y": [
          0,
          0,
          0,
          0,
          0,
          0,
          0,
          0,
          0,
          0,
          0,
          0,
          0,
          0,
          0,
          0,
          0,
          0,
          0,
          0,
          0,
          0,
          0,
          0,
          0,
          0,
          0,
          0,
          0,
          0,
          0,
          0,
          0,
          0,
          0,
          0,
          0,
          0,
          0,
          0,
          0,
          0,
          0,
          0,
          0,
          0,
          0,
          0,
          0,
          0,
          0,
          0,
          0,
          0,
          0,
          0,
          0,
          0,
          0,
          0,
          0,
          0,
          0,
          0,
          0,
          0,
          0,
          0,
          0,
          0,
          0,
          0,
          0,
          0,
          0,
          0,
          0,
          0,
          0,
          0,
          0,
          0,
          0,
          0,
          0
         ]
        },
        {
         "marker": {
          "color": "purple"
         },
         "mode": "markers",
         "name": "Indice tiendas",
         "type": "scatter",
         "x": [
          "FN39",
          "FN41",
          "FN42",
          "FN43",
          "FN44",
          "FN45",
          "FN47",
          "FN50",
          "FN52",
          "FN54",
          "FN56",
          "FN59",
          "FN60",
          "FN61",
          "FN64",
          "FN65",
          "FN66",
          "FN67",
          "FN70",
          "FN71",
          "FN73",
          "FN74",
          "FN75",
          "FN76",
          "FN77",
          "FN78",
          "FN81",
          "FN82",
          "FN84",
          "FN86",
          "FN87",
          "FN88",
          "FN89",
          "FN90",
          "FN91",
          "FN92",
          "FN93",
          "FN96",
          "T010",
          "T012",
          "T013",
          "T014",
          "T015",
          "T016",
          "T017",
          "T018",
          "T019",
          "T020",
          "T022",
          "T024",
          "T025",
          "T026",
          "T027",
          "T028",
          "T029",
          "T035",
          "T043",
          "T044",
          "T045",
          "T047",
          "T048",
          "T049",
          "T055",
          "T056",
          "T057",
          "T064",
          "T066",
          "T067",
          "T070",
          "T071",
          "T073",
          "T075",
          "T076",
          "T080",
          "T083",
          "T084",
          "T089",
          "T090",
          "T091",
          "T092",
          "T093",
          "T095",
          "T096",
          "T097",
          "T104"
         ],
         "y": [
          -4.245211532302699,
          -3.288997190398129,
          -3.180941258884483,
          -2.50323767915506,
          0.4001280336384777,
          -2.0749015381172424,
          -0.6626485879441163,
          0.08170060686733803,
          -0.07744175358651871,
          0.10615446526976821,
          -0.9624062139277818,
          0.39761282664553105,
          0.9630920409300786,
          0.04706807860421139,
          -0.5771663862226083,
          0.6172107902483536,
          1.8340736293143869,
          -0.311942736235547,
          -0.21518353842982463,
          1.21550711387873,
          1.2821938400848265,
          -1.0805010269094377,
          -1.8316656672110039,
          1.3953650049443305,
          -1.1511419777936822,
          0.39494067237269076,
          0.21999703985936414,
          -1.5828043507450942,
          -2.830497301870515,
          -0.5883352710450664,
          0.002762019894152387,
          0.03364660984702952,
          0.711103433629143,
          1.0058103299645862,
          0.7774212370485538,
          -2.178667877644981,
          -2.1063369863516757,
          -1.2051072439338057,
          0.6731619305611494,
          1.2518964242277038,
          1.7184742837886888,
          1.6115002553616513,
          0.5855467350219774,
          1.8061482786661727,
          1.7541488540421475,
          0.2546507280951135,
          0.6763555272654157,
          -0.01779603581348884,
          0.684294775132724,
          1.9035652227324715,
          -0.21043974007023628,
          1.1200882572473478,
          1.0686802054512594,
          -0.056281758867509205,
          0.9059663764954683,
          0.06694679684477212,
          0.02859352657223442,
          0.7045228370716577,
          0.7083847072190089,
          -0.49590780970983467,
          0.022654103773760106,
          -0.48740818223076615,
          -0.01800520969438336,
          0.7953640003655666,
          0.3976725506001349,
          0.04906921612056713,
          0.1488247633132495,
          1.8149839633797566,
          -0.16912895392748337,
          0.019134189751974923,
          0.7493265297550319,
          0.6050523590647788,
          1.1785110879384622,
          0.677270560121064,
          -1.1778769059478607,
          2.314871342385346,
          0.6669559958187062,
          0.9592115441697677,
          0.26056010508605687,
          0.1741719698677489,
          2.61953964884263,
          -0.35368940460689946,
          -0.85344569320837,
          1.8968375709088479,
          -7.863609183315866
         ]
        }
       ],
       "layout": {
        "template": {
         "data": {
          "bar": [
           {
            "error_x": {
             "color": "#2a3f5f"
            },
            "error_y": {
             "color": "#2a3f5f"
            },
            "marker": {
             "line": {
              "color": "#E5ECF6",
              "width": 0.5
             },
             "pattern": {
              "fillmode": "overlay",
              "size": 10,
              "solidity": 0.2
             }
            },
            "type": "bar"
           }
          ],
          "barpolar": [
           {
            "marker": {
             "line": {
              "color": "#E5ECF6",
              "width": 0.5
             },
             "pattern": {
              "fillmode": "overlay",
              "size": 10,
              "solidity": 0.2
             }
            },
            "type": "barpolar"
           }
          ],
          "carpet": [
           {
            "aaxis": {
             "endlinecolor": "#2a3f5f",
             "gridcolor": "white",
             "linecolor": "white",
             "minorgridcolor": "white",
             "startlinecolor": "#2a3f5f"
            },
            "baxis": {
             "endlinecolor": "#2a3f5f",
             "gridcolor": "white",
             "linecolor": "white",
             "minorgridcolor": "white",
             "startlinecolor": "#2a3f5f"
            },
            "type": "carpet"
           }
          ],
          "choropleth": [
           {
            "colorbar": {
             "outlinewidth": 0,
             "ticks": ""
            },
            "type": "choropleth"
           }
          ],
          "contour": [
           {
            "colorbar": {
             "outlinewidth": 0,
             "ticks": ""
            },
            "colorscale": [
             [
              0,
              "#0d0887"
             ],
             [
              0.1111111111111111,
              "#46039f"
             ],
             [
              0.2222222222222222,
              "#7201a8"
             ],
             [
              0.3333333333333333,
              "#9c179e"
             ],
             [
              0.4444444444444444,
              "#bd3786"
             ],
             [
              0.5555555555555556,
              "#d8576b"
             ],
             [
              0.6666666666666666,
              "#ed7953"
             ],
             [
              0.7777777777777778,
              "#fb9f3a"
             ],
             [
              0.8888888888888888,
              "#fdca26"
             ],
             [
              1,
              "#f0f921"
             ]
            ],
            "type": "contour"
           }
          ],
          "contourcarpet": [
           {
            "colorbar": {
             "outlinewidth": 0,
             "ticks": ""
            },
            "type": "contourcarpet"
           }
          ],
          "heatmap": [
           {
            "colorbar": {
             "outlinewidth": 0,
             "ticks": ""
            },
            "colorscale": [
             [
              0,
              "#0d0887"
             ],
             [
              0.1111111111111111,
              "#46039f"
             ],
             [
              0.2222222222222222,
              "#7201a8"
             ],
             [
              0.3333333333333333,
              "#9c179e"
             ],
             [
              0.4444444444444444,
              "#bd3786"
             ],
             [
              0.5555555555555556,
              "#d8576b"
             ],
             [
              0.6666666666666666,
              "#ed7953"
             ],
             [
              0.7777777777777778,
              "#fb9f3a"
             ],
             [
              0.8888888888888888,
              "#fdca26"
             ],
             [
              1,
              "#f0f921"
             ]
            ],
            "type": "heatmap"
           }
          ],
          "heatmapgl": [
           {
            "colorbar": {
             "outlinewidth": 0,
             "ticks": ""
            },
            "colorscale": [
             [
              0,
              "#0d0887"
             ],
             [
              0.1111111111111111,
              "#46039f"
             ],
             [
              0.2222222222222222,
              "#7201a8"
             ],
             [
              0.3333333333333333,
              "#9c179e"
             ],
             [
              0.4444444444444444,
              "#bd3786"
             ],
             [
              0.5555555555555556,
              "#d8576b"
             ],
             [
              0.6666666666666666,
              "#ed7953"
             ],
             [
              0.7777777777777778,
              "#fb9f3a"
             ],
             [
              0.8888888888888888,
              "#fdca26"
             ],
             [
              1,
              "#f0f921"
             ]
            ],
            "type": "heatmapgl"
           }
          ],
          "histogram": [
           {
            "marker": {
             "pattern": {
              "fillmode": "overlay",
              "size": 10,
              "solidity": 0.2
             }
            },
            "type": "histogram"
           }
          ],
          "histogram2d": [
           {
            "colorbar": {
             "outlinewidth": 0,
             "ticks": ""
            },
            "colorscale": [
             [
              0,
              "#0d0887"
             ],
             [
              0.1111111111111111,
              "#46039f"
             ],
             [
              0.2222222222222222,
              "#7201a8"
             ],
             [
              0.3333333333333333,
              "#9c179e"
             ],
             [
              0.4444444444444444,
              "#bd3786"
             ],
             [
              0.5555555555555556,
              "#d8576b"
             ],
             [
              0.6666666666666666,
              "#ed7953"
             ],
             [
              0.7777777777777778,
              "#fb9f3a"
             ],
             [
              0.8888888888888888,
              "#fdca26"
             ],
             [
              1,
              "#f0f921"
             ]
            ],
            "type": "histogram2d"
           }
          ],
          "histogram2dcontour": [
           {
            "colorbar": {
             "outlinewidth": 0,
             "ticks": ""
            },
            "colorscale": [
             [
              0,
              "#0d0887"
             ],
             [
              0.1111111111111111,
              "#46039f"
             ],
             [
              0.2222222222222222,
              "#7201a8"
             ],
             [
              0.3333333333333333,
              "#9c179e"
             ],
             [
              0.4444444444444444,
              "#bd3786"
             ],
             [
              0.5555555555555556,
              "#d8576b"
             ],
             [
              0.6666666666666666,
              "#ed7953"
             ],
             [
              0.7777777777777778,
              "#fb9f3a"
             ],
             [
              0.8888888888888888,
              "#fdca26"
             ],
             [
              1,
              "#f0f921"
             ]
            ],
            "type": "histogram2dcontour"
           }
          ],
          "mesh3d": [
           {
            "colorbar": {
             "outlinewidth": 0,
             "ticks": ""
            },
            "type": "mesh3d"
           }
          ],
          "parcoords": [
           {
            "line": {
             "colorbar": {
              "outlinewidth": 0,
              "ticks": ""
             }
            },
            "type": "parcoords"
           }
          ],
          "pie": [
           {
            "automargin": true,
            "type": "pie"
           }
          ],
          "scatter": [
           {
            "fillpattern": {
             "fillmode": "overlay",
             "size": 10,
             "solidity": 0.2
            },
            "type": "scatter"
           }
          ],
          "scatter3d": [
           {
            "line": {
             "colorbar": {
              "outlinewidth": 0,
              "ticks": ""
             }
            },
            "marker": {
             "colorbar": {
              "outlinewidth": 0,
              "ticks": ""
             }
            },
            "type": "scatter3d"
           }
          ],
          "scattercarpet": [
           {
            "marker": {
             "colorbar": {
              "outlinewidth": 0,
              "ticks": ""
             }
            },
            "type": "scattercarpet"
           }
          ],
          "scattergeo": [
           {
            "marker": {
             "colorbar": {
              "outlinewidth": 0,
              "ticks": ""
             }
            },
            "type": "scattergeo"
           }
          ],
          "scattergl": [
           {
            "marker": {
             "colorbar": {
              "outlinewidth": 0,
              "ticks": ""
             }
            },
            "type": "scattergl"
           }
          ],
          "scattermapbox": [
           {
            "marker": {
             "colorbar": {
              "outlinewidth": 0,
              "ticks": ""
             }
            },
            "type": "scattermapbox"
           }
          ],
          "scatterpolar": [
           {
            "marker": {
             "colorbar": {
              "outlinewidth": 0,
              "ticks": ""
             }
            },
            "type": "scatterpolar"
           }
          ],
          "scatterpolargl": [
           {
            "marker": {
             "colorbar": {
              "outlinewidth": 0,
              "ticks": ""
             }
            },
            "type": "scatterpolargl"
           }
          ],
          "scatterternary": [
           {
            "marker": {
             "colorbar": {
              "outlinewidth": 0,
              "ticks": ""
             }
            },
            "type": "scatterternary"
           }
          ],
          "surface": [
           {
            "colorbar": {
             "outlinewidth": 0,
             "ticks": ""
            },
            "colorscale": [
             [
              0,
              "#0d0887"
             ],
             [
              0.1111111111111111,
              "#46039f"
             ],
             [
              0.2222222222222222,
              "#7201a8"
             ],
             [
              0.3333333333333333,
              "#9c179e"
             ],
             [
              0.4444444444444444,
              "#bd3786"
             ],
             [
              0.5555555555555556,
              "#d8576b"
             ],
             [
              0.6666666666666666,
              "#ed7953"
             ],
             [
              0.7777777777777778,
              "#fb9f3a"
             ],
             [
              0.8888888888888888,
              "#fdca26"
             ],
             [
              1,
              "#f0f921"
             ]
            ],
            "type": "surface"
           }
          ],
          "table": [
           {
            "cells": {
             "fill": {
              "color": "#EBF0F8"
             },
             "line": {
              "color": "white"
             }
            },
            "header": {
             "fill": {
              "color": "#C8D4E3"
             },
             "line": {
              "color": "white"
             }
            },
            "type": "table"
           }
          ]
         },
         "layout": {
          "annotationdefaults": {
           "arrowcolor": "#2a3f5f",
           "arrowhead": 0,
           "arrowwidth": 1
          },
          "autotypenumbers": "strict",
          "coloraxis": {
           "colorbar": {
            "outlinewidth": 0,
            "ticks": ""
           }
          },
          "colorscale": {
           "diverging": [
            [
             0,
             "#8e0152"
            ],
            [
             0.1,
             "#c51b7d"
            ],
            [
             0.2,
             "#de77ae"
            ],
            [
             0.3,
             "#f1b6da"
            ],
            [
             0.4,
             "#fde0ef"
            ],
            [
             0.5,
             "#f7f7f7"
            ],
            [
             0.6,
             "#e6f5d0"
            ],
            [
             0.7,
             "#b8e186"
            ],
            [
             0.8,
             "#7fbc41"
            ],
            [
             0.9,
             "#4d9221"
            ],
            [
             1,
             "#276419"
            ]
           ],
           "sequential": [
            [
             0,
             "#0d0887"
            ],
            [
             0.1111111111111111,
             "#46039f"
            ],
            [
             0.2222222222222222,
             "#7201a8"
            ],
            [
             0.3333333333333333,
             "#9c179e"
            ],
            [
             0.4444444444444444,
             "#bd3786"
            ],
            [
             0.5555555555555556,
             "#d8576b"
            ],
            [
             0.6666666666666666,
             "#ed7953"
            ],
            [
             0.7777777777777778,
             "#fb9f3a"
            ],
            [
             0.8888888888888888,
             "#fdca26"
            ],
            [
             1,
             "#f0f921"
            ]
           ],
           "sequentialminus": [
            [
             0,
             "#0d0887"
            ],
            [
             0.1111111111111111,
             "#46039f"
            ],
            [
             0.2222222222222222,
             "#7201a8"
            ],
            [
             0.3333333333333333,
             "#9c179e"
            ],
            [
             0.4444444444444444,
             "#bd3786"
            ],
            [
             0.5555555555555556,
             "#d8576b"
            ],
            [
             0.6666666666666666,
             "#ed7953"
            ],
            [
             0.7777777777777778,
             "#fb9f3a"
            ],
            [
             0.8888888888888888,
             "#fdca26"
            ],
            [
             1,
             "#f0f921"
            ]
           ]
          },
          "colorway": [
           "#636efa",
           "#EF553B",
           "#00cc96",
           "#ab63fa",
           "#FFA15A",
           "#19d3f3",
           "#FF6692",
           "#B6E880",
           "#FF97FF",
           "#FECB52"
          ],
          "font": {
           "color": "#2a3f5f"
          },
          "geo": {
           "bgcolor": "white",
           "lakecolor": "white",
           "landcolor": "#E5ECF6",
           "showlakes": true,
           "showland": true,
           "subunitcolor": "white"
          },
          "hoverlabel": {
           "align": "left"
          },
          "hovermode": "closest",
          "mapbox": {
           "style": "light"
          },
          "paper_bgcolor": "white",
          "plot_bgcolor": "#E5ECF6",
          "polar": {
           "angularaxis": {
            "gridcolor": "white",
            "linecolor": "white",
            "ticks": ""
           },
           "bgcolor": "#E5ECF6",
           "radialaxis": {
            "gridcolor": "white",
            "linecolor": "white",
            "ticks": ""
           }
          },
          "scene": {
           "xaxis": {
            "backgroundcolor": "#E5ECF6",
            "gridcolor": "white",
            "gridwidth": 2,
            "linecolor": "white",
            "showbackground": true,
            "ticks": "",
            "zerolinecolor": "white"
           },
           "yaxis": {
            "backgroundcolor": "#E5ECF6",
            "gridcolor": "white",
            "gridwidth": 2,
            "linecolor": "white",
            "showbackground": true,
            "ticks": "",
            "zerolinecolor": "white"
           },
           "zaxis": {
            "backgroundcolor": "#E5ECF6",
            "gridcolor": "white",
            "gridwidth": 2,
            "linecolor": "white",
            "showbackground": true,
            "ticks": "",
            "zerolinecolor": "white"
           }
          },
          "shapedefaults": {
           "line": {
            "color": "#2a3f5f"
           }
          },
          "ternary": {
           "aaxis": {
            "gridcolor": "white",
            "linecolor": "white",
            "ticks": ""
           },
           "baxis": {
            "gridcolor": "white",
            "linecolor": "white",
            "ticks": ""
           },
           "bgcolor": "#E5ECF6",
           "caxis": {
            "gridcolor": "white",
            "linecolor": "white",
            "ticks": ""
           }
          },
          "title": {
           "x": 0.05
          },
          "xaxis": {
           "automargin": true,
           "gridcolor": "white",
           "linecolor": "white",
           "ticks": "",
           "title": {
            "standoff": 15
           },
           "zerolinecolor": "white",
           "zerolinewidth": 2
          },
          "yaxis": {
           "automargin": true,
           "gridcolor": "white",
           "linecolor": "white",
           "ticks": "",
           "title": {
            "standoff": 15
           },
           "zerolinecolor": "white",
           "zerolinewidth": 2
          }
         }
        }
       }
      }
     },
     "metadata": {},
     "output_type": "display_data"
    }
   ],
   "source": [
    "import plotly.graph_objects as go\n",
    "\n",
    "df_result2 = df_result2.sort_values(by='COD_PUNTO_VENTA', ascending=True)\n",
    "\n",
    "fig = go.Figure()\n",
    "\n",
    "fig.add_trace(go.Line(\n",
    "    x = df_result2['COD_PUNTO_VENTA'], \n",
    "    y = [-1]*len(df_result2['COD_PUNTO_VENTA']),\n",
    "    line_color='red',\n",
    "    name='Línea -1'\n",
    "    ))\n",
    "            \n",
    "\n",
    "fig.add_trace(go.Line(\n",
    "    x = df_result2['COD_PUNTO_VENTA'], \n",
    "    y = [1]*len(df_result2['COD_PUNTO_VENTA']),\n",
    "    line_color='green',\n",
    "    name='Línea 1'\n",
    "    ))\n",
    "\n",
    "fig.add_trace(go.Line(\n",
    "    x = df_result2['COD_PUNTO_VENTA'], \n",
    "    y = [0]*len(df_result2['COD_PUNTO_VENTA']),\n",
    "    line_color='gray',\n",
    "    name='Línea 0'\n",
    "    ))\n",
    "\n",
    "fig.add_trace(go.Scatter(\n",
    "    x = df_result2['COD_PUNTO_VENTA'], \n",
    "    y = df_result2['Indice3'],\n",
    "    mode='markers',\n",
    "    marker=dict(color='purple'),\n",
    "    name='Indice tiendas',\n",
    "    ))\n",
    "\n",
    "fig.show()"
   ]
  },
  {
   "cell_type": "code",
   "execution_count": null,
   "metadata": {},
   "outputs": [
    {
     "data": {
      "text/html": [
       "<div>\n",
       "<style scoped>\n",
       "    .dataframe tbody tr th:only-of-type {\n",
       "        vertical-align: middle;\n",
       "    }\n",
       "\n",
       "    .dataframe tbody tr th {\n",
       "        vertical-align: top;\n",
       "    }\n",
       "\n",
       "    .dataframe thead th {\n",
       "        text-align: right;\n",
       "    }\n",
       "</style>\n",
       "<table border=\"1\" class=\"dataframe\">\n",
       "  <thead>\n",
       "    <tr style=\"text-align: right;\">\n",
       "      <th></th>\n",
       "      <th>PUNTO_VENTA</th>\n",
       "      <th>CONTRIBUCION</th>\n",
       "      <th>ROTACION</th>\n",
       "      <th>VENTA_POR_MES</th>\n",
       "      <th>MARGEN</th>\n",
       "      <th>VENTA_PESOS</th>\n",
       "      <th>VENTA_UNDS</th>\n",
       "      <th>COSTO</th>\n",
       "      <th>z1</th>\n",
       "      <th>z2</th>\n",
       "      <th>z3</th>\n",
       "      <th>PC4</th>\n",
       "      <th>PC5</th>\n",
       "      <th>PC6</th>\n",
       "      <th>Indice</th>\n",
       "      <th>Indice2</th>\n",
       "      <th>Indice3</th>\n",
       "      <th>COD_PUNTO_VENTA</th>\n",
       "      <th>INDICE</th>\n",
       "      <th>CLUSTER</th>\n",
       "      <th>RANKING</th>\n",
       "      <th>ranking_pca</th>\n",
       "    </tr>\n",
       "  </thead>\n",
       "  <tbody>\n",
       "    <tr>\n",
       "      <th>83</th>\n",
       "      <td>OFFCORSS VILLANUEVA</td>\n",
       "      <td>213384.20</td>\n",
       "      <td>0.272727</td>\n",
       "      <td>30.00000</td>\n",
       "      <td>0.819437</td>\n",
       "      <td>260403.40</td>\n",
       "      <td>30</td>\n",
       "      <td>47019.164</td>\n",
       "      <td>5.601706</td>\n",
       "      <td>-1.676459</td>\n",
       "      <td>4.047825</td>\n",
       "      <td>-0.424180</td>\n",
       "      <td>0.349041</td>\n",
       "      <td>-0.019440</td>\n",
       "      <td>4.245212</td>\n",
       "      <td>4.234758</td>\n",
       "      <td>-4.245212</td>\n",
       "      <td>FN39</td>\n",
       "      <td>-4.742404</td>\n",
       "      <td>grupo4</td>\n",
       "      <td>84</td>\n",
       "      <td>84</td>\n",
       "    </tr>\n",
       "    <tr>\n",
       "      <th>81</th>\n",
       "      <td>TIENDA OFFCORSS TULUA</td>\n",
       "      <td>516692.10</td>\n",
       "      <td>0.561947</td>\n",
       "      <td>25.40000</td>\n",
       "      <td>0.865128</td>\n",
       "      <td>597243.70</td>\n",
       "      <td>127</td>\n",
       "      <td>80551.622</td>\n",
       "      <td>4.234338</td>\n",
       "      <td>-0.025163</td>\n",
       "      <td>1.989367</td>\n",
       "      <td>1.101615</td>\n",
       "      <td>0.081837</td>\n",
       "      <td>0.024125</td>\n",
       "      <td>3.288997</td>\n",
       "      <td>3.316984</td>\n",
       "      <td>-3.288997</td>\n",
       "      <td>FN41</td>\n",
       "      <td>-3.345622</td>\n",
       "      <td>grupo4</td>\n",
       "      <td>82</td>\n",
       "      <td>83</td>\n",
       "    </tr>\n",
       "    <tr>\n",
       "      <th>82</th>\n",
       "      <td>OFFCORSS GRANADA</td>\n",
       "      <td>775278.60</td>\n",
       "      <td>0.403226</td>\n",
       "      <td>12.50000</td>\n",
       "      <td>0.856972</td>\n",
       "      <td>904672.30</td>\n",
       "      <td>75</td>\n",
       "      <td>129393.712</td>\n",
       "      <td>4.351412</td>\n",
       "      <td>-0.835323</td>\n",
       "      <td>1.189195</td>\n",
       "      <td>-0.311337</td>\n",
       "      <td>-0.090559</td>\n",
       "      <td>-0.053767</td>\n",
       "      <td>3.180941</td>\n",
       "      <td>3.172968</td>\n",
       "      <td>-3.180941</td>\n",
       "      <td>FN42</td>\n",
       "      <td>-3.523319</td>\n",
       "      <td>grupo4</td>\n",
       "      <td>83</td>\n",
       "      <td>82</td>\n",
       "    </tr>\n",
       "    <tr>\n",
       "      <th>79</th>\n",
       "      <td>OFFCORSS FACATATIVA</td>\n",
       "      <td>968795.00</td>\n",
       "      <td>0.544402</td>\n",
       "      <td>20.14286</td>\n",
       "      <td>0.879091</td>\n",
       "      <td>1102042.00</td>\n",
       "      <td>141</td>\n",
       "      <td>133247.012</td>\n",
       "      <td>3.337695</td>\n",
       "      <td>0.151902</td>\n",
       "      <td>0.358768</td>\n",
       "      <td>0.284336</td>\n",
       "      <td>0.060217</td>\n",
       "      <td>-0.004198</td>\n",
       "      <td>2.503238</td>\n",
       "      <td>2.510493</td>\n",
       "      <td>-2.503238</td>\n",
       "      <td>FN43</td>\n",
       "      <td>-2.549527</td>\n",
       "      <td>grupo4</td>\n",
       "      <td>80</td>\n",
       "      <td>80</td>\n",
       "    </tr>\n",
       "    <tr>\n",
       "      <th>40</th>\n",
       "      <td>TIENDA FUSAGASUGA</td>\n",
       "      <td>1620704.00</td>\n",
       "      <td>0.756705</td>\n",
       "      <td>39.50000</td>\n",
       "      <td>0.852598</td>\n",
       "      <td>1900899.00</td>\n",
       "      <td>395</td>\n",
       "      <td>280195.552</td>\n",
       "      <td>-0.404803</td>\n",
       "      <td>-0.565352</td>\n",
       "      <td>-0.220295</td>\n",
       "      <td>0.124966</td>\n",
       "      <td>-0.015830</td>\n",
       "      <td>0.020963</td>\n",
       "      <td>-0.400128</td>\n",
       "      <td>-0.396972</td>\n",
       "      <td>0.400128</td>\n",
       "      <td>FN44</td>\n",
       "      <td>0.249556</td>\n",
       "      <td>grupo2</td>\n",
       "      <td>41</td>\n",
       "      <td>36</td>\n",
       "    </tr>\n",
       "    <tr>\n",
       "      <th>...</th>\n",
       "      <td>...</td>\n",
       "      <td>...</td>\n",
       "      <td>...</td>\n",
       "      <td>...</td>\n",
       "      <td>...</td>\n",
       "      <td>...</td>\n",
       "      <td>...</td>\n",
       "      <td>...</td>\n",
       "      <td>...</td>\n",
       "      <td>...</td>\n",
       "      <td>...</td>\n",
       "      <td>...</td>\n",
       "      <td>...</td>\n",
       "      <td>...</td>\n",
       "      <td>...</td>\n",
       "      <td>...</td>\n",
       "      <td>...</td>\n",
       "      <td>...</td>\n",
       "      <td>...</td>\n",
       "      <td>...</td>\n",
       "      <td>...</td>\n",
       "      <td>...</td>\n",
       "    </tr>\n",
       "    <tr>\n",
       "      <th>0</th>\n",
       "      <td>TIENDA ARKADIA</td>\n",
       "      <td>1828644.00</td>\n",
       "      <td>0.854435</td>\n",
       "      <td>112.70000</td>\n",
       "      <td>0.858769</td>\n",
       "      <td>2129378.00</td>\n",
       "      <td>1127</td>\n",
       "      <td>300733.926</td>\n",
       "      <td>-4.256885</td>\n",
       "      <td>2.167685</td>\n",
       "      <td>1.958596</td>\n",
       "      <td>-0.634667</td>\n",
       "      <td>-0.054238</td>\n",
       "      <td>-0.052228</td>\n",
       "      <td>-2.619540</td>\n",
       "      <td>-2.635674</td>\n",
       "      <td>2.619540</td>\n",
       "      <td>T093</td>\n",
       "      <td>2.966199</td>\n",
       "      <td>grupo1</td>\n",
       "      <td>1</td>\n",
       "      <td>1</td>\n",
       "    </tr>\n",
       "    <tr>\n",
       "      <th>64</th>\n",
       "      <td>TIENDA PLAZA CLARO</td>\n",
       "      <td>1563639.00</td>\n",
       "      <td>0.650718</td>\n",
       "      <td>27.20000</td>\n",
       "      <td>0.858619</td>\n",
       "      <td>1821109.00</td>\n",
       "      <td>272</td>\n",
       "      <td>257470.221</td>\n",
       "      <td>0.700321</td>\n",
       "      <td>-0.717505</td>\n",
       "      <td>-0.582356</td>\n",
       "      <td>-0.274764</td>\n",
       "      <td>0.001253</td>\n",
       "      <td>-0.000278</td>\n",
       "      <td>0.353689</td>\n",
       "      <td>0.346728</td>\n",
       "      <td>-0.353689</td>\n",
       "      <td>T095</td>\n",
       "      <td>-0.600359</td>\n",
       "      <td>grupo3</td>\n",
       "      <td>65</td>\n",
       "      <td>63</td>\n",
       "    </tr>\n",
       "    <tr>\n",
       "      <th>68</th>\n",
       "      <td>TIENDA PASEO VILLA DEL RIO</td>\n",
       "      <td>1489062.00</td>\n",
       "      <td>0.632708</td>\n",
       "      <td>23.60000</td>\n",
       "      <td>0.873260</td>\n",
       "      <td>1705176.00</td>\n",
       "      <td>236</td>\n",
       "      <td>216114.089</td>\n",
       "      <td>1.308464</td>\n",
       "      <td>-0.209473</td>\n",
       "      <td>-0.796615</td>\n",
       "      <td>-0.143313</td>\n",
       "      <td>0.021601</td>\n",
       "      <td>-0.022825</td>\n",
       "      <td>0.853446</td>\n",
       "      <td>0.849830</td>\n",
       "      <td>-0.853446</td>\n",
       "      <td>T096</td>\n",
       "      <td>-0.965093</td>\n",
       "      <td>grupo3</td>\n",
       "      <td>69</td>\n",
       "      <td>69</td>\n",
       "    </tr>\n",
       "    <tr>\n",
       "      <th>5</th>\n",
       "      <td>TIENDA  PLAZA FABRICATO</td>\n",
       "      <td>1951233.00</td>\n",
       "      <td>0.834988</td>\n",
       "      <td>67.30000</td>\n",
       "      <td>0.857792</td>\n",
       "      <td>2274714.00</td>\n",
       "      <td>673</td>\n",
       "      <td>323481.526</td>\n",
       "      <td>-2.644872</td>\n",
       "      <td>0.409627</td>\n",
       "      <td>-0.184390</td>\n",
       "      <td>-0.312242</td>\n",
       "      <td>0.068448</td>\n",
       "      <td>0.018995</td>\n",
       "      <td>-1.896838</td>\n",
       "      <td>-1.904689</td>\n",
       "      <td>1.896838</td>\n",
       "      <td>T097</td>\n",
       "      <td>2.093799</td>\n",
       "      <td>grupo1</td>\n",
       "      <td>6</td>\n",
       "      <td>4</td>\n",
       "    </tr>\n",
       "    <tr>\n",
       "      <th>84</th>\n",
       "      <td>TIENDA  ARRAYANES</td>\n",
       "      <td>19304.99</td>\n",
       "      <td>0.000000</td>\n",
       "      <td>2.00000</td>\n",
       "      <td>0.999693</td>\n",
       "      <td>19310.92</td>\n",
       "      <td>2</td>\n",
       "      <td>5.931</td>\n",
       "      <td>9.712374</td>\n",
       "      <td>5.010413</td>\n",
       "      <td>0.121468</td>\n",
       "      <td>-1.116151</td>\n",
       "      <td>-0.149918</td>\n",
       "      <td>0.115321</td>\n",
       "      <td>7.863609</td>\n",
       "      <td>7.835215</td>\n",
       "      <td>-7.863609</td>\n",
       "      <td>T104</td>\n",
       "      <td>-6.276646</td>\n",
       "      <td>grupo4</td>\n",
       "      <td>85</td>\n",
       "      <td>85</td>\n",
       "    </tr>\n",
       "  </tbody>\n",
       "</table>\n",
       "<p>85 rows × 22 columns</p>\n",
       "</div>"
      ],
      "text/plain": [
       "                   PUNTO_VENTA  CONTRIBUCION  ROTACION  VENTA_POR_MES  \\\n",
       "83         OFFCORSS VILLANUEVA     213384.20  0.272727       30.00000   \n",
       "81       TIENDA OFFCORSS TULUA     516692.10  0.561947       25.40000   \n",
       "82            OFFCORSS GRANADA     775278.60  0.403226       12.50000   \n",
       "79         OFFCORSS FACATATIVA     968795.00  0.544402       20.14286   \n",
       "40           TIENDA FUSAGASUGA    1620704.00  0.756705       39.50000   \n",
       "..                         ...           ...       ...            ...   \n",
       "0               TIENDA ARKADIA    1828644.00  0.854435      112.70000   \n",
       "64          TIENDA PLAZA CLARO    1563639.00  0.650718       27.20000   \n",
       "68  TIENDA PASEO VILLA DEL RIO    1489062.00  0.632708       23.60000   \n",
       "5      TIENDA  PLAZA FABRICATO    1951233.00  0.834988       67.30000   \n",
       "84           TIENDA  ARRAYANES      19304.99  0.000000        2.00000   \n",
       "\n",
       "      MARGEN  VENTA_PESOS  VENTA_UNDS       COSTO        z1        z2  \\\n",
       "83  0.819437    260403.40          30   47019.164  5.601706 -1.676459   \n",
       "81  0.865128    597243.70         127   80551.622  4.234338 -0.025163   \n",
       "82  0.856972    904672.30          75  129393.712  4.351412 -0.835323   \n",
       "79  0.879091   1102042.00         141  133247.012  3.337695  0.151902   \n",
       "40  0.852598   1900899.00         395  280195.552 -0.404803 -0.565352   \n",
       "..       ...          ...         ...         ...       ...       ...   \n",
       "0   0.858769   2129378.00        1127  300733.926 -4.256885  2.167685   \n",
       "64  0.858619   1821109.00         272  257470.221  0.700321 -0.717505   \n",
       "68  0.873260   1705176.00         236  216114.089  1.308464 -0.209473   \n",
       "5   0.857792   2274714.00         673  323481.526 -2.644872  0.409627   \n",
       "84  0.999693     19310.92           2       5.931  9.712374  5.010413   \n",
       "\n",
       "          z3       PC4       PC5       PC6    Indice   Indice2   Indice3  \\\n",
       "83  4.047825 -0.424180  0.349041 -0.019440  4.245212  4.234758 -4.245212   \n",
       "81  1.989367  1.101615  0.081837  0.024125  3.288997  3.316984 -3.288997   \n",
       "82  1.189195 -0.311337 -0.090559 -0.053767  3.180941  3.172968 -3.180941   \n",
       "79  0.358768  0.284336  0.060217 -0.004198  2.503238  2.510493 -2.503238   \n",
       "40 -0.220295  0.124966 -0.015830  0.020963 -0.400128 -0.396972  0.400128   \n",
       "..       ...       ...       ...       ...       ...       ...       ...   \n",
       "0   1.958596 -0.634667 -0.054238 -0.052228 -2.619540 -2.635674  2.619540   \n",
       "64 -0.582356 -0.274764  0.001253 -0.000278  0.353689  0.346728 -0.353689   \n",
       "68 -0.796615 -0.143313  0.021601 -0.022825  0.853446  0.849830 -0.853446   \n",
       "5  -0.184390 -0.312242  0.068448  0.018995 -1.896838 -1.904689  1.896838   \n",
       "84  0.121468 -1.116151 -0.149918  0.115321  7.863609  7.835215 -7.863609   \n",
       "\n",
       "   COD_PUNTO_VENTA    INDICE CLUSTER  RANKING  ranking_pca  \n",
       "83            FN39 -4.742404  grupo4       84           84  \n",
       "81            FN41 -3.345622  grupo4       82           83  \n",
       "82            FN42 -3.523319  grupo4       83           82  \n",
       "79            FN43 -2.549527  grupo4       80           80  \n",
       "40            FN44  0.249556  grupo2       41           36  \n",
       "..             ...       ...     ...      ...          ...  \n",
       "0             T093  2.966199  grupo1        1            1  \n",
       "64            T095 -0.600359  grupo3       65           63  \n",
       "68            T096 -0.965093  grupo3       69           69  \n",
       "5             T097  2.093799  grupo1        6            4  \n",
       "84            T104 -6.276646  grupo4       85           85  \n",
       "\n",
       "[85 rows x 22 columns]"
      ]
     },
     "execution_count": 30,
     "metadata": {},
     "output_type": "execute_result"
    }
   ],
   "source": [
    "df_result2"
   ]
  },
  {
   "cell_type": "code",
   "execution_count": null,
   "metadata": {},
   "outputs": [
    {
     "ename": "NameError",
     "evalue": "name 'hh' is not defined",
     "output_type": "error",
     "traceback": [
      "\u001b[1;31m---------------------------------------------------------------------------\u001b[0m",
      "\u001b[1;31mNameError\u001b[0m                                 Traceback (most recent call last)",
      "Cell \u001b[1;32mIn[31], line 1\u001b[0m\n\u001b[1;32m----> 1\u001b[0m \u001b[43mhh\u001b[49m\n",
      "\u001b[1;31mNameError\u001b[0m: name 'hh' is not defined"
     ]
    }
   ],
   "source": [
    "hh"
   ]
  },
  {
   "cell_type": "markdown",
   "metadata": {},
   "source": [
    "### Comparación con el original"
   ]
  },
  {
   "cell_type": "code",
   "execution_count": null,
   "metadata": {},
   "outputs": [
    {
     "data": {
      "text/html": [
       "<div>\n",
       "<style scoped>\n",
       "    .dataframe tbody tr th:only-of-type {\n",
       "        vertical-align: middle;\n",
       "    }\n",
       "\n",
       "    .dataframe tbody tr th {\n",
       "        vertical-align: top;\n",
       "    }\n",
       "\n",
       "    .dataframe thead th {\n",
       "        text-align: right;\n",
       "    }\n",
       "</style>\n",
       "<table border=\"1\" class=\"dataframe\">\n",
       "  <thead>\n",
       "    <tr style=\"text-align: right;\">\n",
       "      <th></th>\n",
       "      <th>indice_min</th>\n",
       "      <th>indice_max</th>\n",
       "      <th>mean_indice</th>\n",
       "      <th>count</th>\n",
       "    </tr>\n",
       "    <tr>\n",
       "      <th>CLUSTER</th>\n",
       "      <th></th>\n",
       "      <th></th>\n",
       "      <th></th>\n",
       "      <th></th>\n",
       "    </tr>\n",
       "  </thead>\n",
       "  <tbody>\n",
       "    <tr>\n",
       "      <th>grupo1</th>\n",
       "      <td>1</td>\n",
       "      <td>26</td>\n",
       "      <td>13.5</td>\n",
       "      <td>26</td>\n",
       "    </tr>\n",
       "    <tr>\n",
       "      <th>grupo2</th>\n",
       "      <td>27</td>\n",
       "      <td>51</td>\n",
       "      <td>39.0</td>\n",
       "      <td>25</td>\n",
       "    </tr>\n",
       "    <tr>\n",
       "      <th>grupo3</th>\n",
       "      <td>52</td>\n",
       "      <td>71</td>\n",
       "      <td>61.5</td>\n",
       "      <td>20</td>\n",
       "    </tr>\n",
       "    <tr>\n",
       "      <th>grupo4</th>\n",
       "      <td>72</td>\n",
       "      <td>93</td>\n",
       "      <td>82.5</td>\n",
       "      <td>22</td>\n",
       "    </tr>\n",
       "  </tbody>\n",
       "</table>\n",
       "</div>"
      ],
      "text/plain": [
       "         indice_min  indice_max  mean_indice  count\n",
       "CLUSTER                                            \n",
       "grupo1            1          26         13.5     26\n",
       "grupo2           27          51         39.0     25\n",
       "grupo3           52          71         61.5     20\n",
       "grupo4           72          93         82.5     22"
      ]
     },
     "execution_count": 30,
     "metadata": {},
     "output_type": "execute_result"
    }
   ],
   "source": [
    "df_result2.groupby('CLUSTER').agg(\n",
    "    indice_min = ('RANKING', 'min'),\n",
    "    indice_max = ('RANKING', 'max'),\n",
    "    mean_indice = ('RANKING', 'mean'),\n",
    "    count = ('RANKING', 'nunique')\n",
    ")"
   ]
  },
  {
   "cell_type": "code",
   "execution_count": null,
   "metadata": {},
   "outputs": [],
   "source": [
    "df_result2['indices_dif_ranking_pca'] = np.where(df_result2['RANKING'] == df_result2['ranking_pca'], True, False)"
   ]
  },
  {
   "cell_type": "code",
   "execution_count": null,
   "metadata": {},
   "outputs": [
    {
     "data": {
      "text/html": [
       "<div>\n",
       "<style scoped>\n",
       "    .dataframe tbody tr th:only-of-type {\n",
       "        vertical-align: middle;\n",
       "    }\n",
       "\n",
       "    .dataframe tbody tr th {\n",
       "        vertical-align: top;\n",
       "    }\n",
       "\n",
       "    .dataframe thead th {\n",
       "        text-align: right;\n",
       "    }\n",
       "</style>\n",
       "<table border=\"1\" class=\"dataframe\">\n",
       "  <thead>\n",
       "    <tr style=\"text-align: right;\">\n",
       "      <th></th>\n",
       "      <th>PUNTO_VENTA</th>\n",
       "      <th>CLUSTER</th>\n",
       "      <th>INDICE</th>\n",
       "      <th>Indice3</th>\n",
       "      <th>RANKING</th>\n",
       "      <th>ranking_pca</th>\n",
       "    </tr>\n",
       "  </thead>\n",
       "  <tbody>\n",
       "    <tr>\n",
       "      <th>23</th>\n",
       "      <td>TIENDA UNICENTRO GIRARDOT</td>\n",
       "      <td>grupo1</td>\n",
       "      <td>1.046825</td>\n",
       "      <td>0.884495</td>\n",
       "      <td>24</td>\n",
       "      <td>24</td>\n",
       "    </tr>\n",
       "    <tr>\n",
       "      <th>19</th>\n",
       "      <td>TIENDA OVIEDO 2</td>\n",
       "      <td>grupo1</td>\n",
       "      <td>1.140328</td>\n",
       "      <td>0.954102</td>\n",
       "      <td>20</td>\n",
       "      <td>22</td>\n",
       "    </tr>\n",
       "    <tr>\n",
       "      <th>24</th>\n",
       "      <td>LA ESTACION IBAGUE</td>\n",
       "      <td>grupo1</td>\n",
       "      <td>1.015080</td>\n",
       "      <td>0.817783</td>\n",
       "      <td>25</td>\n",
       "      <td>28</td>\n",
       "    </tr>\n",
       "    <tr>\n",
       "      <th>22</th>\n",
       "      <td>CAMPANARIO POPAYAN</td>\n",
       "      <td>grupo1</td>\n",
       "      <td>1.083439</td>\n",
       "      <td>0.928656</td>\n",
       "      <td>23</td>\n",
       "      <td>23</td>\n",
       "    </tr>\n",
       "    <tr>\n",
       "      <th>25</th>\n",
       "      <td>TIENDA COSMOCENTRO CALI</td>\n",
       "      <td>grupo1</td>\n",
       "      <td>1.004641</td>\n",
       "      <td>0.873322</td>\n",
       "      <td>26</td>\n",
       "      <td>25</td>\n",
       "    </tr>\n",
       "    <tr>\n",
       "      <th>18</th>\n",
       "      <td>UNICENTRO ARMENIA</td>\n",
       "      <td>grupo1</td>\n",
       "      <td>1.154613</td>\n",
       "      <td>0.961044</td>\n",
       "      <td>19</td>\n",
       "      <td>21</td>\n",
       "    </tr>\n",
       "    <tr>\n",
       "      <th>21</th>\n",
       "      <td>TIENDA GRAN PLAZA SOACHA</td>\n",
       "      <td>grupo1</td>\n",
       "      <td>1.094247</td>\n",
       "      <td>0.985109</td>\n",
       "      <td>22</td>\n",
       "      <td>20</td>\n",
       "    </tr>\n",
       "    <tr>\n",
       "      <th>48</th>\n",
       "      <td>TIENDA ECOPLAZA BOGOTA</td>\n",
       "      <td>grupo2</td>\n",
       "      <td>0.085809</td>\n",
       "      <td>0.266820</td>\n",
       "      <td>49</td>\n",
       "      <td>47</td>\n",
       "    </tr>\n",
       "    <tr>\n",
       "      <th>45</th>\n",
       "      <td>TIENDA NUESTRA URABA</td>\n",
       "      <td>grupo2</td>\n",
       "      <td>0.211635</td>\n",
       "      <td>0.230306</td>\n",
       "      <td>46</td>\n",
       "      <td>49</td>\n",
       "    </tr>\n",
       "    <tr>\n",
       "      <th>33</th>\n",
       "      <td>TIENDA PORTAL 80</td>\n",
       "      <td>grupo2</td>\n",
       "      <td>0.697739</td>\n",
       "      <td>0.637957</td>\n",
       "      <td>34</td>\n",
       "      <td>34</td>\n",
       "    </tr>\n",
       "    <tr>\n",
       "      <th>26</th>\n",
       "      <td>TIENDA PLAZA CENTRAL</td>\n",
       "      <td>grupo2</td>\n",
       "      <td>0.954109</td>\n",
       "      <td>0.867260</td>\n",
       "      <td>27</td>\n",
       "      <td>26</td>\n",
       "    </tr>\n",
       "    <tr>\n",
       "      <th>29</th>\n",
       "      <td>TIENDA LA FELICIDAD</td>\n",
       "      <td>grupo2</td>\n",
       "      <td>0.912214</td>\n",
       "      <td>0.746271</td>\n",
       "      <td>30</td>\n",
       "      <td>30</td>\n",
       "    </tr>\n",
       "    <tr>\n",
       "      <th>35</th>\n",
       "      <td>TIENDA LLANOGRANDE PLAZA</td>\n",
       "      <td>grupo2</td>\n",
       "      <td>0.626618</td>\n",
       "      <td>0.602354</td>\n",
       "      <td>36</td>\n",
       "      <td>36</td>\n",
       "    </tr>\n",
       "    <tr>\n",
       "      <th>42</th>\n",
       "      <td>TIENDA JARDINES DE LLANOGRANDE</td>\n",
       "      <td>grupo2</td>\n",
       "      <td>0.233855</td>\n",
       "      <td>0.317559</td>\n",
       "      <td>43</td>\n",
       "      <td>44</td>\n",
       "    </tr>\n",
       "    <tr>\n",
       "      <th>40</th>\n",
       "      <td>TIENDA NUESTRO CARTAGO</td>\n",
       "      <td>grupo2</td>\n",
       "      <td>0.296481</td>\n",
       "      <td>0.405418</td>\n",
       "      <td>41</td>\n",
       "      <td>39</td>\n",
       "    </tr>\n",
       "    <tr>\n",
       "      <th>27</th>\n",
       "      <td>TIENDA ARKADIA</td>\n",
       "      <td>grupo2</td>\n",
       "      <td>0.939030</td>\n",
       "      <td>0.832158</td>\n",
       "      <td>28</td>\n",
       "      <td>27</td>\n",
       "    </tr>\n",
       "    <tr>\n",
       "      <th>30</th>\n",
       "      <td>TIENDA CALIMA</td>\n",
       "      <td>grupo2</td>\n",
       "      <td>0.803649</td>\n",
       "      <td>0.702430</td>\n",
       "      <td>31</td>\n",
       "      <td>32</td>\n",
       "    </tr>\n",
       "    <tr>\n",
       "      <th>39</th>\n",
       "      <td>TIENDA HAYUELOS</td>\n",
       "      <td>grupo2</td>\n",
       "      <td>0.309317</td>\n",
       "      <td>0.367239</td>\n",
       "      <td>40</td>\n",
       "      <td>41</td>\n",
       "    </tr>\n",
       "    <tr>\n",
       "      <th>32</th>\n",
       "      <td>TIENDA  PLAZA FABRICATO</td>\n",
       "      <td>grupo2</td>\n",
       "      <td>0.727417</td>\n",
       "      <td>0.631462</td>\n",
       "      <td>33</td>\n",
       "      <td>35</td>\n",
       "    </tr>\n",
       "    <tr>\n",
       "      <th>43</th>\n",
       "      <td>TIENDA PLAZA CLARO</td>\n",
       "      <td>grupo2</td>\n",
       "      <td>0.229613</td>\n",
       "      <td>0.387565</td>\n",
       "      <td>44</td>\n",
       "      <td>40</td>\n",
       "    </tr>\n",
       "    <tr>\n",
       "      <th>46</th>\n",
       "      <td>TIENDA DIVERPLAZA BOGOTÁ</td>\n",
       "      <td>grupo2</td>\n",
       "      <td>0.201483</td>\n",
       "      <td>0.348265</td>\n",
       "      <td>47</td>\n",
       "      <td>43</td>\n",
       "    </tr>\n",
       "    <tr>\n",
       "      <th>34</th>\n",
       "      <td>TIENDA SANTAFÉ BOGOTÁ</td>\n",
       "      <td>grupo2</td>\n",
       "      <td>0.670677</td>\n",
       "      <td>0.677913</td>\n",
       "      <td>35</td>\n",
       "      <td>33</td>\n",
       "    </tr>\n",
       "    <tr>\n",
       "      <th>50</th>\n",
       "      <td>CACIQUE BUCARAMANGA</td>\n",
       "      <td>grupo2</td>\n",
       "      <td>0.018123</td>\n",
       "      <td>0.148495</td>\n",
       "      <td>51</td>\n",
       "      <td>51</td>\n",
       "    </tr>\n",
       "    <tr>\n",
       "      <th>28</th>\n",
       "      <td>VICTORIA PEREIRA</td>\n",
       "      <td>grupo2</td>\n",
       "      <td>0.924527</td>\n",
       "      <td>0.816042</td>\n",
       "      <td>29</td>\n",
       "      <td>29</td>\n",
       "    </tr>\n",
       "    <tr>\n",
       "      <th>49</th>\n",
       "      <td>OCAÑA</td>\n",
       "      <td>grupo2</td>\n",
       "      <td>0.029683</td>\n",
       "      <td>0.155085</td>\n",
       "      <td>50</td>\n",
       "      <td>50</td>\n",
       "    </tr>\n",
       "    <tr>\n",
       "      <th>38</th>\n",
       "      <td>PARQUE CARACOLI</td>\n",
       "      <td>grupo2</td>\n",
       "      <td>0.336709</td>\n",
       "      <td>0.303097</td>\n",
       "      <td>39</td>\n",
       "      <td>45</td>\n",
       "    </tr>\n",
       "    <tr>\n",
       "      <th>37</th>\n",
       "      <td>PITALITO HUILA</td>\n",
       "      <td>grupo2</td>\n",
       "      <td>0.415377</td>\n",
       "      <td>0.439144</td>\n",
       "      <td>38</td>\n",
       "      <td>38</td>\n",
       "    </tr>\n",
       "    <tr>\n",
       "      <th>31</th>\n",
       "      <td>TIENDA PLAZA IMPERIAL BOGOTA</td>\n",
       "      <td>grupo2</td>\n",
       "      <td>0.766594</td>\n",
       "      <td>0.722596</td>\n",
       "      <td>32</td>\n",
       "      <td>31</td>\n",
       "    </tr>\n",
       "    <tr>\n",
       "      <th>41</th>\n",
       "      <td>GRAN PLAZA FLORENCIA</td>\n",
       "      <td>grupo2</td>\n",
       "      <td>0.290716</td>\n",
       "      <td>0.362385</td>\n",
       "      <td>42</td>\n",
       "      <td>42</td>\n",
       "    </tr>\n",
       "    <tr>\n",
       "      <th>44</th>\n",
       "      <td>CARIBE PLAZA CARTAGENA</td>\n",
       "      <td>grupo2</td>\n",
       "      <td>0.214598</td>\n",
       "      <td>0.255293</td>\n",
       "      <td>45</td>\n",
       "      <td>48</td>\n",
       "    </tr>\n",
       "    <tr>\n",
       "      <th>36</th>\n",
       "      <td>FUNDADORES MANIZALES</td>\n",
       "      <td>grupo2</td>\n",
       "      <td>0.611688</td>\n",
       "      <td>0.576265</td>\n",
       "      <td>37</td>\n",
       "      <td>37</td>\n",
       "    </tr>\n",
       "    <tr>\n",
       "      <th>47</th>\n",
       "      <td>BUENAVISTA BARRANQUILLA</td>\n",
       "      <td>grupo2</td>\n",
       "      <td>0.193497</td>\n",
       "      <td>0.298723</td>\n",
       "      <td>48</td>\n",
       "      <td>46</td>\n",
       "    </tr>\n",
       "    <tr>\n",
       "      <th>53</th>\n",
       "      <td>OFFCORSS PASTO</td>\n",
       "      <td>grupo3</td>\n",
       "      <td>-0.092444</td>\n",
       "      <td>0.034916</td>\n",
       "      <td>54</td>\n",
       "      <td>54</td>\n",
       "    </tr>\n",
       "    <tr>\n",
       "      <th>52</th>\n",
       "      <td>TIENDA VIVA LA CEJA</td>\n",
       "      <td>grupo3</td>\n",
       "      <td>-0.080131</td>\n",
       "      <td>0.081973</td>\n",
       "      <td>53</td>\n",
       "      <td>53</td>\n",
       "    </tr>\n",
       "    <tr>\n",
       "      <th>51</th>\n",
       "      <td>TIENDA  SAN ANDRES  2</td>\n",
       "      <td>grupo3</td>\n",
       "      <td>-0.027709</td>\n",
       "      <td>0.143625</td>\n",
       "      <td>52</td>\n",
       "      <td>52</td>\n",
       "    </tr>\n",
       "    <tr>\n",
       "      <th>55</th>\n",
       "      <td>OFFCORSS ALCARAVAN</td>\n",
       "      <td>grupo3</td>\n",
       "      <td>-0.155105</td>\n",
       "      <td>0.001124</td>\n",
       "      <td>56</td>\n",
       "      <td>55</td>\n",
       "    </tr>\n",
       "  </tbody>\n",
       "</table>\n",
       "</div>"
      ],
      "text/plain": [
       "                       PUNTO_VENTA CLUSTER    INDICE   Indice3  RANKING  \\\n",
       "23       TIENDA UNICENTRO GIRARDOT  grupo1  1.046825  0.884495       24   \n",
       "19                 TIENDA OVIEDO 2  grupo1  1.140328  0.954102       20   \n",
       "24              LA ESTACION IBAGUE  grupo1  1.015080  0.817783       25   \n",
       "22              CAMPANARIO POPAYAN  grupo1  1.083439  0.928656       23   \n",
       "25         TIENDA COSMOCENTRO CALI  grupo1  1.004641  0.873322       26   \n",
       "18               UNICENTRO ARMENIA  grupo1  1.154613  0.961044       19   \n",
       "21        TIENDA GRAN PLAZA SOACHA  grupo1  1.094247  0.985109       22   \n",
       "48          TIENDA ECOPLAZA BOGOTA  grupo2  0.085809  0.266820       49   \n",
       "45            TIENDA NUESTRA URABA  grupo2  0.211635  0.230306       46   \n",
       "33                TIENDA PORTAL 80  grupo2  0.697739  0.637957       34   \n",
       "26            TIENDA PLAZA CENTRAL  grupo2  0.954109  0.867260       27   \n",
       "29             TIENDA LA FELICIDAD  grupo2  0.912214  0.746271       30   \n",
       "35        TIENDA LLANOGRANDE PLAZA  grupo2  0.626618  0.602354       36   \n",
       "42  TIENDA JARDINES DE LLANOGRANDE  grupo2  0.233855  0.317559       43   \n",
       "40          TIENDA NUESTRO CARTAGO  grupo2  0.296481  0.405418       41   \n",
       "27                  TIENDA ARKADIA  grupo2  0.939030  0.832158       28   \n",
       "30                   TIENDA CALIMA  grupo2  0.803649  0.702430       31   \n",
       "39                 TIENDA HAYUELOS  grupo2  0.309317  0.367239       40   \n",
       "32         TIENDA  PLAZA FABRICATO  grupo2  0.727417  0.631462       33   \n",
       "43              TIENDA PLAZA CLARO  grupo2  0.229613  0.387565       44   \n",
       "46        TIENDA DIVERPLAZA BOGOTÁ  grupo2  0.201483  0.348265       47   \n",
       "34           TIENDA SANTAFÉ BOGOTÁ  grupo2  0.670677  0.677913       35   \n",
       "50             CACIQUE BUCARAMANGA  grupo2  0.018123  0.148495       51   \n",
       "28                VICTORIA PEREIRA  grupo2  0.924527  0.816042       29   \n",
       "49                           OCAÑA  grupo2  0.029683  0.155085       50   \n",
       "38                 PARQUE CARACOLI  grupo2  0.336709  0.303097       39   \n",
       "37                  PITALITO HUILA  grupo2  0.415377  0.439144       38   \n",
       "31    TIENDA PLAZA IMPERIAL BOGOTA  grupo2  0.766594  0.722596       32   \n",
       "41            GRAN PLAZA FLORENCIA  grupo2  0.290716  0.362385       42   \n",
       "44          CARIBE PLAZA CARTAGENA  grupo2  0.214598  0.255293       45   \n",
       "36            FUNDADORES MANIZALES  grupo2  0.611688  0.576265       37   \n",
       "47         BUENAVISTA BARRANQUILLA  grupo2  0.193497  0.298723       48   \n",
       "53                  OFFCORSS PASTO  grupo3 -0.092444  0.034916       54   \n",
       "52             TIENDA VIVA LA CEJA  grupo3 -0.080131  0.081973       53   \n",
       "51           TIENDA  SAN ANDRES  2  grupo3 -0.027709  0.143625       52   \n",
       "55              OFFCORSS ALCARAVAN  grupo3 -0.155105  0.001124       56   \n",
       "\n",
       "    ranking_pca  \n",
       "23           24  \n",
       "19           22  \n",
       "24           28  \n",
       "22           23  \n",
       "25           25  \n",
       "18           21  \n",
       "21           20  \n",
       "48           47  \n",
       "45           49  \n",
       "33           34  \n",
       "26           26  \n",
       "29           30  \n",
       "35           36  \n",
       "42           44  \n",
       "40           39  \n",
       "27           27  \n",
       "30           32  \n",
       "39           41  \n",
       "32           35  \n",
       "43           40  \n",
       "46           43  \n",
       "34           33  \n",
       "50           51  \n",
       "28           29  \n",
       "49           50  \n",
       "38           45  \n",
       "37           38  \n",
       "31           31  \n",
       "41           42  \n",
       "44           48  \n",
       "36           37  \n",
       "47           46  \n",
       "53           54  \n",
       "52           53  \n",
       "51           52  \n",
       "55           55  "
      ]
     },
     "execution_count": 32,
     "metadata": {},
     "output_type": "execute_result"
    }
   ],
   "source": [
    "df_result2[(df_result2['Indice3'] > 0) & (df_result2['Indice3'] < 1)][['PUNTO_VENTA', 'CLUSTER','INDICE','Indice3','RANKING', 'ranking_pca']].sort_values(by='CLUSTER')\n"
   ]
  },
  {
   "cell_type": "code",
   "execution_count": null,
   "metadata": {},
   "outputs": [],
   "source": [
    "def  diferencias_clusters_pca (df_result2, cluster):\n",
    "\n",
    "    cluster1 = df_result2[df_result2['CLUSTER'] == cluster]\n",
    "\n",
    "    cluster1.loc[:,'dentro del rango'] = np.where(\n",
    "        (cluster1['ranking_pca'] >= cluster1['RANKING'].min()) & (cluster1['ranking_pca'] <= cluster1['RANKING'].max()), \n",
    "        True, \n",
    "        False\n",
    "    )\n",
    "\n",
    "    return cluster1\n"
   ]
  },
  {
   "cell_type": "code",
   "execution_count": null,
   "metadata": {},
   "outputs": [
    {
     "data": {
      "text/html": [
       "<div>\n",
       "<style scoped>\n",
       "    .dataframe tbody tr th:only-of-type {\n",
       "        vertical-align: middle;\n",
       "    }\n",
       "\n",
       "    .dataframe tbody tr th {\n",
       "        vertical-align: top;\n",
       "    }\n",
       "\n",
       "    .dataframe thead th {\n",
       "        text-align: right;\n",
       "    }\n",
       "</style>\n",
       "<table border=\"1\" class=\"dataframe\">\n",
       "  <thead>\n",
       "    <tr style=\"text-align: right;\">\n",
       "      <th></th>\n",
       "      <th>PUNTO_VENTA</th>\n",
       "      <th>CONTRIBUCION</th>\n",
       "      <th>ROTACION</th>\n",
       "      <th>VENTA_POR_MES</th>\n",
       "      <th>MARGEN</th>\n",
       "      <th>VENTA_PESOS</th>\n",
       "      <th>VENTA_UNDS</th>\n",
       "      <th>COSTO</th>\n",
       "      <th>z1</th>\n",
       "      <th>z2</th>\n",
       "      <th>z3</th>\n",
       "      <th>PC4</th>\n",
       "      <th>PC5</th>\n",
       "      <th>PC6</th>\n",
       "      <th>Indice</th>\n",
       "      <th>Indice2</th>\n",
       "      <th>Indice3</th>\n",
       "      <th>COD_PUNTO_VENTA</th>\n",
       "      <th>INDICE</th>\n",
       "      <th>CLUSTER</th>\n",
       "      <th>RANKING</th>\n",
       "      <th>ranking_pca</th>\n",
       "      <th>indices_dif_ranking_pca</th>\n",
       "    </tr>\n",
       "  </thead>\n",
       "  <tbody>\n",
       "    <tr>\n",
       "      <th>13</th>\n",
       "      <td>VENTURA PLAZA CUCUTA</td>\n",
       "      <td>7604244.0</td>\n",
       "      <td>0.717330</td>\n",
       "      <td>21.95652</td>\n",
       "      <td>0.679141</td>\n",
       "      <td>11196857.0</td>\n",
       "      <td>505</td>\n",
       "      <td>3.592613e+06</td>\n",
       "      <td>-1.791864</td>\n",
       "      <td>0.436155</td>\n",
       "      <td>0.252543</td>\n",
       "      <td>-0.166662</td>\n",
       "      <td>-0.152956</td>\n",
       "      <td>-0.015309</td>\n",
       "      <td>-1.105875</td>\n",
       "      <td>-1.110667</td>\n",
       "      <td>1.105875</td>\n",
       "      <td>FN66</td>\n",
       "      <td>1.477456</td>\n",
       "      <td>grupo1</td>\n",
       "      <td>14</td>\n",
       "      <td>18</td>\n",
       "      <td>False</td>\n",
       "    </tr>\n",
       "    <tr>\n",
       "      <th>3</th>\n",
       "      <td>TIENDA CENTRO ANDINO</td>\n",
       "      <td>8637260.0</td>\n",
       "      <td>0.794152</td>\n",
       "      <td>29.52174</td>\n",
       "      <td>0.677368</td>\n",
       "      <td>12751202.0</td>\n",
       "      <td>679</td>\n",
       "      <td>4.113941e+06</td>\n",
       "      <td>-3.067692</td>\n",
       "      <td>0.864788</td>\n",
       "      <td>0.650891</td>\n",
       "      <td>-0.089346</td>\n",
       "      <td>-0.322241</td>\n",
       "      <td>-0.014300</td>\n",
       "      <td>-1.847319</td>\n",
       "      <td>-1.852676</td>\n",
       "      <td>1.847319</td>\n",
       "      <td>T010</td>\n",
       "      <td>2.386844</td>\n",
       "      <td>grupo1</td>\n",
       "      <td>4</td>\n",
       "      <td>4</td>\n",
       "      <td>True</td>\n",
       "    </tr>\n",
       "    <tr>\n",
       "      <th>9</th>\n",
       "      <td>TIENDA CENTRO MAYOR</td>\n",
       "      <td>8368754.0</td>\n",
       "      <td>0.738998</td>\n",
       "      <td>21.17391</td>\n",
       "      <td>0.673165</td>\n",
       "      <td>12431950.0</td>\n",
       "      <td>487</td>\n",
       "      <td>4.063196e+06</td>\n",
       "      <td>-2.095557</td>\n",
       "      <td>0.158530</td>\n",
       "      <td>0.023154</td>\n",
       "      <td>-0.001704</td>\n",
       "      <td>-0.028224</td>\n",
       "      <td>0.005582</td>\n",
       "      <td>-1.387457</td>\n",
       "      <td>-1.387816</td>\n",
       "      <td>1.387457</td>\n",
       "      <td>T012</td>\n",
       "      <td>1.685088</td>\n",
       "      <td>grupo1</td>\n",
       "      <td>10</td>\n",
       "      <td>9</td>\n",
       "      <td>False</td>\n",
       "    </tr>\n",
       "    <tr>\n",
       "      <th>5</th>\n",
       "      <td>TIENDA CHIPICHAPE 2</td>\n",
       "      <td>8507050.0</td>\n",
       "      <td>0.754386</td>\n",
       "      <td>26.17391</td>\n",
       "      <td>0.671847</td>\n",
       "      <td>12662176.0</td>\n",
       "      <td>602</td>\n",
       "      <td>4.155127e+06</td>\n",
       "      <td>-2.651317</td>\n",
       "      <td>0.508674</td>\n",
       "      <td>0.464908</td>\n",
       "      <td>0.031182</td>\n",
       "      <td>-0.231576</td>\n",
       "      <td>0.007007</td>\n",
       "      <td>-1.650696</td>\n",
       "      <td>-1.652819</td>\n",
       "      <td>1.650696</td>\n",
       "      <td>T013</td>\n",
       "      <td>2.088052</td>\n",
       "      <td>grupo1</td>\n",
       "      <td>6</td>\n",
       "      <td>6</td>\n",
       "      <td>True</td>\n",
       "    </tr>\n",
       "    <tr>\n",
       "      <th>0</th>\n",
       "      <td>TIENDA EL TESORO</td>\n",
       "      <td>8928663.0</td>\n",
       "      <td>0.883907</td>\n",
       "      <td>48.00000</td>\n",
       "      <td>0.669098</td>\n",
       "      <td>13344319.0</td>\n",
       "      <td>1104</td>\n",
       "      <td>4.415656e+06</td>\n",
       "      <td>-5.135211</td>\n",
       "      <td>2.077245</td>\n",
       "      <td>2.370507</td>\n",
       "      <td>-0.148669</td>\n",
       "      <td>-1.047437</td>\n",
       "      <td>0.002668</td>\n",
       "      <td>-2.834295</td>\n",
       "      <td>-2.849143</td>\n",
       "      <td>2.834295</td>\n",
       "      <td>T014</td>\n",
       "      <td>3.188500</td>\n",
       "      <td>grupo1</td>\n",
       "      <td>1</td>\n",
       "      <td>1</td>\n",
       "      <td>True</td>\n",
       "    </tr>\n",
       "    <tr>\n",
       "      <th>7</th>\n",
       "      <td>TIENDA GRAN ESTACION</td>\n",
       "      <td>8212043.0</td>\n",
       "      <td>0.744475</td>\n",
       "      <td>23.43478</td>\n",
       "      <td>0.676471</td>\n",
       "      <td>12139538.0</td>\n",
       "      <td>539</td>\n",
       "      <td>3.927495e+06</td>\n",
       "      <td>-2.236862</td>\n",
       "      <td>0.424801</td>\n",
       "      <td>0.236812</td>\n",
       "      <td>-0.067252</td>\n",
       "      <td>-0.138188</td>\n",
       "      <td>-0.007410</td>\n",
       "      <td>-1.410962</td>\n",
       "      <td>-1.413783</td>\n",
       "      <td>1.410962</td>\n",
       "      <td>T015</td>\n",
       "      <td>1.809267</td>\n",
       "      <td>grupo1</td>\n",
       "      <td>8</td>\n",
       "      <td>8</td>\n",
       "      <td>True</td>\n",
       "    </tr>\n",
       "    <tr>\n",
       "      <th>1</th>\n",
       "      <td>TIENDA JARDIN PLAZA</td>\n",
       "      <td>9116961.0</td>\n",
       "      <td>0.840312</td>\n",
       "      <td>37.52174</td>\n",
       "      <td>0.671537</td>\n",
       "      <td>13576252.0</td>\n",
       "      <td>863</td>\n",
       "      <td>4.459291e+06</td>\n",
       "      <td>-4.127987</td>\n",
       "      <td>1.303776</td>\n",
       "      <td>1.317984</td>\n",
       "      <td>-0.026384</td>\n",
       "      <td>-0.598883</td>\n",
       "      <td>0.002026</td>\n",
       "      <td>-2.410689</td>\n",
       "      <td>-2.418118</td>\n",
       "      <td>2.410689</td>\n",
       "      <td>T016</td>\n",
       "      <td>2.935425</td>\n",
       "      <td>grupo1</td>\n",
       "      <td>2</td>\n",
       "      <td>2</td>\n",
       "      <td>True</td>\n",
       "    </tr>\n",
       "    <tr>\n",
       "      <th>6</th>\n",
       "      <td>TIENDA LOS MOLINOS</td>\n",
       "      <td>8951964.0</td>\n",
       "      <td>0.727820</td>\n",
       "      <td>21.04348</td>\n",
       "      <td>0.669493</td>\n",
       "      <td>13371261.0</td>\n",
       "      <td>484</td>\n",
       "      <td>4.419296e+06</td>\n",
       "      <td>-2.302260</td>\n",
       "      <td>0.023229</td>\n",
       "      <td>-0.104095</td>\n",
       "      <td>0.237622</td>\n",
       "      <td>0.007852</td>\n",
       "      <td>0.021022</td>\n",
       "      <td>-1.566167</td>\n",
       "      <td>-1.561775</td>\n",
       "      <td>1.566167</td>\n",
       "      <td>T017</td>\n",
       "      <td>1.828911</td>\n",
       "      <td>grupo1</td>\n",
       "      <td>7</td>\n",
       "      <td>7</td>\n",
       "      <td>True</td>\n",
       "    </tr>\n",
       "    <tr>\n",
       "      <th>12</th>\n",
       "      <td>TIENDA PALMETTO</td>\n",
       "      <td>8339829.0</td>\n",
       "      <td>0.736758</td>\n",
       "      <td>19.95652</td>\n",
       "      <td>0.673208</td>\n",
       "      <td>12388185.0</td>\n",
       "      <td>459</td>\n",
       "      <td>4.048356e+06</td>\n",
       "      <td>-1.967214</td>\n",
       "      <td>0.065528</td>\n",
       "      <td>-0.083101</td>\n",
       "      <td>-0.012916</td>\n",
       "      <td>0.023625</td>\n",
       "      <td>0.006200</td>\n",
       "      <td>-1.329337</td>\n",
       "      <td>-1.329296</td>\n",
       "      <td>1.329337</td>\n",
       "      <td>T019</td>\n",
       "      <td>1.581718</td>\n",
       "      <td>grupo1</td>\n",
       "      <td>13</td>\n",
       "      <td>13</td>\n",
       "      <td>True</td>\n",
       "    </tr>\n",
       "    <tr>\n",
       "      <th>11</th>\n",
       "      <td>TIENDA SAN NICOLÁS</td>\n",
       "      <td>8326268.0</td>\n",
       "      <td>0.701828</td>\n",
       "      <td>21.69565</td>\n",
       "      <td>0.671111</td>\n",
       "      <td>12406689.0</td>\n",
       "      <td>499</td>\n",
       "      <td>4.080421e+06</td>\n",
       "      <td>-2.053264</td>\n",
       "      <td>0.183313</td>\n",
       "      <td>0.132846</td>\n",
       "      <td>0.152186</td>\n",
       "      <td>-0.107621</td>\n",
       "      <td>0.012270</td>\n",
       "      <td>-1.341987</td>\n",
       "      <td>-1.340482</td>\n",
       "      <td>1.341987</td>\n",
       "      <td>T022</td>\n",
       "      <td>1.644081</td>\n",
       "      <td>grupo1</td>\n",
       "      <td>12</td>\n",
       "      <td>11</td>\n",
       "      <td>False</td>\n",
       "    </tr>\n",
       "    <tr>\n",
       "      <th>16</th>\n",
       "      <td>TIENDA SAN DIEGO</td>\n",
       "      <td>8433709.0</td>\n",
       "      <td>0.699831</td>\n",
       "      <td>18.04348</td>\n",
       "      <td>0.672124</td>\n",
       "      <td>12547840.0</td>\n",
       "      <td>415</td>\n",
       "      <td>4.114132e+06</td>\n",
       "      <td>-1.747940</td>\n",
       "      <td>-0.095300</td>\n",
       "      <td>-0.255958</td>\n",
       "      <td>0.153050</td>\n",
       "      <td>0.070160</td>\n",
       "      <td>0.011774</td>\n",
       "      <td>-1.229410</td>\n",
       "      <td>-1.225825</td>\n",
       "      <td>1.229410</td>\n",
       "      <td>T024</td>\n",
       "      <td>1.396363</td>\n",
       "      <td>grupo1</td>\n",
       "      <td>17</td>\n",
       "      <td>15</td>\n",
       "      <td>False</td>\n",
       "    </tr>\n",
       "    <tr>\n",
       "      <th>2</th>\n",
       "      <td>TIENDA SANTAFÉ MEDELLIN</td>\n",
       "      <td>8929197.0</td>\n",
       "      <td>0.814645</td>\n",
       "      <td>30.95652</td>\n",
       "      <td>0.674060</td>\n",
       "      <td>13246882.0</td>\n",
       "      <td>712</td>\n",
       "      <td>4.317685e+06</td>\n",
       "      <td>-3.378089</td>\n",
       "      <td>0.866395</td>\n",
       "      <td>0.733071</td>\n",
       "      <td>-0.053781</td>\n",
       "      <td>-0.339616</td>\n",
       "      <td>-0.003142</td>\n",
       "      <td>-2.047905</td>\n",
       "      <td>-2.052821</td>\n",
       "      <td>2.047905</td>\n",
       "      <td>T026</td>\n",
       "      <td>2.578050</td>\n",
       "      <td>grupo1</td>\n",
       "      <td>3</td>\n",
       "      <td>3</td>\n",
       "      <td>True</td>\n",
       "    </tr>\n",
       "    <tr>\n",
       "      <th>8</th>\n",
       "      <td>TIENDA TITÁN PLAZA</td>\n",
       "      <td>8144661.0</td>\n",
       "      <td>0.750000</td>\n",
       "      <td>22.30435</td>\n",
       "      <td>0.674188</td>\n",
       "      <td>12080689.0</td>\n",
       "      <td>513</td>\n",
       "      <td>3.936028e+06</td>\n",
       "      <td>-2.133604</td>\n",
       "      <td>0.283934</td>\n",
       "      <td>0.175219</td>\n",
       "      <td>-0.108473</td>\n",
       "      <td>-0.083758</td>\n",
       "      <td>0.000655</td>\n",
       "      <td>-1.373433</td>\n",
       "      <td>-1.376368</td>\n",
       "      <td>1.373433</td>\n",
       "      <td>T027</td>\n",
       "      <td>1.718520</td>\n",
       "      <td>grupo1</td>\n",
       "      <td>9</td>\n",
       "      <td>10</td>\n",
       "      <td>False</td>\n",
       "    </tr>\n",
       "    <tr>\n",
       "      <th>10</th>\n",
       "      <td>TIENDA UNICENTRO CALI</td>\n",
       "      <td>8208475.0</td>\n",
       "      <td>0.751159</td>\n",
       "      <td>21.13043</td>\n",
       "      <td>0.677304</td>\n",
       "      <td>12119336.0</td>\n",
       "      <td>486</td>\n",
       "      <td>3.910861e+06</td>\n",
       "      <td>-2.034364</td>\n",
       "      <td>0.253897</td>\n",
       "      <td>0.004893</td>\n",
       "      <td>-0.121383</td>\n",
       "      <td>-0.020770</td>\n",
       "      <td>-0.008598</td>\n",
       "      <td>-1.330867</td>\n",
       "      <td>-1.333305</td>\n",
       "      <td>1.330867</td>\n",
       "      <td>T029</td>\n",
       "      <td>1.657613</td>\n",
       "      <td>grupo1</td>\n",
       "      <td>11</td>\n",
       "      <td>12</td>\n",
       "      <td>False</td>\n",
       "    </tr>\n",
       "    <tr>\n",
       "      <th>14</th>\n",
       "      <td>TIENDA VIVA VILLAVICENCIO</td>\n",
       "      <td>7397854.0</td>\n",
       "      <td>0.772504</td>\n",
       "      <td>22.47619</td>\n",
       "      <td>0.674686</td>\n",
       "      <td>10964882.0</td>\n",
       "      <td>472</td>\n",
       "      <td>3.567028e+06</td>\n",
       "      <td>-1.806690</td>\n",
       "      <td>0.300487</td>\n",
       "      <td>0.334911</td>\n",
       "      <td>-0.404649</td>\n",
       "      <td>0.072737</td>\n",
       "      <td>-0.001890</td>\n",
       "      <td>-1.131125</td>\n",
       "      <td>-1.137604</td>\n",
       "      <td>1.131125</td>\n",
       "      <td>T045</td>\n",
       "      <td>1.465120</td>\n",
       "      <td>grupo1</td>\n",
       "      <td>15</td>\n",
       "      <td>17</td>\n",
       "      <td>False</td>\n",
       "    </tr>\n",
       "    <tr>\n",
       "      <th>17</th>\n",
       "      <td>TIENDA FONTANAR CHIA</td>\n",
       "      <td>7916653.0</td>\n",
       "      <td>0.725458</td>\n",
       "      <td>18.95652</td>\n",
       "      <td>0.670898</td>\n",
       "      <td>11800092.0</td>\n",
       "      <td>436</td>\n",
       "      <td>3.883440e+06</td>\n",
       "      <td>-1.701388</td>\n",
       "      <td>-0.023764</td>\n",
       "      <td>-0.019582</td>\n",
       "      <td>-0.091465</td>\n",
       "      <td>0.020594</td>\n",
       "      <td>0.013012</td>\n",
       "      <td>-1.158337</td>\n",
       "      <td>-1.159753</td>\n",
       "      <td>1.158337</td>\n",
       "      <td>T066</td>\n",
       "      <td>1.355353</td>\n",
       "      <td>grupo1</td>\n",
       "      <td>18</td>\n",
       "      <td>16</td>\n",
       "      <td>False</td>\n",
       "    </tr>\n",
       "    <tr>\n",
       "      <th>15</th>\n",
       "      <td>TIENDA MAYORCA</td>\n",
       "      <td>8344454.0</td>\n",
       "      <td>0.710483</td>\n",
       "      <td>18.56522</td>\n",
       "      <td>0.672577</td>\n",
       "      <td>12406689.0</td>\n",
       "      <td>427</td>\n",
       "      <td>4.062235e+06</td>\n",
       "      <td>-1.783892</td>\n",
       "      <td>-0.042904</td>\n",
       "      <td>-0.192825</td>\n",
       "      <td>0.085460</td>\n",
       "      <td>0.053250</td>\n",
       "      <td>0.009486</td>\n",
       "      <td>-1.237173</td>\n",
       "      <td>-1.235009</td>\n",
       "      <td>1.237173</td>\n",
       "      <td>T067</td>\n",
       "      <td>1.429539</td>\n",
       "      <td>grupo1</td>\n",
       "      <td>16</td>\n",
       "      <td>14</td>\n",
       "      <td>False</td>\n",
       "    </tr>\n",
       "    <tr>\n",
       "      <th>20</th>\n",
       "      <td>TIENDA PRIMAVERA</td>\n",
       "      <td>7961914.0</td>\n",
       "      <td>0.680776</td>\n",
       "      <td>16.78261</td>\n",
       "      <td>0.672531</td>\n",
       "      <td>11838739.0</td>\n",
       "      <td>386</td>\n",
       "      <td>3.876825e+06</td>\n",
       "      <td>-1.405641</td>\n",
       "      <td>-0.134539</td>\n",
       "      <td>-0.233560</td>\n",
       "      <td>0.074662</td>\n",
       "      <td>0.065957</td>\n",
       "      <td>0.009753</td>\n",
       "      <td>-1.002235</td>\n",
       "      <td>-1.000118</td>\n",
       "      <td>1.002235</td>\n",
       "      <td>T071</td>\n",
       "      <td>1.119234</td>\n",
       "      <td>grupo1</td>\n",
       "      <td>21</td>\n",
       "      <td>19</td>\n",
       "      <td>False</td>\n",
       "    </tr>\n",
       "    <tr>\n",
       "      <th>4</th>\n",
       "      <td>TIENDA  VIVA ENVIGADO</td>\n",
       "      <td>8483378.0</td>\n",
       "      <td>0.784764</td>\n",
       "      <td>28.21739</td>\n",
       "      <td>0.674638</td>\n",
       "      <td>12574714.0</td>\n",
       "      <td>649</td>\n",
       "      <td>4.091336e+06</td>\n",
       "      <td>-2.883889</td>\n",
       "      <td>0.717349</td>\n",
       "      <td>0.611918</td>\n",
       "      <td>-0.095007</td>\n",
       "      <td>-0.286984</td>\n",
       "      <td>-0.004269</td>\n",
       "      <td>-1.753899</td>\n",
       "      <td>-1.758949</td>\n",
       "      <td>1.753899</td>\n",
       "      <td>T084</td>\n",
       "      <td>2.253266</td>\n",
       "      <td>grupo1</td>\n",
       "      <td>5</td>\n",
       "      <td>5</td>\n",
       "      <td>True</td>\n",
       "    </tr>\n",
       "  </tbody>\n",
       "</table>\n",
       "</div>"
      ],
      "text/plain": [
       "                  PUNTO_VENTA  CONTRIBUCION  ROTACION  VENTA_POR_MES  \\\n",
       "13       VENTURA PLAZA CUCUTA     7604244.0  0.717330       21.95652   \n",
       "3        TIENDA CENTRO ANDINO     8637260.0  0.794152       29.52174   \n",
       "9         TIENDA CENTRO MAYOR     8368754.0  0.738998       21.17391   \n",
       "5         TIENDA CHIPICHAPE 2     8507050.0  0.754386       26.17391   \n",
       "0            TIENDA EL TESORO     8928663.0  0.883907       48.00000   \n",
       "7        TIENDA GRAN ESTACION     8212043.0  0.744475       23.43478   \n",
       "1         TIENDA JARDIN PLAZA     9116961.0  0.840312       37.52174   \n",
       "6          TIENDA LOS MOLINOS     8951964.0  0.727820       21.04348   \n",
       "12            TIENDA PALMETTO     8339829.0  0.736758       19.95652   \n",
       "11         TIENDA SAN NICOLÁS     8326268.0  0.701828       21.69565   \n",
       "16           TIENDA SAN DIEGO     8433709.0  0.699831       18.04348   \n",
       "2     TIENDA SANTAFÉ MEDELLIN     8929197.0  0.814645       30.95652   \n",
       "8          TIENDA TITÁN PLAZA     8144661.0  0.750000       22.30435   \n",
       "10      TIENDA UNICENTRO CALI     8208475.0  0.751159       21.13043   \n",
       "14  TIENDA VIVA VILLAVICENCIO     7397854.0  0.772504       22.47619   \n",
       "17       TIENDA FONTANAR CHIA     7916653.0  0.725458       18.95652   \n",
       "15             TIENDA MAYORCA     8344454.0  0.710483       18.56522   \n",
       "20           TIENDA PRIMAVERA     7961914.0  0.680776       16.78261   \n",
       "4       TIENDA  VIVA ENVIGADO     8483378.0  0.784764       28.21739   \n",
       "\n",
       "      MARGEN  VENTA_PESOS  VENTA_UNDS         COSTO        z1        z2  \\\n",
       "13  0.679141   11196857.0         505  3.592613e+06 -1.791864  0.436155   \n",
       "3   0.677368   12751202.0         679  4.113941e+06 -3.067692  0.864788   \n",
       "9   0.673165   12431950.0         487  4.063196e+06 -2.095557  0.158530   \n",
       "5   0.671847   12662176.0         602  4.155127e+06 -2.651317  0.508674   \n",
       "0   0.669098   13344319.0        1104  4.415656e+06 -5.135211  2.077245   \n",
       "7   0.676471   12139538.0         539  3.927495e+06 -2.236862  0.424801   \n",
       "1   0.671537   13576252.0         863  4.459291e+06 -4.127987  1.303776   \n",
       "6   0.669493   13371261.0         484  4.419296e+06 -2.302260  0.023229   \n",
       "12  0.673208   12388185.0         459  4.048356e+06 -1.967214  0.065528   \n",
       "11  0.671111   12406689.0         499  4.080421e+06 -2.053264  0.183313   \n",
       "16  0.672124   12547840.0         415  4.114132e+06 -1.747940 -0.095300   \n",
       "2   0.674060   13246882.0         712  4.317685e+06 -3.378089  0.866395   \n",
       "8   0.674188   12080689.0         513  3.936028e+06 -2.133604  0.283934   \n",
       "10  0.677304   12119336.0         486  3.910861e+06 -2.034364  0.253897   \n",
       "14  0.674686   10964882.0         472  3.567028e+06 -1.806690  0.300487   \n",
       "17  0.670898   11800092.0         436  3.883440e+06 -1.701388 -0.023764   \n",
       "15  0.672577   12406689.0         427  4.062235e+06 -1.783892 -0.042904   \n",
       "20  0.672531   11838739.0         386  3.876825e+06 -1.405641 -0.134539   \n",
       "4   0.674638   12574714.0         649  4.091336e+06 -2.883889  0.717349   \n",
       "\n",
       "          z3       PC4       PC5       PC6    Indice   Indice2   Indice3  \\\n",
       "13  0.252543 -0.166662 -0.152956 -0.015309 -1.105875 -1.110667  1.105875   \n",
       "3   0.650891 -0.089346 -0.322241 -0.014300 -1.847319 -1.852676  1.847319   \n",
       "9   0.023154 -0.001704 -0.028224  0.005582 -1.387457 -1.387816  1.387457   \n",
       "5   0.464908  0.031182 -0.231576  0.007007 -1.650696 -1.652819  1.650696   \n",
       "0   2.370507 -0.148669 -1.047437  0.002668 -2.834295 -2.849143  2.834295   \n",
       "7   0.236812 -0.067252 -0.138188 -0.007410 -1.410962 -1.413783  1.410962   \n",
       "1   1.317984 -0.026384 -0.598883  0.002026 -2.410689 -2.418118  2.410689   \n",
       "6  -0.104095  0.237622  0.007852  0.021022 -1.566167 -1.561775  1.566167   \n",
       "12 -0.083101 -0.012916  0.023625  0.006200 -1.329337 -1.329296  1.329337   \n",
       "11  0.132846  0.152186 -0.107621  0.012270 -1.341987 -1.340482  1.341987   \n",
       "16 -0.255958  0.153050  0.070160  0.011774 -1.229410 -1.225825  1.229410   \n",
       "2   0.733071 -0.053781 -0.339616 -0.003142 -2.047905 -2.052821  2.047905   \n",
       "8   0.175219 -0.108473 -0.083758  0.000655 -1.373433 -1.376368  1.373433   \n",
       "10  0.004893 -0.121383 -0.020770 -0.008598 -1.330867 -1.333305  1.330867   \n",
       "14  0.334911 -0.404649  0.072737 -0.001890 -1.131125 -1.137604  1.131125   \n",
       "17 -0.019582 -0.091465  0.020594  0.013012 -1.158337 -1.159753  1.158337   \n",
       "15 -0.192825  0.085460  0.053250  0.009486 -1.237173 -1.235009  1.237173   \n",
       "20 -0.233560  0.074662  0.065957  0.009753 -1.002235 -1.000118  1.002235   \n",
       "4   0.611918 -0.095007 -0.286984 -0.004269 -1.753899 -1.758949  1.753899   \n",
       "\n",
       "   COD_PUNTO_VENTA    INDICE CLUSTER  RANKING  ranking_pca  \\\n",
       "13            FN66  1.477456  grupo1       14           18   \n",
       "3             T010  2.386844  grupo1        4            4   \n",
       "9             T012  1.685088  grupo1       10            9   \n",
       "5             T013  2.088052  grupo1        6            6   \n",
       "0             T014  3.188500  grupo1        1            1   \n",
       "7             T015  1.809267  grupo1        8            8   \n",
       "1             T016  2.935425  grupo1        2            2   \n",
       "6             T017  1.828911  grupo1        7            7   \n",
       "12            T019  1.581718  grupo1       13           13   \n",
       "11            T022  1.644081  grupo1       12           11   \n",
       "16            T024  1.396363  grupo1       17           15   \n",
       "2             T026  2.578050  grupo1        3            3   \n",
       "8             T027  1.718520  grupo1        9           10   \n",
       "10            T029  1.657613  grupo1       11           12   \n",
       "14            T045  1.465120  grupo1       15           17   \n",
       "17            T066  1.355353  grupo1       18           16   \n",
       "15            T067  1.429539  grupo1       16           14   \n",
       "20            T071  1.119234  grupo1       21           19   \n",
       "4             T084  2.253266  grupo1        5            5   \n",
       "\n",
       "    indices_dif_ranking_pca  \n",
       "13                    False  \n",
       "3                      True  \n",
       "9                     False  \n",
       "5                      True  \n",
       "0                      True  \n",
       "7                      True  \n",
       "1                      True  \n",
       "6                      True  \n",
       "12                     True  \n",
       "11                    False  \n",
       "16                    False  \n",
       "2                      True  \n",
       "8                     False  \n",
       "10                    False  \n",
       "14                    False  \n",
       "17                    False  \n",
       "15                    False  \n",
       "20                    False  \n",
       "4                      True  "
      ]
     },
     "execution_count": 34,
     "metadata": {},
     "output_type": "execute_result"
    }
   ],
   "source": [
    "df_result2[df_result2['Indice3'] > 1]"
   ]
  },
  {
   "cell_type": "markdown",
   "metadata": {},
   "source": [
    "#### Grupo 1"
   ]
  },
  {
   "cell_type": "code",
   "execution_count": null,
   "metadata": {},
   "outputs": [
    {
     "name": "stderr",
     "output_type": "stream",
     "text": [
      "C:\\Users\\HELENAMM\\AppData\\Local\\Temp\\ipykernel_30100\\1158502148.py:5: SettingWithCopyWarning:\n",
      "\n",
      "\n",
      "A value is trying to be set on a copy of a slice from a DataFrame.\n",
      "Try using .loc[row_indexer,col_indexer] = value instead\n",
      "\n",
      "See the caveats in the documentation: https://pandas.pydata.org/pandas-docs/stable/user_guide/indexing.html#returning-a-view-versus-a-copy\n",
      "\n"
     ]
    },
    {
     "data": {
      "text/html": [
       "<div>\n",
       "<style scoped>\n",
       "    .dataframe tbody tr th:only-of-type {\n",
       "        vertical-align: middle;\n",
       "    }\n",
       "\n",
       "    .dataframe tbody tr th {\n",
       "        vertical-align: top;\n",
       "    }\n",
       "\n",
       "    .dataframe thead th {\n",
       "        text-align: right;\n",
       "    }\n",
       "</style>\n",
       "<table border=\"1\" class=\"dataframe\">\n",
       "  <thead>\n",
       "    <tr style=\"text-align: right;\">\n",
       "      <th></th>\n",
       "      <th>PUNTO_VENTA</th>\n",
       "      <th>CONTRIBUCION</th>\n",
       "      <th>ROTACION</th>\n",
       "      <th>VENTA_POR_MES</th>\n",
       "      <th>MARGEN</th>\n",
       "      <th>VENTA_PESOS</th>\n",
       "      <th>VENTA_UNDS</th>\n",
       "      <th>COSTO</th>\n",
       "      <th>z1</th>\n",
       "      <th>z2</th>\n",
       "      <th>z3</th>\n",
       "      <th>PC4</th>\n",
       "      <th>PC5</th>\n",
       "      <th>PC6</th>\n",
       "      <th>Indice</th>\n",
       "      <th>Indice2</th>\n",
       "      <th>Indice3</th>\n",
       "      <th>COD_PUNTO_VENTA</th>\n",
       "      <th>INDICE</th>\n",
       "      <th>CLUSTER</th>\n",
       "      <th>RANKING</th>\n",
       "      <th>ranking_pca</th>\n",
       "      <th>indices_dif_ranking_pca</th>\n",
       "      <th>dentro del rango</th>\n",
       "    </tr>\n",
       "  </thead>\n",
       "  <tbody>\n",
       "    <tr>\n",
       "      <th>24</th>\n",
       "      <td>LA ESTACION IBAGUE</td>\n",
       "      <td>7474914.0</td>\n",
       "      <td>0.696589</td>\n",
       "      <td>16.86957</td>\n",
       "      <td>0.682864</td>\n",
       "      <td>10946412.0</td>\n",
       "      <td>388</td>\n",
       "      <td>3.471498e+06</td>\n",
       "      <td>-1.206194</td>\n",
       "      <td>0.136188</td>\n",
       "      <td>-0.228748</td>\n",
       "      <td>-0.187606</td>\n",
       "      <td>0.049048</td>\n",
       "      <td>-0.022617</td>\n",
       "      <td>-0.817783</td>\n",
       "      <td>-0.82061</td>\n",
       "      <td>0.817783</td>\n",
       "      <td>FN89</td>\n",
       "      <td>1.01508</td>\n",
       "      <td>grupo1</td>\n",
       "      <td>25</td>\n",
       "      <td>28</td>\n",
       "      <td>False</td>\n",
       "      <td>False</td>\n",
       "    </tr>\n",
       "  </tbody>\n",
       "</table>\n",
       "</div>"
      ],
      "text/plain": [
       "           PUNTO_VENTA  CONTRIBUCION  ROTACION  VENTA_POR_MES    MARGEN  \\\n",
       "24  LA ESTACION IBAGUE     7474914.0  0.696589       16.86957  0.682864   \n",
       "\n",
       "    VENTA_PESOS  VENTA_UNDS         COSTO        z1        z2        z3  \\\n",
       "24   10946412.0         388  3.471498e+06 -1.206194  0.136188 -0.228748   \n",
       "\n",
       "         PC4       PC5       PC6    Indice  Indice2   Indice3 COD_PUNTO_VENTA  \\\n",
       "24 -0.187606  0.049048 -0.022617 -0.817783 -0.82061  0.817783            FN89   \n",
       "\n",
       "     INDICE CLUSTER  RANKING  ranking_pca  indices_dif_ranking_pca  \\\n",
       "24  1.01508  grupo1       25           28                    False   \n",
       "\n",
       "    dentro del rango  \n",
       "24             False  "
      ]
     },
     "execution_count": 35,
     "metadata": {},
     "output_type": "execute_result"
    }
   ],
   "source": [
    "cluster1 = diferencias_clusters_pca(df_result2, 'grupo1')\n",
    "\n",
    "cluster1[(cluster1['indices_dif_ranking_pca'] == False) & (cluster1['dentro del rango'] == False)]"
   ]
  },
  {
   "cell_type": "code",
   "execution_count": null,
   "metadata": {},
   "outputs": [
    {
     "data": {
      "text/html": [
       "<div>\n",
       "<style scoped>\n",
       "    .dataframe tbody tr th:only-of-type {\n",
       "        vertical-align: middle;\n",
       "    }\n",
       "\n",
       "    .dataframe tbody tr th {\n",
       "        vertical-align: top;\n",
       "    }\n",
       "\n",
       "    .dataframe thead th {\n",
       "        text-align: right;\n",
       "    }\n",
       "</style>\n",
       "<table border=\"1\" class=\"dataframe\">\n",
       "  <thead>\n",
       "    <tr style=\"text-align: right;\">\n",
       "      <th></th>\n",
       "      <th>PUNTO_VENTA</th>\n",
       "      <th>CLUSTER</th>\n",
       "      <th>RANKING</th>\n",
       "      <th>ranking_pca</th>\n",
       "      <th>indices_dif_ranking_pca</th>\n",
       "      <th>dentro del rango</th>\n",
       "    </tr>\n",
       "  </thead>\n",
       "  <tbody>\n",
       "    <tr>\n",
       "      <th>24</th>\n",
       "      <td>LA ESTACION IBAGUE</td>\n",
       "      <td>grupo1</td>\n",
       "      <td>25</td>\n",
       "      <td>28</td>\n",
       "      <td>False</td>\n",
       "      <td>False</td>\n",
       "    </tr>\n",
       "  </tbody>\n",
       "</table>\n",
       "</div>"
      ],
      "text/plain": [
       "           PUNTO_VENTA CLUSTER  RANKING  ranking_pca  indices_dif_ranking_pca  \\\n",
       "24  LA ESTACION IBAGUE  grupo1       25           28                    False   \n",
       "\n",
       "    dentro del rango  \n",
       "24             False  "
      ]
     },
     "execution_count": 36,
     "metadata": {},
     "output_type": "execute_result"
    }
   ],
   "source": [
    "cluster1[(cluster1['indices_dif_ranking_pca'] == False) & (cluster1['dentro del rango'] == False)][['PUNTO_VENTA', 'CLUSTER','RANKING', 'ranking_pca', 'indices_dif_ranking_pca', 'dentro del rango']]"
   ]
  },
  {
   "cell_type": "markdown",
   "metadata": {},
   "source": [
    "#### Grupo 2"
   ]
  },
  {
   "cell_type": "code",
   "execution_count": null,
   "metadata": {},
   "outputs": [
    {
     "ename": "NameError",
     "evalue": "name 'cluster2' is not defined",
     "output_type": "error",
     "traceback": [
      "\u001b[1;31m---------------------------------------------------------------------------\u001b[0m",
      "\u001b[1;31mNameError\u001b[0m                                 Traceback (most recent call last)",
      "Cell \u001b[1;32mIn[37], line 1\u001b[0m\n\u001b[1;32m----> 1\u001b[0m \u001b[43mcluster2\u001b[49m[(cluster2[\u001b[38;5;124m'\u001b[39m\u001b[38;5;124mindices_dif_ranking_pca\u001b[39m\u001b[38;5;124m'\u001b[39m] \u001b[38;5;241m==\u001b[39m \u001b[38;5;28;01mFalse\u001b[39;00m) \u001b[38;5;241m&\u001b[39m (cluster2[\u001b[38;5;124m'\u001b[39m\u001b[38;5;124mdentro del rango\u001b[39m\u001b[38;5;124m'\u001b[39m] \u001b[38;5;241m==\u001b[39m \u001b[38;5;28;01mFalse\u001b[39;00m)][[\u001b[38;5;124m'\u001b[39m\u001b[38;5;124mPUNTO_VENTA\u001b[39m\u001b[38;5;124m'\u001b[39m, \u001b[38;5;124m'\u001b[39m\u001b[38;5;124mCLUSTER\u001b[39m\u001b[38;5;124m'\u001b[39m,\u001b[38;5;124m'\u001b[39m\u001b[38;5;124mRANKING\u001b[39m\u001b[38;5;124m'\u001b[39m, \u001b[38;5;124m'\u001b[39m\u001b[38;5;124mranking_pca\u001b[39m\u001b[38;5;124m'\u001b[39m, \u001b[38;5;124m'\u001b[39m\u001b[38;5;124mindices_dif_ranking_pca\u001b[39m\u001b[38;5;124m'\u001b[39m, \u001b[38;5;124m'\u001b[39m\u001b[38;5;124mdentro del rango\u001b[39m\u001b[38;5;124m'\u001b[39m]]\n",
      "\u001b[1;31mNameError\u001b[0m: name 'cluster2' is not defined"
     ]
    }
   ],
   "source": [
    "cluster2[(cluster2['indices_dif_ranking_pca'] == False) & (cluster2['dentro del rango'] == False)][['PUNTO_VENTA', 'CLUSTER','RANKING', 'ranking_pca', 'indices_dif_ranking_pca', 'dentro del rango']]"
   ]
  },
  {
   "cell_type": "code",
   "execution_count": null,
   "metadata": {},
   "outputs": [
    {
     "name": "stderr",
     "output_type": "stream",
     "text": [
      "C:\\Users\\HELENAMM\\AppData\\Local\\Temp\\ipykernel_37456\\1158502148.py:5: SettingWithCopyWarning:\n",
      "\n",
      "\n",
      "A value is trying to be set on a copy of a slice from a DataFrame.\n",
      "Try using .loc[row_indexer,col_indexer] = value instead\n",
      "\n",
      "See the caveats in the documentation: https://pandas.pydata.org/pandas-docs/stable/user_guide/indexing.html#returning-a-view-versus-a-copy\n",
      "\n"
     ]
    },
    {
     "data": {
      "text/html": [
       "<div>\n",
       "<style scoped>\n",
       "    .dataframe tbody tr th:only-of-type {\n",
       "        vertical-align: middle;\n",
       "    }\n",
       "\n",
       "    .dataframe tbody tr th {\n",
       "        vertical-align: top;\n",
       "    }\n",
       "\n",
       "    .dataframe thead th {\n",
       "        text-align: right;\n",
       "    }\n",
       "</style>\n",
       "<table border=\"1\" class=\"dataframe\">\n",
       "  <thead>\n",
       "    <tr style=\"text-align: right;\">\n",
       "      <th></th>\n",
       "      <th>PUNTO_VENTA</th>\n",
       "      <th>CONTRIBUCION</th>\n",
       "      <th>ROTACION</th>\n",
       "      <th>VENTA_POR_MES</th>\n",
       "      <th>MARGEN</th>\n",
       "      <th>VENTA_PESOS</th>\n",
       "      <th>VENTA_UNDS</th>\n",
       "      <th>COSTO</th>\n",
       "      <th>z1</th>\n",
       "      <th>z2</th>\n",
       "      <th>z3</th>\n",
       "      <th>PC4</th>\n",
       "      <th>PC5</th>\n",
       "      <th>PC6</th>\n",
       "      <th>Indice</th>\n",
       "      <th>Indice2</th>\n",
       "      <th>Indice3</th>\n",
       "      <th>COD_PUNTO_VENTA</th>\n",
       "      <th>INDICE</th>\n",
       "      <th>CLUSTER</th>\n",
       "      <th>RANKING</th>\n",
       "      <th>ranking_pca</th>\n",
       "      <th>indices_dif_ranking_pca</th>\n",
       "      <th>dentro del rango</th>\n",
       "    </tr>\n",
       "  </thead>\n",
       "  <tbody>\n",
       "    <tr>\n",
       "      <th>26</th>\n",
       "      <td>TIENDA PLAZA CENTRAL</td>\n",
       "      <td>7790931.0</td>\n",
       "      <td>0.67167</td>\n",
       "      <td>15.56522</td>\n",
       "      <td>0.675835</td>\n",
       "      <td>11527857.0</td>\n",
       "      <td>358</td>\n",
       "      <td>3.736926e+06</td>\n",
       "      <td>-1.188388</td>\n",
       "      <td>-0.136984</td>\n",
       "      <td>-0.337057</td>\n",
       "      <td>0.031766</td>\n",
       "      <td>0.098423</td>\n",
       "      <td>-0.000251</td>\n",
       "      <td>-0.86726</td>\n",
       "      <td>-0.865543</td>\n",
       "      <td>0.86726</td>\n",
       "      <td>T076</td>\n",
       "      <td>0.954109</td>\n",
       "      <td>grupo2</td>\n",
       "      <td>27</td>\n",
       "      <td>26</td>\n",
       "      <td>False</td>\n",
       "      <td>False</td>\n",
       "    </tr>\n",
       "  </tbody>\n",
       "</table>\n",
       "</div>"
      ],
      "text/plain": [
       "             PUNTO_VENTA  CONTRIBUCION  ROTACION  VENTA_POR_MES    MARGEN  \\\n",
       "26  TIENDA PLAZA CENTRAL     7790931.0   0.67167       15.56522  0.675835   \n",
       "\n",
       "    VENTA_PESOS  VENTA_UNDS         COSTO        z1        z2        z3  \\\n",
       "26   11527857.0         358  3.736926e+06 -1.188388 -0.136984 -0.337057   \n",
       "\n",
       "         PC4       PC5       PC6   Indice   Indice2  Indice3 COD_PUNTO_VENTA  \\\n",
       "26  0.031766  0.098423 -0.000251 -0.86726 -0.865543  0.86726            T076   \n",
       "\n",
       "      INDICE CLUSTER  RANKING  ranking_pca  indices_dif_ranking_pca  \\\n",
       "26  0.954109  grupo2       27           26                    False   \n",
       "\n",
       "    dentro del rango  \n",
       "26             False  "
      ]
     },
     "execution_count": 60,
     "metadata": {},
     "output_type": "execute_result"
    }
   ],
   "source": [
    "cluster2 = diferencias_clusters_pca(df_result2, 'grupo2')\n",
    "\n",
    "cluster2[(cluster2['indices_dif_ranking_pca'] == False) & (cluster2['dentro del rango'] == False)]"
   ]
  },
  {
   "cell_type": "markdown",
   "metadata": {},
   "source": [
    "#### Grupo 3"
   ]
  },
  {
   "cell_type": "code",
   "execution_count": null,
   "metadata": {},
   "outputs": [
    {
     "name": "stderr",
     "output_type": "stream",
     "text": [
      "C:\\Users\\HELENAMM\\AppData\\Local\\Temp\\ipykernel_37456\\1158502148.py:5: SettingWithCopyWarning:\n",
      "\n",
      "\n",
      "A value is trying to be set on a copy of a slice from a DataFrame.\n",
      "Try using .loc[row_indexer,col_indexer] = value instead\n",
      "\n",
      "See the caveats in the documentation: https://pandas.pydata.org/pandas-docs/stable/user_guide/indexing.html#returning-a-view-versus-a-copy\n",
      "\n"
     ]
    },
    {
     "data": {
      "text/html": [
       "<div>\n",
       "<style scoped>\n",
       "    .dataframe tbody tr th:only-of-type {\n",
       "        vertical-align: middle;\n",
       "    }\n",
       "\n",
       "    .dataframe tbody tr th {\n",
       "        vertical-align: top;\n",
       "    }\n",
       "\n",
       "    .dataframe thead th {\n",
       "        text-align: right;\n",
       "    }\n",
       "</style>\n",
       "<table border=\"1\" class=\"dataframe\">\n",
       "  <thead>\n",
       "    <tr style=\"text-align: right;\">\n",
       "      <th></th>\n",
       "      <th>PUNTO_VENTA</th>\n",
       "      <th>CONTRIBUCION</th>\n",
       "      <th>ROTACION</th>\n",
       "      <th>VENTA_POR_MES</th>\n",
       "      <th>MARGEN</th>\n",
       "      <th>VENTA_PESOS</th>\n",
       "      <th>VENTA_UNDS</th>\n",
       "      <th>COSTO</th>\n",
       "      <th>z1</th>\n",
       "      <th>z2</th>\n",
       "      <th>z3</th>\n",
       "      <th>PC4</th>\n",
       "      <th>PC5</th>\n",
       "      <th>PC6</th>\n",
       "      <th>Indice</th>\n",
       "      <th>Indice2</th>\n",
       "      <th>Indice3</th>\n",
       "      <th>COD_PUNTO_VENTA</th>\n",
       "      <th>INDICE</th>\n",
       "      <th>CLUSTER</th>\n",
       "      <th>RANKING</th>\n",
       "      <th>ranking_pca</th>\n",
       "      <th>indices_dif_ranking_pca</th>\n",
       "      <th>dentro del rango</th>\n",
       "    </tr>\n",
       "  </thead>\n",
       "  <tbody>\n",
       "  </tbody>\n",
       "</table>\n",
       "</div>"
      ],
      "text/plain": [
       "Empty DataFrame\n",
       "Columns: [PUNTO_VENTA, CONTRIBUCION, ROTACION, VENTA_POR_MES, MARGEN, VENTA_PESOS, VENTA_UNDS, COSTO, z1, z2, z3, PC4, PC5, PC6, Indice, Indice2, Indice3, COD_PUNTO_VENTA, INDICE, CLUSTER, RANKING, ranking_pca, indices_dif_ranking_pca, dentro del rango]\n",
       "Index: []"
      ]
     },
     "execution_count": 62,
     "metadata": {},
     "output_type": "execute_result"
    }
   ],
   "source": [
    "cluster3 = diferencias_clusters_pca(df_result2, 'grupo3')\n",
    "\n",
    "cluster3[(cluster3['indices_dif_ranking_pca'] == False) & (cluster3['dentro del rango'] == False)]"
   ]
  },
  {
   "cell_type": "markdown",
   "metadata": {},
   "source": [
    "#### Grupo 4"
   ]
  },
  {
   "cell_type": "code",
   "execution_count": null,
   "metadata": {},
   "outputs": [
    {
     "name": "stderr",
     "output_type": "stream",
     "text": [
      "C:\\Users\\HELENAMM\\AppData\\Local\\Temp\\ipykernel_37456\\1158502148.py:5: SettingWithCopyWarning:\n",
      "\n",
      "\n",
      "A value is trying to be set on a copy of a slice from a DataFrame.\n",
      "Try using .loc[row_indexer,col_indexer] = value instead\n",
      "\n",
      "See the caveats in the documentation: https://pandas.pydata.org/pandas-docs/stable/user_guide/indexing.html#returning-a-view-versus-a-copy\n",
      "\n"
     ]
    }
   ],
   "source": [
    "cluster4 = diferencias_clusters_pca(df_result2, 'grupo4')"
   ]
  },
  {
   "cell_type": "code",
   "execution_count": null,
   "metadata": {},
   "outputs": [
    {
     "data": {
      "text/html": [
       "<div>\n",
       "<style scoped>\n",
       "    .dataframe tbody tr th:only-of-type {\n",
       "        vertical-align: middle;\n",
       "    }\n",
       "\n",
       "    .dataframe tbody tr th {\n",
       "        vertical-align: top;\n",
       "    }\n",
       "\n",
       "    .dataframe thead th {\n",
       "        text-align: right;\n",
       "    }\n",
       "</style>\n",
       "<table border=\"1\" class=\"dataframe\">\n",
       "  <thead>\n",
       "    <tr style=\"text-align: right;\">\n",
       "      <th></th>\n",
       "      <th>PUNTO_VENTA</th>\n",
       "      <th>CONTRIBUCION</th>\n",
       "      <th>ROTACION</th>\n",
       "      <th>VENTA_POR_MES</th>\n",
       "      <th>MARGEN</th>\n",
       "      <th>VENTA_PESOS</th>\n",
       "      <th>VENTA_UNDS</th>\n",
       "      <th>COSTO</th>\n",
       "      <th>z1</th>\n",
       "      <th>z2</th>\n",
       "      <th>z3</th>\n",
       "      <th>PC4</th>\n",
       "      <th>PC5</th>\n",
       "      <th>PC6</th>\n",
       "      <th>Indice</th>\n",
       "      <th>Indice2</th>\n",
       "      <th>Indice3</th>\n",
       "      <th>COD_PUNTO_VENTA</th>\n",
       "      <th>INDICE</th>\n",
       "      <th>CLUSTER</th>\n",
       "      <th>RANKING</th>\n",
       "      <th>ranking_pca</th>\n",
       "      <th>indices_dif_ranking_pca</th>\n",
       "      <th>dentro del rango</th>\n",
       "    </tr>\n",
       "  </thead>\n",
       "  <tbody>\n",
       "  </tbody>\n",
       "</table>\n",
       "</div>"
      ],
      "text/plain": [
       "Empty DataFrame\n",
       "Columns: [PUNTO_VENTA, CONTRIBUCION, ROTACION, VENTA_POR_MES, MARGEN, VENTA_PESOS, VENTA_UNDS, COSTO, z1, z2, z3, PC4, PC5, PC6, Indice, Indice2, Indice3, COD_PUNTO_VENTA, INDICE, CLUSTER, RANKING, ranking_pca, indices_dif_ranking_pca, dentro del rango]\n",
       "Index: []"
      ]
     },
     "execution_count": 64,
     "metadata": {},
     "output_type": "execute_result"
    }
   ],
   "source": [
    "cluster4[(cluster4['indices_dif_ranking_pca'] == False) & (cluster4['dentro del rango'] == False)]"
   ]
  },
  {
   "cell_type": "code",
   "execution_count": null,
   "metadata": {},
   "outputs": [
    {
     "ename": "NameError",
     "evalue": "name 'hhh' is not defined",
     "output_type": "error",
     "traceback": [
      "\u001b[1;31m---------------------------------------------------------------------------\u001b[0m",
      "\u001b[1;31mNameError\u001b[0m                                 Traceback (most recent call last)",
      "Cell \u001b[1;32mIn[33], line 1\u001b[0m\n\u001b[1;32m----> 1\u001b[0m \u001b[43mhhh\u001b[49m\n",
      "\u001b[1;31mNameError\u001b[0m: name 'hhh' is not defined"
     ]
    }
   ],
   "source": [
    "hhh"
   ]
  },
  {
   "cell_type": "markdown",
   "metadata": {},
   "source": [
    "### MODELOS DE AGRUPACIÓN"
   ]
  },
  {
   "cell_type": "markdown",
   "metadata": {},
   "source": [
    "### KMEANS"
   ]
  },
  {
   "cell_type": "code",
   "execution_count": null,
   "metadata": {},
   "outputs": [],
   "source": [
    "from sklearn.cluster import KMeans\n",
    "from sklearn.preprocessing import StandardScaler"
   ]
  },
  {
   "cell_type": "code",
   "execution_count": null,
   "metadata": {},
   "outputs": [],
   "source": [
    "scaled_df = StandardScaler().fit_transform(df)"
   ]
  },
  {
   "cell_type": "code",
   "execution_count": null,
   "metadata": {},
   "outputs": [
    {
     "data": {
      "text/plain": [
       "array([[ 1.1750103 ,  1.66824459,  3.69511986, -0.27068897,  1.20712299,\n",
       "         4.25157088,  1.27141844],\n",
       "       [ 1.25166929,  1.45223867,  2.55865903, -0.20489503,  1.27072142,\n",
       "         2.99289654,  1.30801318],\n",
       "       [ 1.1752277 ,  1.32506299,  1.84660232, -0.13683512,  1.18040476,\n",
       "         2.20426656,  1.18925275],\n",
       "       [ 1.05637567,  1.22352361,  1.69098762, -0.04759921,  1.04448417,\n",
       "         2.03191696,  1.018379  ],\n",
       "       [ 0.99372796,  1.17700764,  1.54951922, -0.12124311,  0.99608934,\n",
       "         1.87523551,  0.99942056]])"
      ]
     },
     "execution_count": 67,
     "metadata": {},
     "output_type": "execute_result"
    }
   ],
   "source": [
    "scaled_df[:5]"
   ]
  },
  {
   "cell_type": "code",
   "execution_count": null,
   "metadata": {},
   "outputs": [
    {
     "name": "stderr",
     "output_type": "stream",
     "text": [
      "c:\\Users\\HELENAMM\\AppData\\Local\\Programs\\Python\\Python312\\Lib\\site-packages\\joblib\\externals\\loky\\backend\\context.py:136: UserWarning:\n",
      "\n",
      "Could not find the number of physical cores for the following reason:\n",
      "found 0 physical cores < 1\n",
      "Returning the number of logical cores instead. You can silence this warning by setting LOKY_MAX_CPU_COUNT to the number of cores you want to use.\n",
      "\n",
      "  File \"c:\\Users\\HELENAMM\\AppData\\Local\\Programs\\Python\\Python312\\Lib\\site-packages\\joblib\\externals\\loky\\backend\\context.py\", line 282, in _count_physical_cores\n",
      "    raise ValueError(f\"found {cpu_count_physical} physical cores < 1\")\n"
     ]
    },
    {
     "data": {
      "image/png": "[encoded data removed]",
      "text/plain": [
       "<Figure size 640x480 with 1 Axes>"
      ]
     },
     "metadata": {},
     "output_type": "display_data"
    }
   ],
   "source": [
    "#initialize kmeans parameters\n",
    "kmeans_kwargs = {\n",
    "\"init\": \"random\",\n",
    "\"n_init\": 10,\n",
    "\"random_state\": 1,\n",
    "}\n",
    "\n",
    "#create list to hold SSE values for each k\n",
    "sse = []\n",
    "for k in range(1, 11):\n",
    "    kmeans = KMeans(n_clusters=k, **kmeans_kwargs)\n",
    "    kmeans.fit(scaled_df)\n",
    "    sse.append(kmeans.inertia_)\n",
    "\n",
    "#visualize results\n",
    "plt.plot(range(1, 11), sse)\n",
    "plt.xticks(range(1, 11))\n",
    "plt.xlabel(\"Number of Clusters\")\n",
    "plt.ylabel(\"SSE\")\n",
    "plt.show()"
   ]
  },
  {
   "cell_type": "code",
   "execution_count": null,
   "metadata": {},
   "outputs": [],
   "source": [
    "kmeans = KMeans(init=\"random\", n_clusters=4, n_init=10, random_state=1)\n",
    "\n",
    "#fit k-means algorithm to data\n",
    "kmeans.fit(scaled_df)\n",
    "\n",
    "df['cluster_kmeans'] = kmeans.labels_"
   ]
  },
  {
   "cell_type": "code",
   "execution_count": null,
   "metadata": {},
   "outputs": [
    {
     "data": {
      "image/png": "[encoded data removed]",
      "text/plain": [
       "<Figure size 1000x600 with 1 Axes>"
      ]
     },
     "metadata": {},
     "output_type": "display_data"
    }
   ],
   "source": [
    "# Visualización de los clusters\n",
    "plt.figure(figsize=(10, 6))\n",
    "sns.scatterplot(y = 'CONTRIBUCION',\n",
    "                 x='VENTA_POR_MES',\n",
    "                 hue='cluster_kmeans', data=df, palette='viridis')\n",
    "plt.title('Clusters de Puntos de Venta')\n",
    "plt.xlabel('Contribución')\n",
    "plt.ylabel('Venta por Mes')\n",
    "plt.legend()\n",
    "plt.show()"
   ]
  },
  {
   "cell_type": "code",
   "execution_count": null,
   "metadata": {},
   "outputs": [
    {
     "data": {
      "image/png": "[encoded data removed]",
      "text/plain": [
       "<Figure size 1000x600 with 1 Axes>"
      ]
     },
     "metadata": {},
     "output_type": "display_data"
    }
   ],
   "source": [
    "# Visualización de los clusters\n",
    "plt.figure(figsize=(10, 6))\n",
    "sns.scatterplot(y = df.index,\n",
    "                 x='VENTA_POR_MES',\n",
    "                 hue='cluster_kmeans', data=df, palette='viridis')\n",
    "plt.title('Clusters de Puntos de Venta')\n",
    "plt.xlabel('Contribución')\n",
    "plt.ylabel('Venta por Mes')\n",
    "plt.legend()\n",
    "plt.show()"
   ]
  },
  {
   "cell_type": "code",
   "execution_count": null,
   "metadata": {},
   "outputs": [
    {
     "data": {
      "application/vnd.plotly.v1+json": {
       "config": {
        "plotlyServerURL": "https://plot.ly"
       },
       "data": [
        {
         "hovertemplate": "PUNTO_VENTA=%{x}<br>VENTA_POR_MES=%{y}<br>cluster_kmeans=%{marker.color}<extra></extra>",
         "legendgroup": "",
         "marker": {
          "color": [
           1,
           1,
           1,
           1,
           1,
           1,
           1,
           1,
           1,
           1,
           1,
           1,
           1,
           1,
           1,
           1,
           1,
           1,
           1,
           1,
           1,
           1,
           1,
           1,
           1,
           1,
           1,
           1,
           1,
           1,
           1,
           1,
           1,
           2,
           2,
           2,
           2,
           2,
           2,
           2,
           2,
           2,
           2,
           2,
           2,
           2,
           2,
           2,
           2,
           2,
           2,
           2,
           2,
           2,
           2,
           2,
           2,
           2,
           2,
           2,
           2,
           2,
           2,
           2,
           2,
           2,
           2,
           2,
           2,
           2,
           2,
           2,
           2,
           2,
           2,
           2,
           2,
           2,
           0,
           3,
           2,
           2,
           3,
           3,
           3,
           3,
           3,
           3,
           3,
           3,
           3,
           3,
           3
          ],
          "coloraxis": "coloraxis",
          "symbol": "circle"
         },
         "mode": "markers",
         "name": "",
         "orientation": "v",
         "showlegend": false,
         "type": "scatter",
         "x": [
          "TIENDA EL TESORO",
          "TIENDA JARDIN PLAZA",
          "TIENDA SANTAFÉ MEDELLIN",
          "TIENDA CENTRO ANDINO",
          "TIENDA  VIVA ENVIGADO",
          "TIENDA CHIPICHAPE 2",
          "TIENDA LOS MOLINOS",
          "TIENDA GRAN ESTACION",
          "TIENDA TITÁN PLAZA",
          "TIENDA CENTRO MAYOR",
          "TIENDA UNICENTRO CALI",
          "TIENDA SAN NICOLÁS",
          "TIENDA PALMETTO",
          "VENTURA PLAZA CUCUTA",
          "TIENDA VIVA VILLAVICENCIO",
          "TIENDA MAYORCA",
          "TIENDA SAN DIEGO",
          "TIENDA FONTANAR CHIA",
          "UNICENTRO ARMENIA",
          "TIENDA OVIEDO 2",
          "TIENDA PRIMAVERA",
          "TIENDA GRAN PLAZA SOACHA",
          "CAMPANARIO POPAYAN",
          "TIENDA UNICENTRO GIRARDOT",
          "LA ESTACION IBAGUE",
          "TIENDA COSMOCENTRO CALI",
          "TIENDA PLAZA CENTRAL",
          "TIENDA ARKADIA",
          "VICTORIA PEREIRA",
          "TIENDA LA FELICIDAD",
          "TIENDA CALIMA",
          "TIENDA PLAZA IMPERIAL BOGOTA",
          "TIENDA  PLAZA FABRICATO",
          "TIENDA PORTAL 80",
          "TIENDA SANTAFÉ BOGOTÁ",
          "TIENDA LLANOGRANDE PLAZA",
          "FUNDADORES MANIZALES",
          "PITALITO HUILA",
          "PARQUE CARACOLI",
          "TIENDA HAYUELOS",
          "TIENDA NUESTRO CARTAGO",
          "GRAN PLAZA FLORENCIA",
          "TIENDA JARDINES DE LLANOGRANDE",
          "TIENDA PLAZA CLARO",
          "CARIBE PLAZA CARTAGENA",
          "TIENDA NUESTRA URABA",
          "TIENDA DIVERPLAZA BOGOTÁ",
          "BUENAVISTA BARRANQUILLA",
          "TIENDA ECOPLAZA BOGOTA",
          "OCAÑA",
          "CACIQUE BUCARAMANGA",
          "TIENDA  SAN ANDRES  2",
          "TIENDA VIVA LA CEJA",
          "OFFCORSS PASTO",
          "TIENDA UNICENTRO BOGOTÁ",
          "OFFCORSS ALCARAVAN",
          "MEGAMALL BUCARAMANGA",
          "SAN PEDRO PLAZA NEIVA",
          "VIVA WAJIRA",
          "TIENDA TINTAL",
          "UNICENTRO CUCUTA",
          "TIENDA PASEO VILLA DEL RIO",
          "SAN SILVESTRE BARRANCABERMEJA",
          "MULTICENTRO IBAGUE",
          "LA CASTELLANA CARTAGENA",
          "TIENDA PLAZA DE LAS AMERICAS",
          "MAYALES VALLEDUPAR",
          "GUATAPURI VALLEDUPAR",
          "TIENDA GRAN PLAZA IPIALES",
          "TIENDA GUACARI",
          "OFFCORSS SOGAMOSO",
          "OFFCORSS AGUACHICA",
          "OFFCORSS ARAUCA",
          "BUENAVISTA MONTERIA",
          "DUITAMA BOYACA",
          "BUENAVISTA SANTA MARTA",
          "TIENDA FUSAGASUGA",
          "OFFCORSS VIVA  TUNJA",
          "EXPORTACIONES - DES.PROVEEDORE",
          "OFFCORSS GRANADA",
          "PORTAL DE PRADO BARRANQUILLA",
          "TIENDA PARQUE ALEGRA",
          "OFFCORSS FACATATIVA",
          "TIENDA LA COLINA",
          "Tienda Ventura Mall",
          "TIENDA SERREZUELA CARTAGENA",
          "TIENDA OFFCORSS TULUA",
          "TIENDA  OC CITYPLAZA",
          "OFFCORSS VILLANUEVA",
          "TIENDA  VIVA LAURELES",
          "TIENDA LA ESTACION",
          "TIENDA LA 14 CALIMA",
          "MARKETPLACE"
         ],
         "xaxis": "x",
         "y": [
          48,
          37.52174,
          30.95652,
          29.52174,
          28.21739,
          26.17391,
          21.04348,
          23.43478,
          22.30435,
          21.17391,
          21.13043,
          21.69565,
          19.95652,
          21.95652,
          22.47619,
          18.56522,
          18.04348,
          18.95652,
          18.61905,
          18.34783,
          16.78261,
          16.56522,
          17.78261,
          17.13043,
          16.86957,
          17,
          15.56522,
          16.08696,
          16.91304,
          16.21739,
          15.82609,
          15.13043,
          15,
          13.95652,
          13.86364,
          14.68182,
          13.3913,
          12.73913,
          12.73913,
          12.56522,
          11.91304,
          11.78261,
          12.91304,
          11.30435,
          11.78261,
          14.04545,
          11.21739,
          12.17391,
          10.86957,
          11.73913,
          10.78261,
          11,
          9.782609,
          10.17391,
          18.69231,
          10.78261,
          9.565217,
          9.772727,
          11.3,
          8.869565,
          9.26087,
          8.217391,
          8.913043,
          8.782609,
          9.391304,
          8.434783,
          7.26087,
          8,
          7.391304,
          7.26087,
          6.681818,
          7,
          6.173913,
          6.181818,
          7.181818,
          7.2,
          9.375,
          6,
          61.6,
          13.33333,
          4.833333,
          4.75,
          7,
          13.5,
          2.3,
          5,
          4.5,
          2,
          9,
          2,
          0,
          0,
          1.666667
         ],
         "yaxis": "y"
        }
       ],
       "layout": {
        "coloraxis": {
         "colorbar": {
          "title": {
           "text": "cluster_kmeans"
          }
         },
         "colorscale": [
          [
           0,
           "#0d0887"
          ],
          [
           0.1111111111111111,
           "#46039f"
          ],
          [
           0.2222222222222222,
           "#7201a8"
          ],
          [
           0.3333333333333333,
           "#9c179e"
          ],
          [
           0.4444444444444444,
           "#bd3786"
          ],
          [
           0.5555555555555556,
           "#d8576b"
          ],
          [
           0.6666666666666666,
           "#ed7953"
          ],
          [
           0.7777777777777778,
           "#fb9f3a"
          ],
          [
           0.8888888888888888,
           "#fdca26"
          ],
          [
           1,
           "#f0f921"
          ]
         ]
        },
        "legend": {
         "tracegroupgap": 0
        },
        "margin": {
         "t": 60
        },
        "template": {
         "data": {
          "bar": [
           {
            "error_x": {
             "color": "#2a3f5f"
            },
            "error_y": {
             "color": "#2a3f5f"
            },
            "marker": {
             "line": {
              "color": "#E5ECF6",
              "width": 0.5
             },
             "pattern": {
              "fillmode": "overlay",
              "size": 10,
              "solidity": 0.2
             }
            },
            "type": "bar"
           }
          ],
          "barpolar": [
           {
            "marker": {
             "line": {
              "color": "#E5ECF6",
              "width": 0.5
             },
             "pattern": {
              "fillmode": "overlay",
              "size": 10,
              "solidity": 0.2
             }
            },
            "type": "barpolar"
           }
          ],
          "carpet": [
           {
            "aaxis": {
             "endlinecolor": "#2a3f5f",
             "gridcolor": "white",
             "linecolor": "white",
             "minorgridcolor": "white",
             "startlinecolor": "#2a3f5f"
            },
            "baxis": {
             "endlinecolor": "#2a3f5f",
             "gridcolor": "white",
             "linecolor": "white",
             "minorgridcolor": "white",
             "startlinecolor": "#2a3f5f"
            },
            "type": "carpet"
           }
          ],
          "choropleth": [
           {
            "colorbar": {
             "outlinewidth": 0,
             "ticks": ""
            },
            "type": "choropleth"
           }
          ],
          "contour": [
           {
            "colorbar": {
             "outlinewidth": 0,
             "ticks": ""
            },
            "colorscale": [
             [
              0,
              "#0d0887"
             ],
             [
              0.1111111111111111,
              "#46039f"
             ],
             [
              0.2222222222222222,
              "#7201a8"
             ],
             [
              0.3333333333333333,
              "#9c179e"
             ],
             [
              0.4444444444444444,
              "#bd3786"
             ],
             [
              0.5555555555555556,
              "#d8576b"
             ],
             [
              0.6666666666666666,
              "#ed7953"
             ],
             [
              0.7777777777777778,
              "#fb9f3a"
             ],
             [
              0.8888888888888888,
              "#fdca26"
             ],
             [
              1,
              "#f0f921"
             ]
            ],
            "type": "contour"
           }
          ],
          "contourcarpet": [
           {
            "colorbar": {
             "outlinewidth": 0,
             "ticks": ""
            },
            "type": "contourcarpet"
           }
          ],
          "heatmap": [
           {
            "colorbar": {
             "outlinewidth": 0,
             "ticks": ""
            },
            "colorscale": [
             [
              0,
              "#0d0887"
             ],
             [
              0.1111111111111111,
              "#46039f"
             ],
             [
              0.2222222222222222,
              "#7201a8"
             ],
             [
              0.3333333333333333,
              "#9c179e"
             ],
             [
              0.4444444444444444,
              "#bd3786"
             ],
             [
              0.5555555555555556,
              "#d8576b"
             ],
             [
              0.6666666666666666,
              "#ed7953"
             ],
             [
              0.7777777777777778,
              "#fb9f3a"
             ],
             [
              0.8888888888888888,
              "#fdca26"
             ],
             [
              1,
              "#f0f921"
             ]
            ],
            "type": "heatmap"
           }
          ],
          "heatmapgl": [
           {
            "colorbar": {
             "outlinewidth": 0,
             "ticks": ""
            },
            "colorscale": [
             [
              0,
              "#0d0887"
             ],
             [
              0.1111111111111111,
              "#46039f"
             ],
             [
              0.2222222222222222,
              "#7201a8"
             ],
             [
              0.3333333333333333,
              "#9c179e"
             ],
             [
              0.4444444444444444,
              "#bd3786"
             ],
             [
              0.5555555555555556,
              "#d8576b"
             ],
             [
              0.6666666666666666,
              "#ed7953"
             ],
             [
              0.7777777777777778,
              "#fb9f3a"
             ],
             [
              0.8888888888888888,
              "#fdca26"
             ],
             [
              1,
              "#f0f921"
             ]
            ],
            "type": "heatmapgl"
           }
          ],
          "histogram": [
           {
            "marker": {
             "pattern": {
              "fillmode": "overlay",
              "size": 10,
              "solidity": 0.2
             }
            },
            "type": "histogram"
           }
          ],
          "histogram2d": [
           {
            "colorbar": {
             "outlinewidth": 0,
             "ticks": ""
            },
            "colorscale": [
             [
              0,
              "#0d0887"
             ],
             [
              0.1111111111111111,
              "#46039f"
             ],
             [
              0.2222222222222222,
              "#7201a8"
             ],
             [
              0.3333333333333333,
              "#9c179e"
             ],
             [
              0.4444444444444444,
              "#bd3786"
             ],
             [
              0.5555555555555556,
              "#d8576b"
             ],
             [
              0.6666666666666666,
              "#ed7953"
             ],
             [
              0.7777777777777778,
              "#fb9f3a"
             ],
             [
              0.8888888888888888,
              "#fdca26"
             ],
             [
              1,
              "#f0f921"
             ]
            ],
            "type": "histogram2d"
           }
          ],
          "histogram2dcontour": [
           {
            "colorbar": {
             "outlinewidth": 0,
             "ticks": ""
            },
            "colorscale": [
             [
              0,
              "#0d0887"
             ],
             [
              0.1111111111111111,
              "#46039f"
             ],
             [
              0.2222222222222222,
              "#7201a8"
             ],
             [
              0.3333333333333333,
              "#9c179e"
             ],
             [
              0.4444444444444444,
              "#bd3786"
             ],
             [
              0.5555555555555556,
              "#d8576b"
             ],
             [
              0.6666666666666666,
              "#ed7953"
             ],
             [
              0.7777777777777778,
              "#fb9f3a"
             ],
             [
              0.8888888888888888,
              "#fdca26"
             ],
             [
              1,
              "#f0f921"
             ]
            ],
            "type": "histogram2dcontour"
           }
          ],
          "mesh3d": [
           {
            "colorbar": {
             "outlinewidth": 0,
             "ticks": ""
            },
            "type": "mesh3d"
           }
          ],
          "parcoords": [
           {
            "line": {
             "colorbar": {
              "outlinewidth": 0,
              "ticks": ""
             }
            },
            "type": "parcoords"
           }
          ],
          "pie": [
           {
            "automargin": true,
            "type": "pie"
           }
          ],
          "scatter": [
           {
            "fillpattern": {
             "fillmode": "overlay",
             "size": 10,
             "solidity": 0.2
            },
            "type": "scatter"
           }
          ],
          "scatter3d": [
           {
            "line": {
             "colorbar": {
              "outlinewidth": 0,
              "ticks": ""
             }
            },
            "marker": {
             "colorbar": {
              "outlinewidth": 0,
              "ticks": ""
             }
            },
            "type": "scatter3d"
           }
          ],
          "scattercarpet": [
           {
            "marker": {
             "colorbar": {
              "outlinewidth": 0,
              "ticks": ""
             }
            },
            "type": "scattercarpet"
           }
          ],
          "scattergeo": [
           {
            "marker": {
             "colorbar": {
              "outlinewidth": 0,
              "ticks": ""
             }
            },
            "type": "scattergeo"
           }
          ],
          "scattergl": [
           {
            "marker": {
             "colorbar": {
              "outlinewidth": 0,
              "ticks": ""
             }
            },
            "type": "scattergl"
           }
          ],
          "scattermapbox": [
           {
            "marker": {
             "colorbar": {
              "outlinewidth": 0,
              "ticks": ""
             }
            },
            "type": "scattermapbox"
           }
          ],
          "scatterpolar": [
           {
            "marker": {
             "colorbar": {
              "outlinewidth": 0,
              "ticks": ""
             }
            },
            "type": "scatterpolar"
           }
          ],
          "scatterpolargl": [
           {
            "marker": {
             "colorbar": {
              "outlinewidth": 0,
              "ticks": ""
             }
            },
            "type": "scatterpolargl"
           }
          ],
          "scatterternary": [
           {
            "marker": {
             "colorbar": {
              "outlinewidth": 0,
              "ticks": ""
             }
            },
            "type": "scatterternary"
           }
          ],
          "surface": [
           {
            "colorbar": {
             "outlinewidth": 0,
             "ticks": ""
            },
            "colorscale": [
             [
              0,
              "#0d0887"
             ],
             [
              0.1111111111111111,
              "#46039f"
             ],
             [
              0.2222222222222222,
              "#7201a8"
             ],
             [
              0.3333333333333333,
              "#9c179e"
             ],
             [
              0.4444444444444444,
              "#bd3786"
             ],
             [
              0.5555555555555556,
              "#d8576b"
             ],
             [
              0.6666666666666666,
              "#ed7953"
             ],
             [
              0.7777777777777778,
              "#fb9f3a"
             ],
             [
              0.8888888888888888,
              "#fdca26"
             ],
             [
              1,
              "#f0f921"
             ]
            ],
            "type": "surface"
           }
          ],
          "table": [
           {
            "cells": {
             "fill": {
              "color": "#EBF0F8"
             },
             "line": {
              "color": "white"
             }
            },
            "header": {
             "fill": {
              "color": "#C8D4E3"
             },
             "line": {
              "color": "white"
             }
            },
            "type": "table"
           }
          ]
         },
         "layout": {
          "annotationdefaults": {
           "arrowcolor": "#2a3f5f",
           "arrowhead": 0,
           "arrowwidth": 1
          },
          "autotypenumbers": "strict",
          "coloraxis": {
           "colorbar": {
            "outlinewidth": 0,
            "ticks": ""
           }
          },
          "colorscale": {
           "diverging": [
            [
             0,
             "#8e0152"
            ],
            [
             0.1,
             "#c51b7d"
            ],
            [
             0.2,
             "#de77ae"
            ],
            [
             0.3,
             "#f1b6da"
            ],
            [
             0.4,
             "#fde0ef"
            ],
            [
             0.5,
             "#f7f7f7"
            ],
            [
             0.6,
             "#e6f5d0"
            ],
            [
             0.7,
             "#b8e186"
            ],
            [
             0.8,
             "#7fbc41"
            ],
            [
             0.9,
             "#4d9221"
            ],
            [
             1,
             "#276419"
            ]
           ],
           "sequential": [
            [
             0,
             "#0d0887"
            ],
            [
             0.1111111111111111,
             "#46039f"
            ],
            [
             0.2222222222222222,
             "#7201a8"
            ],
            [
             0.3333333333333333,
             "#9c179e"
            ],
            [
             0.4444444444444444,
             "#bd3786"
            ],
            [
             0.5555555555555556,
             "#d8576b"
            ],
            [
             0.6666666666666666,
             "#ed7953"
            ],
            [
             0.7777777777777778,
             "#fb9f3a"
            ],
            [
             0.8888888888888888,
             "#fdca26"
            ],
            [
             1,
             "#f0f921"
            ]
           ],
           "sequentialminus": [
            [
             0,
             "#0d0887"
            ],
            [
             0.1111111111111111,
             "#46039f"
            ],
            [
             0.2222222222222222,
             "#7201a8"
            ],
            [
             0.3333333333333333,
             "#9c179e"
            ],
            [
             0.4444444444444444,
             "#bd3786"
            ],
            [
             0.5555555555555556,
             "#d8576b"
            ],
            [
             0.6666666666666666,
             "#ed7953"
            ],
            [
             0.7777777777777778,
             "#fb9f3a"
            ],
            [
             0.8888888888888888,
             "#fdca26"
            ],
            [
             1,
             "#f0f921"
            ]
           ]
          },
          "colorway": [
           "#636efa",
           "#EF553B",
           "#00cc96",
           "#ab63fa",
           "#FFA15A",
           "#19d3f3",
           "#FF6692",
           "#B6E880",
           "#FF97FF",
           "#FECB52"
          ],
          "font": {
           "color": "#2a3f5f"
          },
          "geo": {
           "bgcolor": "white",
           "lakecolor": "white",
           "landcolor": "#E5ECF6",
           "showlakes": true,
           "showland": true,
           "subunitcolor": "white"
          },
          "hoverlabel": {
           "align": "left"
          },
          "hovermode": "closest",
          "mapbox": {
           "style": "light"
          },
          "paper_bgcolor": "white",
          "plot_bgcolor": "#E5ECF6",
          "polar": {
           "angularaxis": {
            "gridcolor": "white",
            "linecolor": "white",
            "ticks": ""
           },
           "bgcolor": "#E5ECF6",
           "radialaxis": {
            "gridcolor": "white",
            "linecolor": "white",
            "ticks": ""
           }
          },
          "scene": {
           "xaxis": {
            "backgroundcolor": "#E5ECF6",
            "gridcolor": "white",
            "gridwidth": 2,
            "linecolor": "white",
            "showbackground": true,
            "ticks": "",
            "zerolinecolor": "white"
           },
           "yaxis": {
            "backgroundcolor": "#E5ECF6",
            "gridcolor": "white",
            "gridwidth": 2,
            "linecolor": "white",
            "showbackground": true,
            "ticks": "",
            "zerolinecolor": "white"
           },
           "zaxis": {
            "backgroundcolor": "#E5ECF6",
            "gridcolor": "white",
            "gridwidth": 2,
            "linecolor": "white",
            "showbackground": true,
            "ticks": "",
            "zerolinecolor": "white"
           }
          },
          "shapedefaults": {
           "line": {
            "color": "#2a3f5f"
           }
          },
          "ternary": {
           "aaxis": {
            "gridcolor": "white",
            "linecolor": "white",
            "ticks": ""
           },
           "baxis": {
            "gridcolor": "white",
            "linecolor": "white",
            "ticks": ""
           },
           "bgcolor": "#E5ECF6",
           "caxis": {
            "gridcolor": "white",
            "linecolor": "white",
            "ticks": ""
           }
          },
          "title": {
           "x": 0.05
          },
          "xaxis": {
           "automargin": true,
           "gridcolor": "white",
           "linecolor": "white",
           "ticks": "",
           "title": {
            "standoff": 15
           },
           "zerolinecolor": "white",
           "zerolinewidth": 2
          },
          "yaxis": {
           "automargin": true,
           "gridcolor": "white",
           "linecolor": "white",
           "ticks": "",
           "title": {
            "standoff": 15
           },
           "zerolinecolor": "white",
           "zerolinewidth": 2
          }
         }
        },
        "xaxis": {
         "anchor": "y",
         "domain": [
          0,
          1
         ],
         "title": {
          "text": "PUNTO_VENTA"
         }
        },
        "yaxis": {
         "anchor": "x",
         "domain": [
          0,
          1
         ],
         "title": {
          "text": "VENTA_POR_MES"
         }
        }
       }
      }
     },
     "metadata": {},
     "output_type": "display_data"
    }
   ],
   "source": [
    "import plotly.express as px\n",
    "\n",
    "fig = px.scatter(df, x= df.index,\n",
    "                 y='VENTA_POR_MES', \n",
    "                color='cluster_kmeans',\n",
    "                    )\n",
    "\n",
    "fig.show()"
   ]
  },
  {
   "cell_type": "code",
   "execution_count": null,
   "metadata": {},
   "outputs": [
    {
     "data": {
      "text/html": [
       "<div>\n",
       "<style scoped>\n",
       "    .dataframe tbody tr th:only-of-type {\n",
       "        vertical-align: middle;\n",
       "    }\n",
       "\n",
       "    .dataframe tbody tr th {\n",
       "        vertical-align: top;\n",
       "    }\n",
       "\n",
       "    .dataframe thead th {\n",
       "        text-align: right;\n",
       "    }\n",
       "</style>\n",
       "<table border=\"1\" class=\"dataframe\">\n",
       "  <thead>\n",
       "    <tr style=\"text-align: right;\">\n",
       "      <th></th>\n",
       "      <th>CONTRIBUCION</th>\n",
       "      <th>ROTACION</th>\n",
       "      <th>VENTA_POR_MES</th>\n",
       "      <th>MARGEN</th>\n",
       "      <th>VENTA_PESOS</th>\n",
       "      <th>VENTA_UNDS</th>\n",
       "      <th>COSTO</th>\n",
       "      <th>cluster_kmeans</th>\n",
       "    </tr>\n",
       "    <tr>\n",
       "      <th>PUNTO_VENTA</th>\n",
       "      <th></th>\n",
       "      <th></th>\n",
       "      <th></th>\n",
       "      <th></th>\n",
       "      <th></th>\n",
       "      <th></th>\n",
       "      <th></th>\n",
       "      <th></th>\n",
       "    </tr>\n",
       "  </thead>\n",
       "  <tbody>\n",
       "    <tr>\n",
       "      <th>TIENDA PORTAL 80</th>\n",
       "      <td>7556531.0</td>\n",
       "      <td>0.639442</td>\n",
       "      <td>13.956520</td>\n",
       "      <td>0.682256</td>\n",
       "      <td>11075798.0</td>\n",
       "      <td>321</td>\n",
       "      <td>3.519268e+06</td>\n",
       "      <td>2</td>\n",
       "    </tr>\n",
       "    <tr>\n",
       "      <th>TIENDA SANTAFÉ BOGOTÁ</th>\n",
       "      <td>7812028.0</td>\n",
       "      <td>0.603960</td>\n",
       "      <td>13.863640</td>\n",
       "      <td>0.675204</td>\n",
       "      <td>11569874.0</td>\n",
       "      <td>305</td>\n",
       "      <td>3.757846e+06</td>\n",
       "      <td>2</td>\n",
       "    </tr>\n",
       "    <tr>\n",
       "      <th>TIENDA LLANOGRANDE PLAZA</th>\n",
       "      <td>7272163.0</td>\n",
       "      <td>0.634578</td>\n",
       "      <td>14.681820</td>\n",
       "      <td>0.674279</td>\n",
       "      <td>10785092.0</td>\n",
       "      <td>323</td>\n",
       "      <td>3.512930e+06</td>\n",
       "      <td>2</td>\n",
       "    </tr>\n",
       "    <tr>\n",
       "      <th>FUNDADORES MANIZALES</th>\n",
       "      <td>7384507.0</td>\n",
       "      <td>0.647059</td>\n",
       "      <td>13.391300</td>\n",
       "      <td>0.682567</td>\n",
       "      <td>10818723.0</td>\n",
       "      <td>308</td>\n",
       "      <td>3.434216e+06</td>\n",
       "      <td>2</td>\n",
       "    </tr>\n",
       "    <tr>\n",
       "      <th>PITALITO HUILA</th>\n",
       "      <td>7061022.0</td>\n",
       "      <td>0.624733</td>\n",
       "      <td>12.739130</td>\n",
       "      <td>0.678705</td>\n",
       "      <td>10403664.0</td>\n",
       "      <td>293</td>\n",
       "      <td>3.342642e+06</td>\n",
       "      <td>2</td>\n",
       "    </tr>\n",
       "    <tr>\n",
       "      <th>PARQUE CARACOLI</th>\n",
       "      <td>6951754.0</td>\n",
       "      <td>0.594320</td>\n",
       "      <td>12.739130</td>\n",
       "      <td>0.686499</td>\n",
       "      <td>10126387.0</td>\n",
       "      <td>293</td>\n",
       "      <td>3.174632e+06</td>\n",
       "      <td>2</td>\n",
       "    </tr>\n",
       "    <tr>\n",
       "      <th>TIENDA HAYUELOS</th>\n",
       "      <td>6932348.0</td>\n",
       "      <td>0.597107</td>\n",
       "      <td>12.565220</td>\n",
       "      <td>0.675174</td>\n",
       "      <td>10267504.0</td>\n",
       "      <td>289</td>\n",
       "      <td>3.335156e+06</td>\n",
       "      <td>2</td>\n",
       "    </tr>\n",
       "    <tr>\n",
       "      <th>TIENDA NUESTRO CARTAGO</th>\n",
       "      <td>7019851.0</td>\n",
       "      <td>0.607539</td>\n",
       "      <td>11.913040</td>\n",
       "      <td>0.672468</td>\n",
       "      <td>10438941.0</td>\n",
       "      <td>274</td>\n",
       "      <td>3.419090e+06</td>\n",
       "      <td>2</td>\n",
       "    </tr>\n",
       "    <tr>\n",
       "      <th>GRAN PLAZA FLORENCIA</th>\n",
       "      <td>7102081.0</td>\n",
       "      <td>0.592998</td>\n",
       "      <td>11.782610</td>\n",
       "      <td>0.678380</td>\n",
       "      <td>10469176.0</td>\n",
       "      <td>271</td>\n",
       "      <td>3.367095e+06</td>\n",
       "      <td>2</td>\n",
       "    </tr>\n",
       "    <tr>\n",
       "      <th>TIENDA JARDINES DE LLANOGRANDE</th>\n",
       "      <td>6408687.0</td>\n",
       "      <td>0.631915</td>\n",
       "      <td>12.913040</td>\n",
       "      <td>0.669424</td>\n",
       "      <td>9573429.0</td>\n",
       "      <td>297</td>\n",
       "      <td>3.164742e+06</td>\n",
       "      <td>2</td>\n",
       "    </tr>\n",
       "    <tr>\n",
       "      <th>TIENDA PLAZA CLARO</th>\n",
       "      <td>7270422.0</td>\n",
       "      <td>0.556745</td>\n",
       "      <td>11.304350</td>\n",
       "      <td>0.669736</td>\n",
       "      <td>10855655.0</td>\n",
       "      <td>260</td>\n",
       "      <td>3.585234e+06</td>\n",
       "      <td>2</td>\n",
       "    </tr>\n",
       "    <tr>\n",
       "      <th>CARIBE PLAZA CARTAGENA</th>\n",
       "      <td>7035953.0</td>\n",
       "      <td>0.558763</td>\n",
       "      <td>11.782610</td>\n",
       "      <td>0.682580</td>\n",
       "      <td>10307882.0</td>\n",
       "      <td>271</td>\n",
       "      <td>3.271930e+06</td>\n",
       "      <td>2</td>\n",
       "    </tr>\n",
       "    <tr>\n",
       "      <th>TIENDA NUESTRA URABA</th>\n",
       "      <td>6509625.0</td>\n",
       "      <td>0.561818</td>\n",
       "      <td>14.045450</td>\n",
       "      <td>0.672409</td>\n",
       "      <td>9681050.0</td>\n",
       "      <td>309</td>\n",
       "      <td>3.171425e+06</td>\n",
       "      <td>2</td>\n",
       "    </tr>\n",
       "    <tr>\n",
       "      <th>TIENDA DIVERPLAZA BOGOTÁ</th>\n",
       "      <td>7165455.0</td>\n",
       "      <td>0.562092</td>\n",
       "      <td>11.217390</td>\n",
       "      <td>0.671817</td>\n",
       "      <td>10665782.0</td>\n",
       "      <td>258</td>\n",
       "      <td>3.500327e+06</td>\n",
       "      <td>2</td>\n",
       "    </tr>\n",
       "    <tr>\n",
       "      <th>BUENAVISTA BARRANQUILLA</th>\n",
       "      <td>6945189.0</td>\n",
       "      <td>0.550098</td>\n",
       "      <td>12.173910</td>\n",
       "      <td>0.671257</td>\n",
       "      <td>10346546.0</td>\n",
       "      <td>280</td>\n",
       "      <td>3.401357e+06</td>\n",
       "      <td>2</td>\n",
       "    </tr>\n",
       "    <tr>\n",
       "      <th>TIENDA ECOPLAZA BOGOTA</th>\n",
       "      <td>6659559.0</td>\n",
       "      <td>0.602410</td>\n",
       "      <td>10.869570</td>\n",
       "      <td>0.669422</td>\n",
       "      <td>9948218.0</td>\n",
       "      <td>250</td>\n",
       "      <td>3.288659e+06</td>\n",
       "      <td>2</td>\n",
       "    </tr>\n",
       "    <tr>\n",
       "      <th>OCAÑA</th>\n",
       "      <td>6203702.0</td>\n",
       "      <td>0.606742</td>\n",
       "      <td>11.739130</td>\n",
       "      <td>0.671339</td>\n",
       "      <td>9240790.0</td>\n",
       "      <td>270</td>\n",
       "      <td>3.037088e+06</td>\n",
       "      <td>2</td>\n",
       "    </tr>\n",
       "    <tr>\n",
       "      <th>CACIQUE BUCARAMANGA</th>\n",
       "      <td>6880022.0</td>\n",
       "      <td>0.525424</td>\n",
       "      <td>10.782610</td>\n",
       "      <td>0.676832</td>\n",
       "      <td>10165042.0</td>\n",
       "      <td>248</td>\n",
       "      <td>3.285020e+06</td>\n",
       "      <td>2</td>\n",
       "    </tr>\n",
       "    <tr>\n",
       "      <th>TIENDA  SAN ANDRES  2</th>\n",
       "      <td>6721203.0</td>\n",
       "      <td>0.520576</td>\n",
       "      <td>11.000000</td>\n",
       "      <td>0.669848</td>\n",
       "      <td>10033924.0</td>\n",
       "      <td>253</td>\n",
       "      <td>3.312722e+06</td>\n",
       "      <td>2</td>\n",
       "    </tr>\n",
       "    <tr>\n",
       "      <th>TIENDA VIVA LA CEJA</th>\n",
       "      <td>6760108.0</td>\n",
       "      <td>0.536993</td>\n",
       "      <td>9.782609</td>\n",
       "      <td>0.678957</td>\n",
       "      <td>9956613.0</td>\n",
       "      <td>225</td>\n",
       "      <td>3.196505e+06</td>\n",
       "      <td>2</td>\n",
       "    </tr>\n",
       "    <tr>\n",
       "      <th>OFFCORSS PASTO</th>\n",
       "      <td>6282146.0</td>\n",
       "      <td>0.592405</td>\n",
       "      <td>10.173910</td>\n",
       "      <td>0.681189</td>\n",
       "      <td>9222328.0</td>\n",
       "      <td>234</td>\n",
       "      <td>2.940182e+06</td>\n",
       "      <td>2</td>\n",
       "    </tr>\n",
       "    <tr>\n",
       "      <th>TIENDA UNICENTRO BOGOTÁ</th>\n",
       "      <td>4699890.0</td>\n",
       "      <td>0.649733</td>\n",
       "      <td>18.692310</td>\n",
       "      <td>0.669088</td>\n",
       "      <td>7024319.0</td>\n",
       "      <td>243</td>\n",
       "      <td>2.324429e+06</td>\n",
       "      <td>2</td>\n",
       "    </tr>\n",
       "    <tr>\n",
       "      <th>OFFCORSS ALCARAVAN</th>\n",
       "      <td>6104293.0</td>\n",
       "      <td>0.563636</td>\n",
       "      <td>10.782610</td>\n",
       "      <td>0.673315</td>\n",
       "      <td>9066025.0</td>\n",
       "      <td>248</td>\n",
       "      <td>2.961732e+06</td>\n",
       "      <td>2</td>\n",
       "    </tr>\n",
       "    <tr>\n",
       "      <th>MEGAMALL BUCARAMANGA</th>\n",
       "      <td>6440858.0</td>\n",
       "      <td>0.547264</td>\n",
       "      <td>9.565217</td>\n",
       "      <td>0.685535</td>\n",
       "      <td>9395370.0</td>\n",
       "      <td>220</td>\n",
       "      <td>2.954512e+06</td>\n",
       "      <td>2</td>\n",
       "    </tr>\n",
       "    <tr>\n",
       "      <th>SAN PEDRO PLAZA NEIVA</th>\n",
       "      <td>6345663.0</td>\n",
       "      <td>0.540201</td>\n",
       "      <td>9.772727</td>\n",
       "      <td>0.683592</td>\n",
       "      <td>9282815.0</td>\n",
       "      <td>215</td>\n",
       "      <td>2.937153e+06</td>\n",
       "      <td>2</td>\n",
       "    </tr>\n",
       "    <tr>\n",
       "      <th>VIVA WAJIRA</th>\n",
       "      <td>6232188.0</td>\n",
       "      <td>0.494530</td>\n",
       "      <td>11.300000</td>\n",
       "      <td>0.680109</td>\n",
       "      <td>9163513.0</td>\n",
       "      <td>226</td>\n",
       "      <td>2.931325e+06</td>\n",
       "      <td>2</td>\n",
       "    </tr>\n",
       "    <tr>\n",
       "      <th>TIENDA TINTAL</th>\n",
       "      <td>6735442.0</td>\n",
       "      <td>0.478873</td>\n",
       "      <td>8.869565</td>\n",
       "      <td>0.669694</td>\n",
       "      <td>10057487.0</td>\n",
       "      <td>204</td>\n",
       "      <td>3.322045e+06</td>\n",
       "      <td>2</td>\n",
       "    </tr>\n",
       "    <tr>\n",
       "      <th>UNICENTRO CUCUTA</th>\n",
       "      <td>6326724.0</td>\n",
       "      <td>0.503546</td>\n",
       "      <td>9.260870</td>\n",
       "      <td>0.682293</td>\n",
       "      <td>9272739.0</td>\n",
       "      <td>213</td>\n",
       "      <td>2.946015e+06</td>\n",
       "      <td>2</td>\n",
       "    </tr>\n",
       "    <tr>\n",
       "      <th>TIENDA PASEO VILLA DEL RIO</th>\n",
       "      <td>6757415.0</td>\n",
       "      <td>0.466667</td>\n",
       "      <td>8.217391</td>\n",
       "      <td>0.677425</td>\n",
       "      <td>9975143.0</td>\n",
       "      <td>189</td>\n",
       "      <td>3.217727e+06</td>\n",
       "      <td>2</td>\n",
       "    </tr>\n",
       "    <tr>\n",
       "      <th>SAN SILVESTRE BARRANCABERMEJA</th>\n",
       "      <td>5913082.0</td>\n",
       "      <td>0.567867</td>\n",
       "      <td>8.913043</td>\n",
       "      <td>0.681926</td>\n",
       "      <td>8671151.0</td>\n",
       "      <td>205</td>\n",
       "      <td>2.758070e+06</td>\n",
       "      <td>2</td>\n",
       "    </tr>\n",
       "    <tr>\n",
       "      <th>MULTICENTRO IBAGUE</th>\n",
       "      <td>5874685.0</td>\n",
       "      <td>0.543011</td>\n",
       "      <td>8.782609</td>\n",
       "      <td>0.686548</td>\n",
       "      <td>8556849.0</td>\n",
       "      <td>202</td>\n",
       "      <td>2.682164e+06</td>\n",
       "      <td>2</td>\n",
       "    </tr>\n",
       "    <tr>\n",
       "      <th>LA CASTELLANA CARTAGENA</th>\n",
       "      <td>6037696.0</td>\n",
       "      <td>0.466523</td>\n",
       "      <td>9.391304</td>\n",
       "      <td>0.678036</td>\n",
       "      <td>8904689.0</td>\n",
       "      <td>216</td>\n",
       "      <td>2.866993e+06</td>\n",
       "      <td>2</td>\n",
       "    </tr>\n",
       "    <tr>\n",
       "      <th>TIENDA PLAZA DE LAS AMERICAS</th>\n",
       "      <td>5628744.0</td>\n",
       "      <td>0.575668</td>\n",
       "      <td>8.434783</td>\n",
       "      <td>0.681635</td>\n",
       "      <td>8257706.0</td>\n",
       "      <td>194</td>\n",
       "      <td>2.628962e+06</td>\n",
       "      <td>2</td>\n",
       "    </tr>\n",
       "    <tr>\n",
       "      <th>MAYALES VALLEDUPAR</th>\n",
       "      <td>6366039.0</td>\n",
       "      <td>0.386574</td>\n",
       "      <td>7.260870</td>\n",
       "      <td>0.673833</td>\n",
       "      <td>9447496.0</td>\n",
       "      <td>167</td>\n",
       "      <td>3.081457e+06</td>\n",
       "      <td>2</td>\n",
       "    </tr>\n",
       "    <tr>\n",
       "      <th>GUATAPURI VALLEDUPAR</th>\n",
       "      <td>5790196.0</td>\n",
       "      <td>0.444444</td>\n",
       "      <td>8.000000</td>\n",
       "      <td>0.683248</td>\n",
       "      <td>8474513.0</td>\n",
       "      <td>176</td>\n",
       "      <td>2.684317e+06</td>\n",
       "      <td>2</td>\n",
       "    </tr>\n",
       "    <tr>\n",
       "      <th>TIENDA GRAN PLAZA IPIALES</th>\n",
       "      <td>5884907.0</td>\n",
       "      <td>0.434783</td>\n",
       "      <td>7.391304</td>\n",
       "      <td>0.688013</td>\n",
       "      <td>8553479.0</td>\n",
       "      <td>170</td>\n",
       "      <td>2.668572e+06</td>\n",
       "      <td>2</td>\n",
       "    </tr>\n",
       "    <tr>\n",
       "      <th>TIENDA GUACARI</th>\n",
       "      <td>5461437.0</td>\n",
       "      <td>0.478510</td>\n",
       "      <td>7.260870</td>\n",
       "      <td>0.679060</td>\n",
       "      <td>8042647.0</td>\n",
       "      <td>167</td>\n",
       "      <td>2.581210e+06</td>\n",
       "      <td>2</td>\n",
       "    </tr>\n",
       "    <tr>\n",
       "      <th>OFFCORSS SOGAMOSO</th>\n",
       "      <td>5209178.0</td>\n",
       "      <td>0.493289</td>\n",
       "      <td>6.681818</td>\n",
       "      <td>0.680390</td>\n",
       "      <td>7656160.0</td>\n",
       "      <td>147</td>\n",
       "      <td>2.446982e+06</td>\n",
       "      <td>2</td>\n",
       "    </tr>\n",
       "    <tr>\n",
       "      <th>OFFCORSS AGUACHICA</th>\n",
       "      <td>5291279.0</td>\n",
       "      <td>0.416667</td>\n",
       "      <td>7.000000</td>\n",
       "      <td>0.679774</td>\n",
       "      <td>7783882.0</td>\n",
       "      <td>140</td>\n",
       "      <td>2.492604e+06</td>\n",
       "      <td>2</td>\n",
       "    </tr>\n",
       "    <tr>\n",
       "      <th>OFFCORSS ARAUCA</th>\n",
       "      <td>5049542.0</td>\n",
       "      <td>0.464052</td>\n",
       "      <td>6.173913</td>\n",
       "      <td>0.671333</td>\n",
       "      <td>7521664.0</td>\n",
       "      <td>142</td>\n",
       "      <td>2.472122e+06</td>\n",
       "      <td>2</td>\n",
       "    </tr>\n",
       "    <tr>\n",
       "      <th>BUENAVISTA MONTERIA</th>\n",
       "      <td>5812760.0</td>\n",
       "      <td>0.329298</td>\n",
       "      <td>6.181818</td>\n",
       "      <td>0.676918</td>\n",
       "      <td>8587101.0</td>\n",
       "      <td>136</td>\n",
       "      <td>2.774341e+06</td>\n",
       "      <td>2</td>\n",
       "    </tr>\n",
       "    <tr>\n",
       "      <th>DUITAMA BOYACA</th>\n",
       "      <td>4644666.0</td>\n",
       "      <td>0.484663</td>\n",
       "      <td>7.181818</td>\n",
       "      <td>0.670209</td>\n",
       "      <td>6930176.0</td>\n",
       "      <td>158</td>\n",
       "      <td>2.285510e+06</td>\n",
       "      <td>2</td>\n",
       "    </tr>\n",
       "    <tr>\n",
       "      <th>BUENAVISTA SANTA MARTA</th>\n",
       "      <td>5026508.0</td>\n",
       "      <td>0.416185</td>\n",
       "      <td>7.200000</td>\n",
       "      <td>0.690322</td>\n",
       "      <td>7281395.0</td>\n",
       "      <td>144</td>\n",
       "      <td>2.254887e+06</td>\n",
       "      <td>2</td>\n",
       "    </tr>\n",
       "    <tr>\n",
       "      <th>TIENDA FUSAGASUGA</th>\n",
       "      <td>4036948.0</td>\n",
       "      <td>0.495050</td>\n",
       "      <td>9.375000</td>\n",
       "      <td>0.664720</td>\n",
       "      <td>6073160.0</td>\n",
       "      <td>150</td>\n",
       "      <td>2.036212e+06</td>\n",
       "      <td>2</td>\n",
       "    </tr>\n",
       "    <tr>\n",
       "      <th>OFFCORSS VIVA  TUNJA</th>\n",
       "      <td>4743261.0</td>\n",
       "      <td>0.397351</td>\n",
       "      <td>6.000000</td>\n",
       "      <td>0.677536</td>\n",
       "      <td>7000756.0</td>\n",
       "      <td>120</td>\n",
       "      <td>2.257495e+06</td>\n",
       "      <td>2</td>\n",
       "    </tr>\n",
       "    <tr>\n",
       "      <th>PORTAL DE PRADO BARRANQUILLA</th>\n",
       "      <td>4336159.0</td>\n",
       "      <td>0.274448</td>\n",
       "      <td>4.833333</td>\n",
       "      <td>0.667101</td>\n",
       "      <td>6500008.0</td>\n",
       "      <td>87</td>\n",
       "      <td>2.163850e+06</td>\n",
       "      <td>2</td>\n",
       "    </tr>\n",
       "    <tr>\n",
       "      <th>TIENDA PARQUE ALEGRA</th>\n",
       "      <td>3854046.0</td>\n",
       "      <td>0.318792</td>\n",
       "      <td>4.750000</td>\n",
       "      <td>0.660555</td>\n",
       "      <td>5834555.0</td>\n",
       "      <td>95</td>\n",
       "      <td>1.980509e+06</td>\n",
       "      <td>2</td>\n",
       "    </tr>\n",
       "  </tbody>\n",
       "</table>\n",
       "</div>"
      ],
      "text/plain": [
       "                                CONTRIBUCION  ROTACION  VENTA_POR_MES  \\\n",
       "PUNTO_VENTA                                                             \n",
       "TIENDA PORTAL 80                   7556531.0  0.639442      13.956520   \n",
       "TIENDA SANTAFÉ BOGOTÁ              7812028.0  0.603960      13.863640   \n",
       "TIENDA LLANOGRANDE PLAZA           7272163.0  0.634578      14.681820   \n",
       "FUNDADORES MANIZALES               7384507.0  0.647059      13.391300   \n",
       "PITALITO HUILA                     7061022.0  0.624733      12.739130   \n",
       "PARQUE CARACOLI                    6951754.0  0.594320      12.739130   \n",
       "TIENDA HAYUELOS                    6932348.0  0.597107      12.565220   \n",
       "TIENDA NUESTRO CARTAGO             7019851.0  0.607539      11.913040   \n",
       "GRAN PLAZA FLORENCIA               7102081.0  0.592998      11.782610   \n",
       "TIENDA JARDINES DE LLANOGRANDE     6408687.0  0.631915      12.913040   \n",
       "TIENDA PLAZA CLARO                 7270422.0  0.556745      11.304350   \n",
       "CARIBE PLAZA CARTAGENA             7035953.0  0.558763      11.782610   \n",
       "TIENDA NUESTRA URABA               6509625.0  0.561818      14.045450   \n",
       "TIENDA DIVERPLAZA BOGOTÁ           7165455.0  0.562092      11.217390   \n",
       "BUENAVISTA BARRANQUILLA            6945189.0  0.550098      12.173910   \n",
       "TIENDA ECOPLAZA BOGOTA             6659559.0  0.602410      10.869570   \n",
       "OCAÑA                              6203702.0  0.606742      11.739130   \n",
       "CACIQUE BUCARAMANGA                6880022.0  0.525424      10.782610   \n",
       "TIENDA  SAN ANDRES  2              6721203.0  0.520576      11.000000   \n",
       "TIENDA VIVA LA CEJA                6760108.0  0.536993       9.782609   \n",
       "OFFCORSS PASTO                     6282146.0  0.592405      10.173910   \n",
       "TIENDA UNICENTRO BOGOTÁ            4699890.0  0.649733      18.692310   \n",
       "OFFCORSS ALCARAVAN                 6104293.0  0.563636      10.782610   \n",
       "MEGAMALL BUCARAMANGA               6440858.0  0.547264       9.565217   \n",
       "SAN PEDRO PLAZA NEIVA              6345663.0  0.540201       9.772727   \n",
       "VIVA WAJIRA                        6232188.0  0.494530      11.300000   \n",
       "TIENDA TINTAL                      6735442.0  0.478873       8.869565   \n",
       "UNICENTRO CUCUTA                   6326724.0  0.503546       9.260870   \n",
       "TIENDA PASEO VILLA DEL RIO         6757415.0  0.466667       8.217391   \n",
       "SAN SILVESTRE BARRANCABERMEJA      5913082.0  0.567867       8.913043   \n",
       "MULTICENTRO IBAGUE                 5874685.0  0.543011       8.782609   \n",
       "LA CASTELLANA CARTAGENA            6037696.0  0.466523       9.391304   \n",
       "TIENDA PLAZA DE LAS AMERICAS       5628744.0  0.575668       8.434783   \n",
       "MAYALES VALLEDUPAR                 6366039.0  0.386574       7.260870   \n",
       "GUATAPURI VALLEDUPAR               5790196.0  0.444444       8.000000   \n",
       "TIENDA GRAN PLAZA IPIALES          5884907.0  0.434783       7.391304   \n",
       "TIENDA GUACARI                     5461437.0  0.478510       7.260870   \n",
       "OFFCORSS SOGAMOSO                  5209178.0  0.493289       6.681818   \n",
       "OFFCORSS AGUACHICA                 5291279.0  0.416667       7.000000   \n",
       "OFFCORSS ARAUCA                    5049542.0  0.464052       6.173913   \n",
       "BUENAVISTA MONTERIA                5812760.0  0.329298       6.181818   \n",
       "DUITAMA BOYACA                     4644666.0  0.484663       7.181818   \n",
       "BUENAVISTA SANTA MARTA             5026508.0  0.416185       7.200000   \n",
       "TIENDA FUSAGASUGA                  4036948.0  0.495050       9.375000   \n",
       "OFFCORSS VIVA  TUNJA               4743261.0  0.397351       6.000000   \n",
       "PORTAL DE PRADO BARRANQUILLA       4336159.0  0.274448       4.833333   \n",
       "TIENDA PARQUE ALEGRA               3854046.0  0.318792       4.750000   \n",
       "\n",
       "                                  MARGEN  VENTA_PESOS  VENTA_UNDS  \\\n",
       "PUNTO_VENTA                                                         \n",
       "TIENDA PORTAL 80                0.682256   11075798.0         321   \n",
       "TIENDA SANTAFÉ BOGOTÁ           0.675204   11569874.0         305   \n",
       "TIENDA LLANOGRANDE PLAZA        0.674279   10785092.0         323   \n",
       "FUNDADORES MANIZALES            0.682567   10818723.0         308   \n",
       "PITALITO HUILA                  0.678705   10403664.0         293   \n",
       "PARQUE CARACOLI                 0.686499   10126387.0         293   \n",
       "TIENDA HAYUELOS                 0.675174   10267504.0         289   \n",
       "TIENDA NUESTRO CARTAGO          0.672468   10438941.0         274   \n",
       "GRAN PLAZA FLORENCIA            0.678380   10469176.0         271   \n",
       "TIENDA JARDINES DE LLANOGRANDE  0.669424    9573429.0         297   \n",
       "TIENDA PLAZA CLARO              0.669736   10855655.0         260   \n",
       "CARIBE PLAZA CARTAGENA          0.682580   10307882.0         271   \n",
       "TIENDA NUESTRA URABA            0.672409    9681050.0         309   \n",
       "TIENDA DIVERPLAZA BOGOTÁ        0.671817   10665782.0         258   \n",
       "BUENAVISTA BARRANQUILLA         0.671257   10346546.0         280   \n",
       "TIENDA ECOPLAZA BOGOTA          0.669422    9948218.0         250   \n",
       "OCAÑA                           0.671339    9240790.0         270   \n",
       "CACIQUE BUCARAMANGA             0.676832   10165042.0         248   \n",
       "TIENDA  SAN ANDRES  2           0.669848   10033924.0         253   \n",
       "TIENDA VIVA LA CEJA             0.678957    9956613.0         225   \n",
       "OFFCORSS PASTO                  0.681189    9222328.0         234   \n",
       "TIENDA UNICENTRO BOGOTÁ         0.669088    7024319.0         243   \n",
       "OFFCORSS ALCARAVAN              0.673315    9066025.0         248   \n",
       "MEGAMALL BUCARAMANGA            0.685535    9395370.0         220   \n",
       "SAN PEDRO PLAZA NEIVA           0.683592    9282815.0         215   \n",
       "VIVA WAJIRA                     0.680109    9163513.0         226   \n",
       "TIENDA TINTAL                   0.669694   10057487.0         204   \n",
       "UNICENTRO CUCUTA                0.682293    9272739.0         213   \n",
       "TIENDA PASEO VILLA DEL RIO      0.677425    9975143.0         189   \n",
       "SAN SILVESTRE BARRANCABERMEJA   0.681926    8671151.0         205   \n",
       "MULTICENTRO IBAGUE              0.686548    8556849.0         202   \n",
       "LA CASTELLANA CARTAGENA         0.678036    8904689.0         216   \n",
       "TIENDA PLAZA DE LAS AMERICAS    0.681635    8257706.0         194   \n",
       "MAYALES VALLEDUPAR              0.673833    9447496.0         167   \n",
       "GUATAPURI VALLEDUPAR            0.683248    8474513.0         176   \n",
       "TIENDA GRAN PLAZA IPIALES       0.688013    8553479.0         170   \n",
       "TIENDA GUACARI                  0.679060    8042647.0         167   \n",
       "OFFCORSS SOGAMOSO               0.680390    7656160.0         147   \n",
       "OFFCORSS AGUACHICA              0.679774    7783882.0         140   \n",
       "OFFCORSS ARAUCA                 0.671333    7521664.0         142   \n",
       "BUENAVISTA MONTERIA             0.676918    8587101.0         136   \n",
       "DUITAMA BOYACA                  0.670209    6930176.0         158   \n",
       "BUENAVISTA SANTA MARTA          0.690322    7281395.0         144   \n",
       "TIENDA FUSAGASUGA               0.664720    6073160.0         150   \n",
       "OFFCORSS VIVA  TUNJA            0.677536    7000756.0         120   \n",
       "PORTAL DE PRADO BARRANQUILLA    0.667101    6500008.0          87   \n",
       "TIENDA PARQUE ALEGRA            0.660555    5834555.0          95   \n",
       "\n",
       "                                       COSTO  cluster_kmeans  \n",
       "PUNTO_VENTA                                                   \n",
       "TIENDA PORTAL 80                3.519268e+06               2  \n",
       "TIENDA SANTAFÉ BOGOTÁ           3.757846e+06               2  \n",
       "TIENDA LLANOGRANDE PLAZA        3.512930e+06               2  \n",
       "FUNDADORES MANIZALES            3.434216e+06               2  \n",
       "PITALITO HUILA                  3.342642e+06               2  \n",
       "PARQUE CARACOLI                 3.174632e+06               2  \n",
       "TIENDA HAYUELOS                 3.335156e+06               2  \n",
       "TIENDA NUESTRO CARTAGO          3.419090e+06               2  \n",
       "GRAN PLAZA FLORENCIA            3.367095e+06               2  \n",
       "TIENDA JARDINES DE LLANOGRANDE  3.164742e+06               2  \n",
       "TIENDA PLAZA CLARO              3.585234e+06               2  \n",
       "CARIBE PLAZA CARTAGENA          3.271930e+06               2  \n",
       "TIENDA NUESTRA URABA            3.171425e+06               2  \n",
       "TIENDA DIVERPLAZA BOGOTÁ        3.500327e+06               2  \n",
       "BUENAVISTA BARRANQUILLA         3.401357e+06               2  \n",
       "TIENDA ECOPLAZA BOGOTA          3.288659e+06               2  \n",
       "OCAÑA                           3.037088e+06               2  \n",
       "CACIQUE BUCARAMANGA             3.285020e+06               2  \n",
       "TIENDA  SAN ANDRES  2           3.312722e+06               2  \n",
       "TIENDA VIVA LA CEJA             3.196505e+06               2  \n",
       "OFFCORSS PASTO                  2.940182e+06               2  \n",
       "TIENDA UNICENTRO BOGOTÁ         2.324429e+06               2  \n",
       "OFFCORSS ALCARAVAN              2.961732e+06               2  \n",
       "MEGAMALL BUCARAMANGA            2.954512e+06               2  \n",
       "SAN PEDRO PLAZA NEIVA           2.937153e+06               2  \n",
       "VIVA WAJIRA                     2.931325e+06               2  \n",
       "TIENDA TINTAL                   3.322045e+06               2  \n",
       "UNICENTRO CUCUTA                2.946015e+06               2  \n",
       "TIENDA PASEO VILLA DEL RIO      3.217727e+06               2  \n",
       "SAN SILVESTRE BARRANCABERMEJA   2.758070e+06               2  \n",
       "MULTICENTRO IBAGUE              2.682164e+06               2  \n",
       "LA CASTELLANA CARTAGENA         2.866993e+06               2  \n",
       "TIENDA PLAZA DE LAS AMERICAS    2.628962e+06               2  \n",
       "MAYALES VALLEDUPAR              3.081457e+06               2  \n",
       "GUATAPURI VALLEDUPAR            2.684317e+06               2  \n",
       "TIENDA GRAN PLAZA IPIALES       2.668572e+06               2  \n",
       "TIENDA GUACARI                  2.581210e+06               2  \n",
       "OFFCORSS SOGAMOSO               2.446982e+06               2  \n",
       "OFFCORSS AGUACHICA              2.492604e+06               2  \n",
       "OFFCORSS ARAUCA                 2.472122e+06               2  \n",
       "BUENAVISTA MONTERIA             2.774341e+06               2  \n",
       "DUITAMA BOYACA                  2.285510e+06               2  \n",
       "BUENAVISTA SANTA MARTA          2.254887e+06               2  \n",
       "TIENDA FUSAGASUGA               2.036212e+06               2  \n",
       "OFFCORSS VIVA  TUNJA            2.257495e+06               2  \n",
       "PORTAL DE PRADO BARRANQUILLA    2.163850e+06               2  \n",
       "TIENDA PARQUE ALEGRA            1.980509e+06               2  "
      ]
     },
     "execution_count": 72,
     "metadata": {},
     "output_type": "execute_result"
    }
   ],
   "source": [
    "df[df['cluster_kmeans'] == 2]"
   ]
  },
  {
   "cell_type": "markdown",
   "metadata": {},
   "source": [
    "### KMEANS BALANCEADO\n",
    "Se dice balanceado porque se determina un minimo y máximo de clusters por definir"
   ]
  },
  {
   "cell_type": "code",
   "execution_count": null,
   "metadata": {},
   "outputs": [],
   "source": [
    "from k_means_constrained import KMeansConstrained"
   ]
  },
  {
   "cell_type": "code",
   "execution_count": null,
   "metadata": {},
   "outputs": [
    {
     "data": {
      "image/png": "[encoded data removed]",
      "text/plain": [
       "<Figure size 1000x600 with 1 Axes>"
      ]
     },
     "metadata": {},
     "output_type": "display_data"
    }
   ],
   "source": [
    "features = ['CONTRIBUCION', 'ROTACION', 'VENTA_POR_MES', 'MARGEN', 'VENTA_PESOS', 'VENTA_UNDS']\n",
    "\n",
    "x = df[features]\n",
    "scaler = StandardScaler()\n",
    "x_scaled = scaler.fit_transform(x)\n",
    "\n",
    "# Número de clusters y tamaño mínimo y máximo de cada cluster\n",
    "n_clusters = 4\n",
    "min_size = len(df) // n_clusters\n",
    "max_size = len(df) // n_clusters + (len(df) % n_clusters > 0)\n",
    "\n",
    "# Aplicar KMeans balanceado para crear 4 clusters\n",
    "kmeans_constrained = KMeansConstrained(\n",
    "    n_clusters=n_clusters,\n",
    "    size_min=min_size,\n",
    "    size_max=max_size,\n",
    "    random_state=42\n",
    ")\n",
    "\n",
    "df['Cluster_kmeans_contrained'] = kmeans_constrained.fit_predict(x_scaled)\n",
    "\n",
    "# # Visualización de los clusters\n",
    "plt.figure(figsize=(10, 6))\n",
    "sns.scatterplot(x='VENTA_UNDS', y='VENTA_POR_MES', hue='Cluster_kmeans_contrained', data=df, palette='viridis')\n",
    "plt.title('Clusters de Puntos de Venta Balanceados')\n",
    "plt.xlabel('Contribución')\n",
    "plt.ylabel('Venta por Mes')\n",
    "plt.legend()\n",
    "plt.show()\n",
    "\n",
    "# # Identificación de los mejores y peores clusters\n",
    "# df['Score_kmeans_constrained'] = df['CONTRIBUCION'] + df['ROTACION'] + df['VENTA_POR_MES'] + df['MARGEN'] + df['VENTA_PESOS'] + df['VENTA_UNDS']\n",
    "# # df['Score'] =  df['VENTA_UNDS']\n",
    "\n",
    "# cluster_scores = df.groupby('Cluster')['Score'].mean().sort_values(ascending=False)\n",
    "# print(cluster_scores)"
   ]
  },
  {
   "cell_type": "code",
   "execution_count": null,
   "metadata": {},
   "outputs": [
    {
     "data": {
      "image/png": "[encoded data removed]",
      "text/plain": [
       "<Figure size 1000x600 with 1 Axes>"
      ]
     },
     "metadata": {},
     "output_type": "display_data"
    }
   ],
   "source": [
    "# # Visualización de los clusters\n",
    "plt.figure(figsize=(10, 6))\n",
    "sns.scatterplot(x='VENTA_UNDS', y='VENTA_POR_MES', hue='Cluster_kmeans_contrained', data=df, palette='viridis')\n",
    "plt.title('Clusters de Puntos de Venta Balanceados')\n",
    "plt.xlabel('Contribución')\n",
    "plt.ylabel('Venta por Mes')\n",
    "plt.legend()\n",
    "plt.show()"
   ]
  },
  {
   "cell_type": "markdown",
   "metadata": {},
   "source": [
    "### MODELOS AGLOMERACIÓN, DBSCAN, HDBSCAN"
   ]
  },
  {
   "cell_type": "code",
   "execution_count": null,
   "metadata": {},
   "outputs": [],
   "source": [
    "import pandas as pd\n",
    "from sklearn.preprocessing import StandardScaler\n",
    "from sklearn.cluster import AgglomerativeClustering, DBSCAN\n",
    "import hdbscan"
   ]
  },
  {
   "cell_type": "code",
   "execution_count": null,
   "metadata": {},
   "outputs": [],
   "source": [
    "# Paso 1: Preprocesar los datos\n",
    "def preprocesar_datos(datos):\n",
    "    # Eliminar filas con valores nulos\n",
    "    datos = datos.dropna()\n",
    "    \n",
    "    # Seleccionar las columnas relevantes para el clustering\n",
    "    # Suponiendo que todas las columnas excepto la primera (ID o nombre) son relevantes\n",
    "    datos_relevantes = datos.iloc[:, 1:]\n",
    "    \n",
    "    # Escalar los datos para que se encuentren en el mismo rango de 0 a 1 \n",
    "    scaler = StandardScaler()\n",
    "    datos_escalados = scaler.fit_transform(datos_relevantes)\n",
    "    \n",
    "    return datos_escalados"
   ]
  },
  {
   "cell_type": "code",
   "execution_count": null,
   "metadata": {},
   "outputs": [],
   "source": [
    "# Paso 2: Aplicar técnicas de clustering\n",
    "def aplicar_clustering(datos_escalados):\n",
    "    \n",
    "    # Clustering aglomerativo\n",
    "    agglomerative_clustering = AgglomerativeClustering(n_clusters=4, linkage='ward')\n",
    "    clusters_aglomerativos = agglomerative_clustering.fit_predict(datos_escalados)\n",
    "    \n",
    "    # DBSCAN\n",
    "    dbscan = DBSCAN(eps=0.5, min_samples=5) # eps distance between 2 points\n",
    "    clusters_dbscan = dbscan.fit_predict(datos_escalados)\n",
    "    \n",
    "    # HDBSCAN\n",
    "    hdbscan_clustering = hdbscan.HDBSCAN(min_cluster_size=10, min_samples=2)\n",
    "    clusters_hdbscan = hdbscan_clustering.fit_predict(datos_escalados)\n",
    "    \n",
    "    return clusters_aglomerativos, clusters_dbscan, clusters_hdbscan\n"
   ]
  },
  {
   "cell_type": "code",
   "execution_count": null,
   "metadata": {},
   "outputs": [],
   "source": [
    "# Paso 4: Guardar los resultados en un archivo CSV\n",
    "def guardar_resultados(datos_originales, clusters_aglomerativos, clusters_dbscan, clusters_hdbscan):\n",
    "    \n",
    "    datos_originales['Cluster_Aglomerativo'] = clusters_aglomerativos\n",
    "    datos_originales['Cluster_DBSCAN'] = clusters_dbscan\n",
    "    datos_originales['Cluster_HDBSCAN'] = clusters_hdbscan\n",
    "    \n",
    "    # datos_originales.to_csv(archivo_salida, index=False)\n",
    "    return datos_originales"
   ]
  },
  {
   "cell_type": "code",
   "execution_count": null,
   "metadata": {},
   "outputs": [],
   "source": [
    "datos_escalados = preprocesar_datos(df)\n",
    "\n",
    "clusters_aglomerativos, clusters_dbscan, clusters_hdbscan = aplicar_clustering(datos_escalados)\n",
    "\n",
    "resultado_modelos_jerarquicos = guardar_resultados(df, clusters_aglomerativos, clusters_dbscan, clusters_hdbscan)\n"
   ]
  },
  {
   "cell_type": "code",
   "execution_count": null,
   "metadata": {},
   "outputs": [
    {
     "data": {
      "text/html": [
       "<div>\n",
       "<style scoped>\n",
       "    .dataframe tbody tr th:only-of-type {\n",
       "        vertical-align: middle;\n",
       "    }\n",
       "\n",
       "    .dataframe tbody tr th {\n",
       "        vertical-align: top;\n",
       "    }\n",
       "\n",
       "    .dataframe thead th {\n",
       "        text-align: right;\n",
       "    }\n",
       "</style>\n",
       "<table border=\"1\" class=\"dataframe\">\n",
       "  <thead>\n",
       "    <tr style=\"text-align: right;\">\n",
       "      <th></th>\n",
       "      <th>CONTRIBUCION</th>\n",
       "      <th>ROTACION</th>\n",
       "      <th>VENTA_POR_MES</th>\n",
       "      <th>MARGEN</th>\n",
       "      <th>VENTA_PESOS</th>\n",
       "      <th>VENTA_UNDS</th>\n",
       "      <th>COSTO</th>\n",
       "      <th>cluster_kmeans</th>\n",
       "      <th>Cluster_kmeans_contrained</th>\n",
       "      <th>Cluster_Aglomerativo</th>\n",
       "      <th>Cluster_DBSCAN</th>\n",
       "      <th>Cluster_HDBSCAN</th>\n",
       "    </tr>\n",
       "    <tr>\n",
       "      <th>PUNTO_VENTA</th>\n",
       "      <th></th>\n",
       "      <th></th>\n",
       "      <th></th>\n",
       "      <th></th>\n",
       "      <th></th>\n",
       "      <th></th>\n",
       "      <th></th>\n",
       "      <th></th>\n",
       "      <th></th>\n",
       "      <th></th>\n",
       "      <th></th>\n",
       "      <th></th>\n",
       "    </tr>\n",
       "  </thead>\n",
       "  <tbody>\n",
       "    <tr>\n",
       "      <th>TIENDA EL TESORO</th>\n",
       "      <td>8928663.00</td>\n",
       "      <td>0.883907</td>\n",
       "      <td>48.000000</td>\n",
       "      <td>0.669098</td>\n",
       "      <td>13344319.0</td>\n",
       "      <td>1104</td>\n",
       "      <td>4.415656e+06</td>\n",
       "      <td>1</td>\n",
       "      <td>2</td>\n",
       "      <td>0</td>\n",
       "      <td>-1</td>\n",
       "      <td>-1</td>\n",
       "    </tr>\n",
       "    <tr>\n",
       "      <th>TIENDA JARDIN PLAZA</th>\n",
       "      <td>9116961.00</td>\n",
       "      <td>0.840312</td>\n",
       "      <td>37.521740</td>\n",
       "      <td>0.671537</td>\n",
       "      <td>13576252.0</td>\n",
       "      <td>863</td>\n",
       "      <td>4.459291e+06</td>\n",
       "      <td>1</td>\n",
       "      <td>2</td>\n",
       "      <td>0</td>\n",
       "      <td>-1</td>\n",
       "      <td>1</td>\n",
       "    </tr>\n",
       "    <tr>\n",
       "      <th>TIENDA SANTAFÉ MEDELLIN</th>\n",
       "      <td>8929197.00</td>\n",
       "      <td>0.814645</td>\n",
       "      <td>30.956520</td>\n",
       "      <td>0.674060</td>\n",
       "      <td>13246882.0</td>\n",
       "      <td>712</td>\n",
       "      <td>4.317685e+06</td>\n",
       "      <td>1</td>\n",
       "      <td>2</td>\n",
       "      <td>0</td>\n",
       "      <td>-1</td>\n",
       "      <td>1</td>\n",
       "    </tr>\n",
       "    <tr>\n",
       "      <th>TIENDA CENTRO ANDINO</th>\n",
       "      <td>8637260.00</td>\n",
       "      <td>0.794152</td>\n",
       "      <td>29.521740</td>\n",
       "      <td>0.677368</td>\n",
       "      <td>12751202.0</td>\n",
       "      <td>679</td>\n",
       "      <td>4.113941e+06</td>\n",
       "      <td>1</td>\n",
       "      <td>2</td>\n",
       "      <td>0</td>\n",
       "      <td>-1</td>\n",
       "      <td>1</td>\n",
       "    </tr>\n",
       "    <tr>\n",
       "      <th>TIENDA  VIVA ENVIGADO</th>\n",
       "      <td>8483378.00</td>\n",
       "      <td>0.784764</td>\n",
       "      <td>28.217390</td>\n",
       "      <td>0.674638</td>\n",
       "      <td>12574714.0</td>\n",
       "      <td>649</td>\n",
       "      <td>4.091336e+06</td>\n",
       "      <td>1</td>\n",
       "      <td>2</td>\n",
       "      <td>0</td>\n",
       "      <td>-1</td>\n",
       "      <td>1</td>\n",
       "    </tr>\n",
       "    <tr>\n",
       "      <th>...</th>\n",
       "      <td>...</td>\n",
       "      <td>...</td>\n",
       "      <td>...</td>\n",
       "      <td>...</td>\n",
       "      <td>...</td>\n",
       "      <td>...</td>\n",
       "      <td>...</td>\n",
       "      <td>...</td>\n",
       "      <td>...</td>\n",
       "      <td>...</td>\n",
       "      <td>...</td>\n",
       "      <td>...</td>\n",
       "    </tr>\n",
       "    <tr>\n",
       "      <th>OFFCORSS VILLANUEVA</th>\n",
       "      <td>388322.30</td>\n",
       "      <td>0.187500</td>\n",
       "      <td>9.000000</td>\n",
       "      <td>0.658342</td>\n",
       "      <td>589848.7</td>\n",
       "      <td>9</td>\n",
       "      <td>2.015265e+05</td>\n",
       "      <td>3</td>\n",
       "      <td>1</td>\n",
       "      <td>3</td>\n",
       "      <td>-1</td>\n",
       "      <td>-1</td>\n",
       "    </tr>\n",
       "    <tr>\n",
       "      <th>TIENDA  VIVA LAURELES</th>\n",
       "      <td>134151.30</td>\n",
       "      <td>0.285714</td>\n",
       "      <td>2.000000</td>\n",
       "      <td>0.665222</td>\n",
       "      <td>201663.9</td>\n",
       "      <td>2</td>\n",
       "      <td>6.751254e+04</td>\n",
       "      <td>3</td>\n",
       "      <td>1</td>\n",
       "      <td>3</td>\n",
       "      <td>-1</td>\n",
       "      <td>-1</td>\n",
       "    </tr>\n",
       "    <tr>\n",
       "      <th>TIENDA LA ESTACION</th>\n",
       "      <td>134151.30</td>\n",
       "      <td>0.000000</td>\n",
       "      <td>0.000000</td>\n",
       "      <td>0.665222</td>\n",
       "      <td>201663.9</td>\n",
       "      <td>0</td>\n",
       "      <td>6.751254e+04</td>\n",
       "      <td>3</td>\n",
       "      <td>1</td>\n",
       "      <td>3</td>\n",
       "      <td>-1</td>\n",
       "      <td>-1</td>\n",
       "    </tr>\n",
       "    <tr>\n",
       "      <th>TIENDA LA 14 CALIMA</th>\n",
       "      <td>134151.30</td>\n",
       "      <td>0.000000</td>\n",
       "      <td>0.000000</td>\n",
       "      <td>0.665222</td>\n",
       "      <td>201663.9</td>\n",
       "      <td>0</td>\n",
       "      <td>6.751254e+04</td>\n",
       "      <td>3</td>\n",
       "      <td>1</td>\n",
       "      <td>3</td>\n",
       "      <td>-1</td>\n",
       "      <td>-1</td>\n",
       "    </tr>\n",
       "    <tr>\n",
       "      <th>MARKETPLACE</th>\n",
       "      <td>73667.51</td>\n",
       "      <td>0.000000</td>\n",
       "      <td>1.666667</td>\n",
       "      <td>0.584546</td>\n",
       "      <td>126025.2</td>\n",
       "      <td>5</td>\n",
       "      <td>5.235770e+04</td>\n",
       "      <td>3</td>\n",
       "      <td>1</td>\n",
       "      <td>3</td>\n",
       "      <td>-1</td>\n",
       "      <td>-1</td>\n",
       "    </tr>\n",
       "  </tbody>\n",
       "</table>\n",
       "<p>93 rows × 12 columns</p>\n",
       "</div>"
      ],
      "text/plain": [
       "                         CONTRIBUCION  ROTACION  VENTA_POR_MES    MARGEN  \\\n",
       "PUNTO_VENTA                                                                \n",
       "TIENDA EL TESORO           8928663.00  0.883907      48.000000  0.669098   \n",
       "TIENDA JARDIN PLAZA        9116961.00  0.840312      37.521740  0.671537   \n",
       "TIENDA SANTAFÉ MEDELLIN    8929197.00  0.814645      30.956520  0.674060   \n",
       "TIENDA CENTRO ANDINO       8637260.00  0.794152      29.521740  0.677368   \n",
       "TIENDA  VIVA ENVIGADO      8483378.00  0.784764      28.217390  0.674638   \n",
       "...                               ...       ...            ...       ...   \n",
       "OFFCORSS VILLANUEVA         388322.30  0.187500       9.000000  0.658342   \n",
       "TIENDA  VIVA LAURELES       134151.30  0.285714       2.000000  0.665222   \n",
       "TIENDA LA ESTACION          134151.30  0.000000       0.000000  0.665222   \n",
       "TIENDA LA 14 CALIMA         134151.30  0.000000       0.000000  0.665222   \n",
       "MARKETPLACE                  73667.51  0.000000       1.666667  0.584546   \n",
       "\n",
       "                         VENTA_PESOS  VENTA_UNDS         COSTO  \\\n",
       "PUNTO_VENTA                                                      \n",
       "TIENDA EL TESORO          13344319.0        1104  4.415656e+06   \n",
       "TIENDA JARDIN PLAZA       13576252.0         863  4.459291e+06   \n",
       "TIENDA SANTAFÉ MEDELLIN   13246882.0         712  4.317685e+06   \n",
       "TIENDA CENTRO ANDINO      12751202.0         679  4.113941e+06   \n",
       "TIENDA  VIVA ENVIGADO     12574714.0         649  4.091336e+06   \n",
       "...                              ...         ...           ...   \n",
       "OFFCORSS VILLANUEVA         589848.7           9  2.015265e+05   \n",
       "TIENDA  VIVA LAURELES       201663.9           2  6.751254e+04   \n",
       "TIENDA LA ESTACION          201663.9           0  6.751254e+04   \n",
       "TIENDA LA 14 CALIMA         201663.9           0  6.751254e+04   \n",
       "MARKETPLACE                 126025.2           5  5.235770e+04   \n",
       "\n",
       "                         cluster_kmeans  Cluster_kmeans_contrained  \\\n",
       "PUNTO_VENTA                                                          \n",
       "TIENDA EL TESORO                      1                          2   \n",
       "TIENDA JARDIN PLAZA                   1                          2   \n",
       "TIENDA SANTAFÉ MEDELLIN               1                          2   \n",
       "TIENDA CENTRO ANDINO                  1                          2   \n",
       "TIENDA  VIVA ENVIGADO                 1                          2   \n",
       "...                                 ...                        ...   \n",
       "OFFCORSS VILLANUEVA                   3                          1   \n",
       "TIENDA  VIVA LAURELES                 3                          1   \n",
       "TIENDA LA ESTACION                    3                          1   \n",
       "TIENDA LA 14 CALIMA                   3                          1   \n",
       "MARKETPLACE                           3                          1   \n",
       "\n",
       "                         Cluster_Aglomerativo  Cluster_DBSCAN  Cluster_HDBSCAN  \n",
       "PUNTO_VENTA                                                                     \n",
       "TIENDA EL TESORO                            0              -1               -1  \n",
       "TIENDA JARDIN PLAZA                         0              -1                1  \n",
       "TIENDA SANTAFÉ MEDELLIN                     0              -1                1  \n",
       "TIENDA CENTRO ANDINO                        0              -1                1  \n",
       "TIENDA  VIVA ENVIGADO                       0              -1                1  \n",
       "...                                       ...             ...              ...  \n",
       "OFFCORSS VILLANUEVA                         3              -1               -1  \n",
       "TIENDA  VIVA LAURELES                       3              -1               -1  \n",
       "TIENDA LA ESTACION                          3              -1               -1  \n",
       "TIENDA LA 14 CALIMA                         3              -1               -1  \n",
       "MARKETPLACE                                 3              -1               -1  \n",
       "\n",
       "[93 rows x 12 columns]"
      ]
     },
     "execution_count": 81,
     "metadata": {},
     "output_type": "execute_result"
    }
   ],
   "source": [
    "resultado_modelos_jerarquicos"
   ]
  },
  {
   "cell_type": "code",
   "execution_count": null,
   "metadata": {},
   "outputs": [
    {
     "name": "stdout",
     "output_type": "stream",
     "text": [
      "cluster_kmeans\n",
      "2    47\n",
      "1    33\n",
      "3    12\n",
      "0     1\n",
      "Name: count, dtype: int64 \n",
      "\n",
      "Cluster_Aglomerativo\n",
      "0    47\n",
      "2    33\n",
      "3    10\n",
      "1     3\n",
      "Name: count, dtype: int64 \n",
      "\n",
      "Cluster_DBSCAN\n",
      "-1    24\n",
      " 3    22\n",
      " 0    17\n",
      " 2    14\n",
      " 1    10\n",
      " 4     6\n",
      "Name: count, dtype: int64 \n",
      "\n",
      "Cluster_HDBSCAN\n",
      " 0    23\n",
      " 1    22\n",
      "-1    14\n",
      " 4    14\n",
      " 3    10\n",
      " 2    10\n",
      "Name: count, dtype: int64 \n",
      "\n"
     ]
    }
   ],
   "source": [
    "print(resultado_modelos_jerarquicos.cluster_kmeans.value_counts(), '\\n')\n",
    "print(resultado_modelos_jerarquicos.Cluster_Aglomerativo.value_counts(), '\\n')\n",
    "print(resultado_modelos_jerarquicos.Cluster_DBSCAN.value_counts(), '\\n')\n",
    "print(resultado_modelos_jerarquicos.Cluster_HDBSCAN.value_counts(), '\\n')"
   ]
  },
  {
   "cell_type": "markdown",
   "metadata": {},
   "source": [
    "### Gráfica de los modelos"
   ]
  },
  {
   "cell_type": "code",
   "execution_count": null,
   "metadata": {},
   "outputs": [],
   "source": [
    "from plotly.subplots import make_subplots\n",
    "import plotly.graph_objects as go"
   ]
  },
  {
   "cell_type": "code",
   "execution_count": null,
   "metadata": {},
   "outputs": [
    {
     "data": {
      "application/vnd.plotly.v1+json": {
       "config": {
        "plotlyServerURL": "https://plot.ly"
       },
       "data": [
        {
         "marker": {
          "color": [
           0,
           0,
           0,
           0,
           0,
           0,
           0,
           0,
           0,
           0,
           0,
           0,
           0,
           0,
           0,
           0,
           0,
           0,
           0,
           0,
           0,
           0,
           0,
           0,
           0,
           0,
           0,
           0,
           0,
           0,
           0,
           0,
           0,
           0,
           0,
           0,
           0,
           0,
           0,
           0,
           0,
           0,
           0,
           0,
           2,
           0,
           0,
           0,
           2,
           2,
           2,
           2,
           2,
           2,
           2,
           2,
           2,
           2,
           2,
           2,
           2,
           2,
           2,
           2,
           2,
           2,
           2,
           2,
           2,
           2,
           2,
           2,
           2,
           2,
           2,
           2,
           2,
           2,
           1,
           3,
           2,
           2,
           3,
           3,
           1,
           3,
           3,
           1,
           3,
           3,
           3,
           3,
           3
          ]
         },
         "mode": "markers",
         "type": "scatter",
         "x": [
          1104,
          863,
          712,
          679,
          649,
          602,
          484,
          539,
          513,
          487,
          486,
          499,
          459,
          505,
          472,
          427,
          415,
          436,
          391,
          422,
          386,
          381,
          409,
          394,
          388,
          391,
          358,
          370,
          389,
          373,
          364,
          348,
          345,
          321,
          305,
          323,
          308,
          293,
          293,
          289,
          274,
          271,
          297,
          260,
          271,
          309,
          258,
          280,
          250,
          270,
          248,
          253,
          225,
          234,
          243,
          248,
          220,
          215,
          226,
          204,
          213,
          189,
          205,
          202,
          216,
          194,
          167,
          176,
          170,
          167,
          147,
          140,
          142,
          136,
          158,
          144,
          150,
          120,
          308,
          80,
          87,
          95,
          35,
          27,
          23,
          10,
          18,
          2,
          9,
          2,
          0,
          0,
          5
         ],
         "xaxis": "x",
         "y": [
          48,
          37.52174,
          30.95652,
          29.52174,
          28.21739,
          26.17391,
          21.04348,
          23.43478,
          22.30435,
          21.17391,
          21.13043,
          21.69565,
          19.95652,
          21.95652,
          22.47619,
          18.56522,
          18.04348,
          18.95652,
          18.61905,
          18.34783,
          16.78261,
          16.56522,
          17.78261,
          17.13043,
          16.86957,
          17,
          15.56522,
          16.08696,
          16.91304,
          16.21739,
          15.82609,
          15.13043,
          15,
          13.95652,
          13.86364,
          14.68182,
          13.3913,
          12.73913,
          12.73913,
          12.56522,
          11.91304,
          11.78261,
          12.91304,
          11.30435,
          11.78261,
          14.04545,
          11.21739,
          12.17391,
          10.86957,
          11.73913,
          10.78261,
          11,
          9.782609,
          10.17391,
          18.69231,
          10.78261,
          9.565217,
          9.772727,
          11.3,
          8.869565,
          9.26087,
          8.217391,
          8.913043,
          8.782609,
          9.391304,
          8.434783,
          7.26087,
          8,
          7.391304,
          7.26087,
          6.681818,
          7,
          6.173913,
          6.181818,
          7.181818,
          7.2,
          9.375,
          6,
          61.6,
          13.33333,
          4.833333,
          4.75,
          7,
          13.5,
          2.3,
          5,
          4.5,
          2,
          9,
          2,
          0,
          0,
          1.666667
         ],
         "yaxis": "y"
        },
        {
         "marker": {
          "color": [
           1,
           1,
           1,
           1,
           1,
           1,
           1,
           1,
           1,
           1,
           1,
           1,
           1,
           1,
           1,
           1,
           1,
           1,
           1,
           1,
           1,
           1,
           1,
           1,
           1,
           1,
           1,
           1,
           1,
           1,
           1,
           1,
           1,
           2,
           2,
           2,
           2,
           2,
           2,
           2,
           2,
           2,
           2,
           2,
           2,
           2,
           2,
           2,
           2,
           2,
           2,
           2,
           2,
           2,
           2,
           2,
           2,
           2,
           2,
           2,
           2,
           2,
           2,
           2,
           2,
           2,
           2,
           2,
           2,
           2,
           2,
           2,
           2,
           2,
           2,
           2,
           2,
           2,
           0,
           3,
           2,
           2,
           3,
           3,
           3,
           3,
           3,
           3,
           3,
           3,
           3,
           3,
           3
          ]
         },
         "mode": "markers",
         "type": "scatter",
         "x": [
          1104,
          863,
          712,
          679,
          649,
          602,
          484,
          539,
          513,
          487,
          486,
          499,
          459,
          505,
          472,
          427,
          415,
          436,
          391,
          422,
          386,
          381,
          409,
          394,
          388,
          391,
          358,
          370,
          389,
          373,
          364,
          348,
          345,
          321,
          305,
          323,
          308,
          293,
          293,
          289,
          274,
          271,
          297,
          260,
          271,
          309,
          258,
          280,
          250,
          270,
          248,
          253,
          225,
          234,
          243,
          248,
          220,
          215,
          226,
          204,
          213,
          189,
          205,
          202,
          216,
          194,
          167,
          176,
          170,
          167,
          147,
          140,
          142,
          136,
          158,
          144,
          150,
          120,
          308,
          80,
          87,
          95,
          35,
          27,
          23,
          10,
          18,
          2,
          9,
          2,
          0,
          0,
          5
         ],
         "xaxis": "x2",
         "y": [
          48,
          37.52174,
          30.95652,
          29.52174,
          28.21739,
          26.17391,
          21.04348,
          23.43478,
          22.30435,
          21.17391,
          21.13043,
          21.69565,
          19.95652,
          21.95652,
          22.47619,
          18.56522,
          18.04348,
          18.95652,
          18.61905,
          18.34783,
          16.78261,
          16.56522,
          17.78261,
          17.13043,
          16.86957,
          17,
          15.56522,
          16.08696,
          16.91304,
          16.21739,
          15.82609,
          15.13043,
          15,
          13.95652,
          13.86364,
          14.68182,
          13.3913,
          12.73913,
          12.73913,
          12.56522,
          11.91304,
          11.78261,
          12.91304,
          11.30435,
          11.78261,
          14.04545,
          11.21739,
          12.17391,
          10.86957,
          11.73913,
          10.78261,
          11,
          9.782609,
          10.17391,
          18.69231,
          10.78261,
          9.565217,
          9.772727,
          11.3,
          8.869565,
          9.26087,
          8.217391,
          8.913043,
          8.782609,
          9.391304,
          8.434783,
          7.26087,
          8,
          7.391304,
          7.26087,
          6.681818,
          7,
          6.173913,
          6.181818,
          7.181818,
          7.2,
          9.375,
          6,
          61.6,
          13.33333,
          4.833333,
          4.75,
          7,
          13.5,
          2.3,
          5,
          4.5,
          2,
          9,
          2,
          0,
          0,
          1.666667
         ],
         "yaxis": "y2"
        },
        {
         "marker": {
          "color": [
           -1,
           -1,
           -1,
           -1,
           -1,
           -1,
           0,
           0,
           0,
           0,
           0,
           0,
           0,
           0,
           0,
           0,
           0,
           0,
           0,
           0,
           0,
           1,
           0,
           0,
           1,
           1,
           1,
           1,
           1,
           1,
           1,
           1,
           1,
           2,
           2,
           2,
           2,
           2,
           2,
           2,
           2,
           2,
           2,
           2,
           3,
           2,
           2,
           2,
           3,
           3,
           3,
           3,
           3,
           3,
           -1,
           3,
           3,
           3,
           3,
           3,
           3,
           3,
           3,
           3,
           3,
           3,
           3,
           3,
           3,
           3,
           4,
           4,
           4,
           -1,
           4,
           4,
           -1,
           4,
           -1,
           -1,
           -1,
           -1,
           -1,
           -1,
           -1,
           -1,
           -1,
           -1,
           -1,
           -1,
           -1,
           -1,
           -1
          ]
         },
         "mode": "markers",
         "type": "scatter",
         "x": [
          1104,
          863,
          712,
          679,
          649,
          602,
          484,
          539,
          513,
          487,
          486,
          499,
          459,
          505,
          472,
          427,
          415,
          436,
          391,
          422,
          386,
          381,
          409,
          394,
          388,
          391,
          358,
          370,
          389,
          373,
          364,
          348,
          345,
          321,
          305,
          323,
          308,
          293,
          293,
          289,
          274,
          271,
          297,
          260,
          271,
          309,
          258,
          280,
          250,
          270,
          248,
          253,
          225,
          234,
          243,
          248,
          220,
          215,
          226,
          204,
          213,
          189,
          205,
          202,
          216,
          194,
          167,
          176,
          170,
          167,
          147,
          140,
          142,
          136,
          158,
          144,
          150,
          120,
          308,
          80,
          87,
          95,
          35,
          27,
          23,
          10,
          18,
          2,
          9,
          2,
          0,
          0,
          5
         ],
         "xaxis": "x3",
         "y": [
          48,
          37.52174,
          30.95652,
          29.52174,
          28.21739,
          26.17391,
          21.04348,
          23.43478,
          22.30435,
          21.17391,
          21.13043,
          21.69565,
          19.95652,
          21.95652,
          22.47619,
          18.56522,
          18.04348,
          18.95652,
          18.61905,
          18.34783,
          16.78261,
          16.56522,
          17.78261,
          17.13043,
          16.86957,
          17,
          15.56522,
          16.08696,
          16.91304,
          16.21739,
          15.82609,
          15.13043,
          15,
          13.95652,
          13.86364,
          14.68182,
          13.3913,
          12.73913,
          12.73913,
          12.56522,
          11.91304,
          11.78261,
          12.91304,
          11.30435,
          11.78261,
          14.04545,
          11.21739,
          12.17391,
          10.86957,
          11.73913,
          10.78261,
          11,
          9.782609,
          10.17391,
          18.69231,
          10.78261,
          9.565217,
          9.772727,
          11.3,
          8.869565,
          9.26087,
          8.217391,
          8.913043,
          8.782609,
          9.391304,
          8.434783,
          7.26087,
          8,
          7.391304,
          7.26087,
          6.681818,
          7,
          6.173913,
          6.181818,
          7.181818,
          7.2,
          9.375,
          6,
          61.6,
          13.33333,
          4.833333,
          4.75,
          7,
          13.5,
          2.3,
          5,
          4.5,
          2,
          9,
          2,
          0,
          0,
          1.666667
         ],
         "yaxis": "y3"
        },
        {
         "marker": {
          "color": [
           -1,
           1,
           1,
           1,
           1,
           1,
           1,
           1,
           1,
           1,
           1,
           1,
           1,
           1,
           1,
           1,
           1,
           1,
           1,
           1,
           1,
           3,
           1,
           1,
           3,
           3,
           3,
           3,
           3,
           3,
           3,
           3,
           3,
           4,
           4,
           4,
           4,
           4,
           4,
           4,
           4,
           4,
           4,
           4,
           0,
           4,
           4,
           4,
           0,
           0,
           0,
           0,
           0,
           0,
           0,
           0,
           0,
           0,
           0,
           0,
           0,
           0,
           0,
           0,
           0,
           0,
           0,
           0,
           0,
           0,
           2,
           2,
           2,
           2,
           2,
           2,
           2,
           2,
           -1,
           -1,
           2,
           2,
           -1,
           -1,
           -1,
           -1,
           -1,
           -1,
           -1,
           -1,
           -1,
           -1,
           -1
          ]
         },
         "mode": "markers",
         "type": "scatter",
         "x": [
          1104,
          863,
          712,
          679,
          649,
          602,
          484,
          539,
          513,
          487,
          486,
          499,
          459,
          505,
          472,
          427,
          415,
          436,
          391,
          422,
          386,
          381,
          409,
          394,
          388,
          391,
          358,
          370,
          389,
          373,
          364,
          348,
          345,
          321,
          305,
          323,
          308,
          293,
          293,
          289,
          274,
          271,
          297,
          260,
          271,
          309,
          258,
          280,
          250,
          270,
          248,
          253,
          225,
          234,
          243,
          248,
          220,
          215,
          226,
          204,
          213,
          189,
          205,
          202,
          216,
          194,
          167,
          176,
          170,
          167,
          147,
          140,
          142,
          136,
          158,
          144,
          150,
          120,
          308,
          80,
          87,
          95,
          35,
          27,
          23,
          10,
          18,
          2,
          9,
          2,
          0,
          0,
          5
         ],
         "xaxis": "x4",
         "y": [
          48,
          37.52174,
          30.95652,
          29.52174,
          28.21739,
          26.17391,
          21.04348,
          23.43478,
          22.30435,
          21.17391,
          21.13043,
          21.69565,
          19.95652,
          21.95652,
          22.47619,
          18.56522,
          18.04348,
          18.95652,
          18.61905,
          18.34783,
          16.78261,
          16.56522,
          17.78261,
          17.13043,
          16.86957,
          17,
          15.56522,
          16.08696,
          16.91304,
          16.21739,
          15.82609,
          15.13043,
          15,
          13.95652,
          13.86364,
          14.68182,
          13.3913,
          12.73913,
          12.73913,
          12.56522,
          11.91304,
          11.78261,
          12.91304,
          11.30435,
          11.78261,
          14.04545,
          11.21739,
          12.17391,
          10.86957,
          11.73913,
          10.78261,
          11,
          9.782609,
          10.17391,
          18.69231,
          10.78261,
          9.565217,
          9.772727,
          11.3,
          8.869565,
          9.26087,
          8.217391,
          8.913043,
          8.782609,
          9.391304,
          8.434783,
          7.26087,
          8,
          7.391304,
          7.26087,
          6.681818,
          7,
          6.173913,
          6.181818,
          7.181818,
          7.2,
          9.375,
          6,
          61.6,
          13.33333,
          4.833333,
          4.75,
          7,
          13.5,
          2.3,
          5,
          4.5,
          2,
          9,
          2,
          0,
          0,
          1.666667
         ],
         "yaxis": "y4"
        }
       ],
       "layout": {
        "annotations": [
         {
          "font": {
           "size": 16
          },
          "showarrow": false,
          "text": "Cluster Aglomerativo",
          "x": 0.225,
          "xanchor": "center",
          "xref": "paper",
          "y": 1,
          "yanchor": "bottom",
          "yref": "paper"
         },
         {
          "font": {
           "size": 16
          },
          "showarrow": false,
          "text": "Cluster KMeans",
          "x": 0.775,
          "xanchor": "center",
          "xref": "paper",
          "y": 1,
          "yanchor": "bottom",
          "yref": "paper"
         },
         {
          "font": {
           "size": 16
          },
          "showarrow": false,
          "text": "Cluster DBSCAN",
          "x": 0.225,
          "xanchor": "center",
          "xref": "paper",
          "y": 0.375,
          "yanchor": "bottom",
          "yref": "paper"
         },
         {
          "font": {
           "size": 16
          },
          "showarrow": false,
          "text": "Cluster HDBSCAN",
          "x": 0.775,
          "xanchor": "center",
          "xref": "paper",
          "y": 0.375,
          "yanchor": "bottom",
          "yref": "paper"
         }
        ],
        "template": {
         "data": {
          "bar": [
           {
            "error_x": {
             "color": "#2a3f5f"
            },
            "error_y": {
             "color": "#2a3f5f"
            },
            "marker": {
             "line": {
              "color": "#E5ECF6",
              "width": 0.5
             },
             "pattern": {
              "fillmode": "overlay",
              "size": 10,
              "solidity": 0.2
             }
            },
            "type": "bar"
           }
          ],
          "barpolar": [
           {
            "marker": {
             "line": {
              "color": "#E5ECF6",
              "width": 0.5
             },
             "pattern": {
              "fillmode": "overlay",
              "size": 10,
              "solidity": 0.2
             }
            },
            "type": "barpolar"
           }
          ],
          "carpet": [
           {
            "aaxis": {
             "endlinecolor": "#2a3f5f",
             "gridcolor": "white",
             "linecolor": "white",
             "minorgridcolor": "white",
             "startlinecolor": "#2a3f5f"
            },
            "baxis": {
             "endlinecolor": "#2a3f5f",
             "gridcolor": "white",
             "linecolor": "white",
             "minorgridcolor": "white",
             "startlinecolor": "#2a3f5f"
            },
            "type": "carpet"
           }
          ],
          "choropleth": [
           {
            "colorbar": {
             "outlinewidth": 0,
             "ticks": ""
            },
            "type": "choropleth"
           }
          ],
          "contour": [
           {
            "colorbar": {
             "outlinewidth": 0,
             "ticks": ""
            },
            "colorscale": [
             [
              0,
              "#0d0887"
             ],
             [
              0.1111111111111111,
              "#46039f"
             ],
             [
              0.2222222222222222,
              "#7201a8"
             ],
             [
              0.3333333333333333,
              "#9c179e"
             ],
             [
              0.4444444444444444,
              "#bd3786"
             ],
             [
              0.5555555555555556,
              "#d8576b"
             ],
             [
              0.6666666666666666,
              "#ed7953"
             ],
             [
              0.7777777777777778,
              "#fb9f3a"
             ],
             [
              0.8888888888888888,
              "#fdca26"
             ],
             [
              1,
              "#f0f921"
             ]
            ],
            "type": "contour"
           }
          ],
          "contourcarpet": [
           {
            "colorbar": {
             "outlinewidth": 0,
             "ticks": ""
            },
            "type": "contourcarpet"
           }
          ],
          "heatmap": [
           {
            "colorbar": {
             "outlinewidth": 0,
             "ticks": ""
            },
            "colorscale": [
             [
              0,
              "#0d0887"
             ],
             [
              0.1111111111111111,
              "#46039f"
             ],
             [
              0.2222222222222222,
              "#7201a8"
             ],
             [
              0.3333333333333333,
              "#9c179e"
             ],
             [
              0.4444444444444444,
              "#bd3786"
             ],
             [
              0.5555555555555556,
              "#d8576b"
             ],
             [
              0.6666666666666666,
              "#ed7953"
             ],
             [
              0.7777777777777778,
              "#fb9f3a"
             ],
             [
              0.8888888888888888,
              "#fdca26"
             ],
             [
              1,
              "#f0f921"
             ]
            ],
            "type": "heatmap"
           }
          ],
          "heatmapgl": [
           {
            "colorbar": {
             "outlinewidth": 0,
             "ticks": ""
            },
            "colorscale": [
             [
              0,
              "#0d0887"
             ],
             [
              0.1111111111111111,
              "#46039f"
             ],
             [
              0.2222222222222222,
              "#7201a8"
             ],
             [
              0.3333333333333333,
              "#9c179e"
             ],
             [
              0.4444444444444444,
              "#bd3786"
             ],
             [
              0.5555555555555556,
              "#d8576b"
             ],
             [
              0.6666666666666666,
              "#ed7953"
             ],
             [
              0.7777777777777778,
              "#fb9f3a"
             ],
             [
              0.8888888888888888,
              "#fdca26"
             ],
             [
              1,
              "#f0f921"
             ]
            ],
            "type": "heatmapgl"
           }
          ],
          "histogram": [
           {
            "marker": {
             "pattern": {
              "fillmode": "overlay",
              "size": 10,
              "solidity": 0.2
             }
            },
            "type": "histogram"
           }
          ],
          "histogram2d": [
           {
            "colorbar": {
             "outlinewidth": 0,
             "ticks": ""
            },
            "colorscale": [
             [
              0,
              "#0d0887"
             ],
             [
              0.1111111111111111,
              "#46039f"
             ],
             [
              0.2222222222222222,
              "#7201a8"
             ],
             [
              0.3333333333333333,
              "#9c179e"
             ],
             [
              0.4444444444444444,
              "#bd3786"
             ],
             [
              0.5555555555555556,
              "#d8576b"
             ],
             [
              0.6666666666666666,
              "#ed7953"
             ],
             [
              0.7777777777777778,
              "#fb9f3a"
             ],
             [
              0.8888888888888888,
              "#fdca26"
             ],
             [
              1,
              "#f0f921"
             ]
            ],
            "type": "histogram2d"
           }
          ],
          "histogram2dcontour": [
           {
            "colorbar": {
             "outlinewidth": 0,
             "ticks": ""
            },
            "colorscale": [
             [
              0,
              "#0d0887"
             ],
             [
              0.1111111111111111,
              "#46039f"
             ],
             [
              0.2222222222222222,
              "#7201a8"
             ],
             [
              0.3333333333333333,
              "#9c179e"
             ],
             [
              0.4444444444444444,
              "#bd3786"
             ],
             [
              0.5555555555555556,
              "#d8576b"
             ],
             [
              0.6666666666666666,
              "#ed7953"
             ],
             [
              0.7777777777777778,
              "#fb9f3a"
             ],
             [
              0.8888888888888888,
              "#fdca26"
             ],
             [
              1,
              "#f0f921"
             ]
            ],
            "type": "histogram2dcontour"
           }
          ],
          "mesh3d": [
           {
            "colorbar": {
             "outlinewidth": 0,
             "ticks": ""
            },
            "type": "mesh3d"
           }
          ],
          "parcoords": [
           {
            "line": {
             "colorbar": {
              "outlinewidth": 0,
              "ticks": ""
             }
            },
            "type": "parcoords"
           }
          ],
          "pie": [
           {
            "automargin": true,
            "type": "pie"
           }
          ],
          "scatter": [
           {
            "fillpattern": {
             "fillmode": "overlay",
             "size": 10,
             "solidity": 0.2
            },
            "type": "scatter"
           }
          ],
          "scatter3d": [
           {
            "line": {
             "colorbar": {
              "outlinewidth": 0,
              "ticks": ""
             }
            },
            "marker": {
             "colorbar": {
              "outlinewidth": 0,
              "ticks": ""
             }
            },
            "type": "scatter3d"
           }
          ],
          "scattercarpet": [
           {
            "marker": {
             "colorbar": {
              "outlinewidth": 0,
              "ticks": ""
             }
            },
            "type": "scattercarpet"
           }
          ],
          "scattergeo": [
           {
            "marker": {
             "colorbar": {
              "outlinewidth": 0,
              "ticks": ""
             }
            },
            "type": "scattergeo"
           }
          ],
          "scattergl": [
           {
            "marker": {
             "colorbar": {
              "outlinewidth": 0,
              "ticks": ""
             }
            },
            "type": "scattergl"
           }
          ],
          "scattermapbox": [
           {
            "marker": {
             "colorbar": {
              "outlinewidth": 0,
              "ticks": ""
             }
            },
            "type": "scattermapbox"
           }
          ],
          "scatterpolar": [
           {
            "marker": {
             "colorbar": {
              "outlinewidth": 0,
              "ticks": ""
             }
            },
            "type": "scatterpolar"
           }
          ],
          "scatterpolargl": [
           {
            "marker": {
             "colorbar": {
              "outlinewidth": 0,
              "ticks": ""
             }
            },
            "type": "scatterpolargl"
           }
          ],
          "scatterternary": [
           {
            "marker": {
             "colorbar": {
              "outlinewidth": 0,
              "ticks": ""
             }
            },
            "type": "scatterternary"
           }
          ],
          "surface": [
           {
            "colorbar": {
             "outlinewidth": 0,
             "ticks": ""
            },
            "colorscale": [
             [
              0,
              "#0d0887"
             ],
             [
              0.1111111111111111,
              "#46039f"
             ],
             [
              0.2222222222222222,
              "#7201a8"
             ],
             [
              0.3333333333333333,
              "#9c179e"
             ],
             [
              0.4444444444444444,
              "#bd3786"
             ],
             [
              0.5555555555555556,
              "#d8576b"
             ],
             [
              0.6666666666666666,
              "#ed7953"
             ],
             [
              0.7777777777777778,
              "#fb9f3a"
             ],
             [
              0.8888888888888888,
              "#fdca26"
             ],
             [
              1,
              "#f0f921"
             ]
            ],
            "type": "surface"
           }
          ],
          "table": [
           {
            "cells": {
             "fill": {
              "color": "#EBF0F8"
             },
             "line": {
              "color": "white"
             }
            },
            "header": {
             "fill": {
              "color": "#C8D4E3"
             },
             "line": {
              "color": "white"
             }
            },
            "type": "table"
           }
          ]
         },
         "layout": {
          "annotationdefaults": {
           "arrowcolor": "#2a3f5f",
           "arrowhead": 0,
           "arrowwidth": 1
          },
          "autotypenumbers": "strict",
          "coloraxis": {
           "colorbar": {
            "outlinewidth": 0,
            "ticks": ""
           }
          },
          "colorscale": {
           "diverging": [
            [
             0,
             "#8e0152"
            ],
            [
             0.1,
             "#c51b7d"
            ],
            [
             0.2,
             "#de77ae"
            ],
            [
             0.3,
             "#f1b6da"
            ],
            [
             0.4,
             "#fde0ef"
            ],
            [
             0.5,
             "#f7f7f7"
            ],
            [
             0.6,
             "#e6f5d0"
            ],
            [
             0.7,
             "#b8e186"
            ],
            [
             0.8,
             "#7fbc41"
            ],
            [
             0.9,
             "#4d9221"
            ],
            [
             1,
             "#276419"
            ]
           ],
           "sequential": [
            [
             0,
             "#0d0887"
            ],
            [
             0.1111111111111111,
             "#46039f"
            ],
            [
             0.2222222222222222,
             "#7201a8"
            ],
            [
             0.3333333333333333,
             "#9c179e"
            ],
            [
             0.4444444444444444,
             "#bd3786"
            ],
            [
             0.5555555555555556,
             "#d8576b"
            ],
            [
             0.6666666666666666,
             "#ed7953"
            ],
            [
             0.7777777777777778,
             "#fb9f3a"
            ],
            [
             0.8888888888888888,
             "#fdca26"
            ],
            [
             1,
             "#f0f921"
            ]
           ],
           "sequentialminus": [
            [
             0,
             "#0d0887"
            ],
            [
             0.1111111111111111,
             "#46039f"
            ],
            [
             0.2222222222222222,
             "#7201a8"
            ],
            [
             0.3333333333333333,
             "#9c179e"
            ],
            [
             0.4444444444444444,
             "#bd3786"
            ],
            [
             0.5555555555555556,
             "#d8576b"
            ],
            [
             0.6666666666666666,
             "#ed7953"
            ],
            [
             0.7777777777777778,
             "#fb9f3a"
            ],
            [
             0.8888888888888888,
             "#fdca26"
            ],
            [
             1,
             "#f0f921"
            ]
           ]
          },
          "colorway": [
           "#636efa",
           "#EF553B",
           "#00cc96",
           "#ab63fa",
           "#FFA15A",
           "#19d3f3",
           "#FF6692",
           "#B6E880",
           "#FF97FF",
           "#FECB52"
          ],
          "font": {
           "color": "#2a3f5f"
          },
          "geo": {
           "bgcolor": "white",
           "lakecolor": "white",
           "landcolor": "#E5ECF6",
           "showlakes": true,
           "showland": true,
           "subunitcolor": "white"
          },
          "hoverlabel": {
           "align": "left"
          },
          "hovermode": "closest",
          "mapbox": {
           "style": "light"
          },
          "paper_bgcolor": "white",
          "plot_bgcolor": "#E5ECF6",
          "polar": {
           "angularaxis": {
            "gridcolor": "white",
            "linecolor": "white",
            "ticks": ""
           },
           "bgcolor": "#E5ECF6",
           "radialaxis": {
            "gridcolor": "white",
            "linecolor": "white",
            "ticks": ""
           }
          },
          "scene": {
           "xaxis": {
            "backgroundcolor": "#E5ECF6",
            "gridcolor": "white",
            "gridwidth": 2,
            "linecolor": "white",
            "showbackground": true,
            "ticks": "",
            "zerolinecolor": "white"
           },
           "yaxis": {
            "backgroundcolor": "#E5ECF6",
            "gridcolor": "white",
            "gridwidth": 2,
            "linecolor": "white",
            "showbackground": true,
            "ticks": "",
            "zerolinecolor": "white"
           },
           "zaxis": {
            "backgroundcolor": "#E5ECF6",
            "gridcolor": "white",
            "gridwidth": 2,
            "linecolor": "white",
            "showbackground": true,
            "ticks": "",
            "zerolinecolor": "white"
           }
          },
          "shapedefaults": {
           "line": {
            "color": "#2a3f5f"
           }
          },
          "ternary": {
           "aaxis": {
            "gridcolor": "white",
            "linecolor": "white",
            "ticks": ""
           },
           "baxis": {
            "gridcolor": "white",
            "linecolor": "white",
            "ticks": ""
           },
           "bgcolor": "#E5ECF6",
           "caxis": {
            "gridcolor": "white",
            "linecolor": "white",
            "ticks": ""
           }
          },
          "title": {
           "x": 0.05
          },
          "xaxis": {
           "automargin": true,
           "gridcolor": "white",
           "linecolor": "white",
           "ticks": "",
           "title": {
            "standoff": 15
           },
           "zerolinecolor": "white",
           "zerolinewidth": 2
          },
          "yaxis": {
           "automargin": true,
           "gridcolor": "white",
           "linecolor": "white",
           "ticks": "",
           "title": {
            "standoff": 15
           },
           "zerolinecolor": "white",
           "zerolinewidth": 2
          }
         }
        },
        "xaxis": {
         "anchor": "y",
         "domain": [
          0,
          0.45
         ]
        },
        "xaxis2": {
         "anchor": "y2",
         "domain": [
          0.55,
          1
         ]
        },
        "xaxis3": {
         "anchor": "y3",
         "domain": [
          0,
          0.45
         ]
        },
        "xaxis4": {
         "anchor": "y4",
         "domain": [
          0.55,
          1
         ]
        },
        "yaxis": {
         "anchor": "x",
         "domain": [
          0.625,
          1
         ]
        },
        "yaxis2": {
         "anchor": "x2",
         "domain": [
          0.625,
          1
         ]
        },
        "yaxis3": {
         "anchor": "x3",
         "domain": [
          0,
          0.375
         ]
        },
        "yaxis4": {
         "anchor": "x4",
         "domain": [
          0,
          0.375
         ]
        }
       }
      }
     },
     "metadata": {},
     "output_type": "display_data"
    }
   ],
   "source": [
    "fig = make_subplots(rows=2, cols=2,\n",
    "                    subplot_titles=(\"Cluster Aglomerativo\", \"Cluster KMeans\", \"Cluster DBSCAN\", \"Cluster HDBSCAN\"))\n",
    "\n",
    "\n",
    "fig.add_trace(go.Scatter(x=resultado_modelos_jerarquicos['VENTA_UNDS'],\n",
    "                         y=resultado_modelos_jerarquicos['VENTA_POR_MES'],\n",
    "                         mode='markers',\n",
    "                         marker= dict(\n",
    "                                color=resultado_modelos_jerarquicos['Cluster_Aglomerativo']\n",
    "                            ),\n",
    "                         ), \n",
    "                         row=1, col=1,\n",
    "                         )\n",
    "\n",
    "fig.add_trace(go.Scatter(x=resultado_modelos_jerarquicos['VENTA_UNDS'],\n",
    "                         y=resultado_modelos_jerarquicos['VENTA_POR_MES'],\n",
    "                         mode='markers',\n",
    "                         marker= dict(\n",
    "                                color=resultado_modelos_jerarquicos['cluster_kmeans']\n",
    "                            ),\n",
    "                         ), \n",
    "                         row=1, col=2,\n",
    "                         )\n",
    "\n",
    "\n",
    "fig.add_trace(go.Scatter(x=resultado_modelos_jerarquicos['VENTA_UNDS'],\n",
    "                         y=resultado_modelos_jerarquicos['VENTA_POR_MES'],\n",
    "                         mode='markers',\n",
    "                         marker= dict(\n",
    "                                color=resultado_modelos_jerarquicos['Cluster_DBSCAN']\n",
    "                            ),\n",
    "                         ), \n",
    "                         row=2, col=1,\n",
    "                         )\n",
    "\n",
    "\n",
    "fig.add_trace(go.Scatter(x=resultado_modelos_jerarquicos['VENTA_UNDS'],\n",
    "                         y=resultado_modelos_jerarquicos['VENTA_POR_MES'],\n",
    "                         mode='markers',\n",
    "                         marker= dict(\n",
    "                                color=resultado_modelos_jerarquicos['Cluster_HDBSCAN']\n",
    "                            ),\n",
    "                         ), \n",
    "                         row=2, col=2,\n",
    "                         )"
   ]
  },
  {
   "cell_type": "code",
   "execution_count": null,
   "metadata": {},
   "outputs": [
    {
     "ename": "FailSafeException",
     "evalue": "PyAutoGUI fail-safe triggered from mouse moving to a corner of the screen. To disable this fail-safe, set pyautogui.FAILSAFE to False. DISABLING FAIL-SAFE IS NOT RECOMMENDED.",
     "output_type": "error",
     "traceback": [
      "\u001b[1;31m---------------------------------------------------------------------------\u001b[0m",
      "\u001b[1;31mFailSafeException\u001b[0m                         Traceback (most recent call last)",
      "Cell \u001b[1;32mIn[5], line 22\u001b[0m\n\u001b[0;32m     20\u001b[0m \u001b[38;5;66;03m# Realizar clics en el centro de la pantalla hasta que se cumpla la duración especificada\u001b[39;00m\n\u001b[0;32m     21\u001b[0m \u001b[38;5;28;01mwhile\u001b[39;00m time\u001b[38;5;241m.\u001b[39mtime() \u001b[38;5;241m-\u001b[39m start_time \u001b[38;5;241m<\u001b[39m duration_seconds:\n\u001b[1;32m---> 22\u001b[0m     \u001b[43mpyautogui\u001b[49m\u001b[38;5;241;43m.\u001b[39;49m\u001b[43mclick\u001b[49m\u001b[43m(\u001b[49m\u001b[43mcenter_x\u001b[49m\u001b[43m,\u001b[49m\u001b[43m \u001b[49m\u001b[43mcenter_y\u001b[49m\u001b[43m)\u001b[49m\n\u001b[0;32m     23\u001b[0m     time\u001b[38;5;241m.\u001b[39msleep(interval)\n\u001b[0;32m     25\u001b[0m \u001b[38;5;28mprint\u001b[39m(\u001b[38;5;124m\"\u001b[39m\u001b[38;5;124mFinalizado\u001b[39m\u001b[38;5;124m\"\u001b[39m)\n",
      "File \u001b[1;32mc:\\Users\\HELENAMM\\AppData\\Local\\Programs\\Python\\Python312\\Lib\\site-packages\\pyautogui\\__init__.py:593\u001b[0m, in \u001b[0;36m_genericPyAutoGUIChecks.<locals>.wrapper\u001b[1;34m(*args, **kwargs)\u001b[0m\n\u001b[0;32m    591\u001b[0m \u001b[38;5;129m@functools\u001b[39m\u001b[38;5;241m.\u001b[39mwraps(wrappedFunction)\n\u001b[0;32m    592\u001b[0m \u001b[38;5;28;01mdef\u001b[39;00m \u001b[38;5;21mwrapper\u001b[39m(\u001b[38;5;241m*\u001b[39margs, \u001b[38;5;241m*\u001b[39m\u001b[38;5;241m*\u001b[39mkwargs):\n\u001b[1;32m--> 593\u001b[0m     \u001b[43mfailSafeCheck\u001b[49m\u001b[43m(\u001b[49m\u001b[43m)\u001b[49m\n\u001b[0;32m    594\u001b[0m     returnVal \u001b[38;5;241m=\u001b[39m wrappedFunction(\u001b[38;5;241m*\u001b[39margs, \u001b[38;5;241m*\u001b[39m\u001b[38;5;241m*\u001b[39mkwargs)\n\u001b[0;32m    595\u001b[0m     _handlePause(kwargs\u001b[38;5;241m.\u001b[39mget(\u001b[38;5;124m\"\u001b[39m\u001b[38;5;124m_pause\u001b[39m\u001b[38;5;124m\"\u001b[39m, \u001b[38;5;28;01mTrue\u001b[39;00m))\n",
      "File \u001b[1;32mc:\\Users\\HELENAMM\\AppData\\Local\\Programs\\Python\\Python312\\Lib\\site-packages\\pyautogui\\__init__.py:1734\u001b[0m, in \u001b[0;36mfailSafeCheck\u001b[1;34m()\u001b[0m\n\u001b[0;32m   1732\u001b[0m \u001b[38;5;28;01mdef\u001b[39;00m \u001b[38;5;21mfailSafeCheck\u001b[39m():\n\u001b[0;32m   1733\u001b[0m     \u001b[38;5;28;01mif\u001b[39;00m FAILSAFE \u001b[38;5;129;01mand\u001b[39;00m \u001b[38;5;28mtuple\u001b[39m(position()) \u001b[38;5;129;01min\u001b[39;00m FAILSAFE_POINTS:\n\u001b[1;32m-> 1734\u001b[0m         \u001b[38;5;28;01mraise\u001b[39;00m FailSafeException(\n\u001b[0;32m   1735\u001b[0m             \u001b[38;5;124m\"\u001b[39m\u001b[38;5;124mPyAutoGUI fail-safe triggered from mouse moving to a corner of the screen. To disable this fail-safe, set pyautogui.FAILSAFE to False. DISABLING FAIL-SAFE IS NOT RECOMMENDED.\u001b[39m\u001b[38;5;124m\"\u001b[39m\n\u001b[0;32m   1736\u001b[0m         )\n",
      "\u001b[1;31mFailSafeException\u001b[0m: PyAutoGUI fail-safe triggered from mouse moving to a corner of the screen. To disable this fail-safe, set pyautogui.FAILSAFE to False. DISABLING FAIL-SAFE IS NOT RECOMMENDED."
     ]
    }
   ],
   "source": [
    "\n"
   ]
  }
 ],
 "metadata": {
  "kernelspec": {
   "display_name": "Python 3",
   "language": "python",
   "name": "python3"
  },
  "language_info": {
   "codemirror_mode": {
    "name": "ipython",
    "version": 3
   },
   "file_extension": ".py",
   "mimetype": "text/x-python",
   "name": "python",
   "nbconvert_exporter": "python",
   "pygments_lexer": "ipython3",
   "version": "3.12.3"
  }
 },
 "nbformat": 4,
 "nbformat_minor": 2
}
